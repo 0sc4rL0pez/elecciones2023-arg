{
 "cells": [
  {
   "cell_type": "markdown",
   "metadata": {},
   "source": [
    "# Revisando datos oficiales\n",
    "Están disponibles en https://www.argentina.gob.ar/dine/resultados-electorales"
   ]
  },
  {
   "cell_type": "code",
   "execution_count": 2,
   "metadata": {},
   "outputs": [],
   "source": [
    "import pandas as pd\n",
    "import glob "
   ]
  },
  {
   "cell_type": "code",
   "execution_count": 16,
   "metadata": {},
   "outputs": [],
   "source": [
    "generales_2011 = 'C:/Users/54911/Downloads/2011-provisorios_generales/2011_Generales/*'"
   ]
  },
  {
   "cell_type": "code",
   "execution_count": 17,
   "metadata": {},
   "outputs": [],
   "source": [
    "diretorios = glob.glob(generales_2011)"
   ]
  },
  {
   "cell_type": "code",
   "execution_count": 18,
   "metadata": {},
   "outputs": [
    {
     "data": {
      "text/plain": [
       "['C:/Users/54911/Downloads/2011-provisorios_generales/2011_Generales\\\\Ambitos_Generales_2011.csv',\n",
       " 'C:/Users/54911/Downloads/2011-provisorios_generales/2011_Generales\\\\colores_2011.csv',\n",
       " 'C:/Users/54911/Downloads/2011-provisorios_generales/2011_Generales\\\\ResultadosElectorales.csv']"
      ]
     },
     "execution_count": 18,
     "metadata": {},
     "output_type": "execute_result"
    }
   ],
   "source": [
    "diretorios"
   ]
  },
  {
   "cell_type": "code",
   "execution_count": 20,
   "metadata": {},
   "outputs": [],
   "source": [
    "colores = pd.read_csv(diretorios[1])\n",
    "ambitos_gral = pd.read_csv(diretorios[0])\n"
   ]
  },
  {
   "cell_type": "code",
   "execution_count": null,
   "metadata": {},
   "outputs": [],
   "source": [
    "resultados_gral = pd.read_csv(diretorios[2])"
   ]
  },
  {
   "cell_type": "code",
   "execution_count": 22,
   "metadata": {},
   "outputs": [
    {
     "data": {
      "text/plain": [
       "Index(['año', 'distrito_id', 'Distrito', 'idAgrupacion', 'Agrupacion',\n",
       "       'color'],\n",
       "      dtype='object')"
      ]
     },
     "execution_count": 22,
     "metadata": {},
     "output_type": "execute_result"
    }
   ],
   "source": [
    "colores.columns"
   ]
  },
  {
   "cell_type": "code",
   "execution_count": 23,
   "metadata": {},
   "outputs": [
    {
     "data": {
      "text/plain": [
       "Index(['año', 'distrito_id', 'distrito_nombre', 'seccionprovincial_id',\n",
       "       'seccionprovincial_nombre', 'seccion_id', 'seccion_nombre'],\n",
       "      dtype='object')"
      ]
     },
     "execution_count": 23,
     "metadata": {},
     "output_type": "execute_result"
    }
   ],
   "source": [
    "ambitos_gral.columns"
   ]
  },
  {
   "cell_type": "code",
   "execution_count": 24,
   "metadata": {},
   "outputs": [
    {
     "data": {
      "text/plain": [
       "Index(['año', 'eleccion_tipo', 'recuento_tipo', 'padron_tipo', 'distrito_id',\n",
       "       'distrito_nombre', 'seccionprovincial_id', 'seccionprovincial_nombre',\n",
       "       'seccion_id', 'seccion_nombre', 'circuito_id', 'circuito_nombre',\n",
       "       'mesa_id', 'mesa_electores', 'mesa_tipo', 'cargo_id', 'cargo_nombre',\n",
       "       'agrupacion_id', 'agrupacion_nombre', 'lista_numero', 'lista_nombre',\n",
       "       'votos_tipo', 'votos_cantidad'],\n",
       "      dtype='object')"
      ]
     },
     "execution_count": 24,
     "metadata": {},
     "output_type": "execute_result"
    }
   ],
   "source": [
    "resultados_gral.columns"
   ]
  },
  {
   "cell_type": "code",
   "execution_count": 27,
   "metadata": {},
   "outputs": [
    {
     "data": {
      "text/plain": [
       "'GENERALES'"
      ]
     },
     "execution_count": 27,
     "metadata": {},
     "output_type": "execute_result"
    }
   ],
   "source": [
    "resultados_gral['eleccion_tipo'].unique()[0]"
   ]
  },
  {
   "cell_type": "code",
   "execution_count": 16,
   "metadata": {},
   "outputs": [],
   "source": [
    "def contar_votos(df):\n",
    "    mayor_0 = df['votos_cantidad']>0\n",
    "    presidente = df['cargo_nombre']=='PRESIDENTE'\n",
    "    votos_positivo = df['votos_tipo']=='POSITIVO'\n",
    "    elecciones = df[(mayor_0) & (presidente) & (votos_positivo)].loc[:,['agrupacion_nombre','votos_cantidad']]\n",
    "\n",
    "    nombres_partidos = elecciones['agrupacion_nombre'].unique()\n",
    "    total_votantes = elecciones['votos_cantidad'].sum()\n",
    "    tipo = df['eleccion_tipo'].unique()[0]\n",
    "    anio = df['año'].unique()[0]\n",
    "\n",
    "    cantidad_votos = dict()\n",
    "    for partido in nombres_partidos:\n",
    "        cantidad_votos[f'{partido}'] = 0\n",
    "        cantidad_votos[f'{partido}']+=elecciones[elecciones['agrupacion_nombre']==partido]['votos_cantidad'].sum()\n",
    "\n",
    "            \n",
    "\n",
    "    cantidad_df = pd.DataFrame.from_dict({'Nombre_partido':cantidad_votos.keys(),'Cantidad_votos':cantidad_votos.values()})\n",
    "    cantidad_df.sort_values(by='Cantidad_votos',ascending=False,inplace=True)\n",
    "    cantidad_df['total_votantes'] = total_votantes\n",
    "    cantidad_df['tipo'] = tipo\n",
    "    cantidad_df['anio'] = anio\n",
    "    \n",
    "\n",
    "    cantidad_df.to_csv(f'C:/Users/54911/OneDrive/Escritorio/Data Science/Elecciones + IA/getting_data/public_datasets/datos_provisorios_{anio}_{tipo}.csv',index=False)"
   ]
  },
  {
   "cell_type": "code",
   "execution_count": 33,
   "metadata": {},
   "outputs": [],
   "source": [
    "contar_votos(resultados_gral)"
   ]
  },
  {
   "cell_type": "code",
   "execution_count": 37,
   "metadata": {},
   "outputs": [],
   "source": [
    "paso_2011 = 'C:/Users/54911/Downloads/2011-provisorios_paso/2011_PASO'"
   ]
  },
  {
   "cell_type": "code",
   "execution_count": 38,
   "metadata": {},
   "outputs": [
    {
     "name": "stderr",
     "output_type": "stream",
     "text": [
      "C:\\Users\\54911\\AppData\\Local\\Temp\\ipykernel_12516\\742681153.py:1: DtypeWarning: Columns (20) have mixed types. Specify dtype option on import or set low_memory=False.\n",
      "  paso_2011_resultados = pd.read_csv(paso_2011+'/ResultadosElectorales.csv')\n"
     ]
    }
   ],
   "source": [
    "paso_2011_resultados = pd.read_csv(paso_2011+'/ResultadosElectorales.csv')"
   ]
  },
  {
   "cell_type": "code",
   "execution_count": 40,
   "metadata": {},
   "outputs": [
    {
     "data": {
      "text/plain": [
       "Index(['Año', 'eleccion_tipo', 'recuento_tipo', 'padron_tipo', 'distrito_id',\n",
       "       'distrito_nombre', 'seccionprovincial_id', 'seccionprovincial_nombre',\n",
       "       'seccion_id', 'seccion_nombre', 'circuito_id', 'circuito_nombre',\n",
       "       'mesa_id', 'mesa_electores', 'mesa_tipo', 'cargo_id', 'cargo_nombre',\n",
       "       'agrupacion_id', 'agrupacion_nombre', 'lista_numero', 'lista_nombre',\n",
       "       'votos_tipo', 'votos_cantidad'],\n",
       "      dtype='object')"
      ]
     },
     "execution_count": 40,
     "metadata": {},
     "output_type": "execute_result"
    }
   ],
   "source": [
    "paso_2011_resultados.columns"
   ]
  },
  {
   "cell_type": "code",
   "execution_count": 42,
   "metadata": {},
   "outputs": [],
   "source": [
    "contar_votos(paso_2011_resultados)"
   ]
  },
  {
   "cell_type": "code",
   "execution_count": 11,
   "metadata": {},
   "outputs": [],
   "source": [
    "def guardar_csv(dir):\n",
    "    resultados = pd.read_csv(dir)\n",
    "    contar_votos(resultados)"
   ]
  },
  {
   "cell_type": "code",
   "execution_count": 4,
   "metadata": {},
   "outputs": [],
   "source": [
    "paso_2015 = 'C:/Users/54911/Downloads/2015-PROVISORIOS_PASO/2015_PASO/ResultadosElectorales.csv'"
   ]
  },
  {
   "cell_type": "code",
   "execution_count": 5,
   "metadata": {},
   "outputs": [],
   "source": [
    "df = pd.read_csv(paso_2015)"
   ]
  },
  {
   "cell_type": "code",
   "execution_count": 6,
   "metadata": {},
   "outputs": [
    {
     "data": {
      "text/plain": [
       "Index(['año', 'eleccion_tipo', 'recuento_tipo', 'padron_tipo', 'distrito_id',\n",
       "       'distrito_nombre', 'seccionprovincial_id', 'seccionprovincial_nombre',\n",
       "       'seccion_id', 'seccion_nombre', 'circuito_id', 'circuito_nombre',\n",
       "       'mesa_id', 'mesa_electores', 'mesa_tipo', 'cargo_id', 'cargo_nombre',\n",
       "       'agrupacion_id', 'agrupacion_nombre', 'lista_numero', 'lista_nombre',\n",
       "       'votos_tipo', 'votos_cantidad'],\n",
       "      dtype='object')"
      ]
     },
     "execution_count": 6,
     "metadata": {},
     "output_type": "execute_result"
    }
   ],
   "source": [
    "df.columns"
   ]
  },
  {
   "cell_type": "code",
   "execution_count": 15,
   "metadata": {},
   "outputs": [
    {
     "data": {
      "text/plain": [
       "PRESIDENTE                                  1790484\n",
       "DIPUTADOS NACIONALES                        1624878\n",
       "PARLAMENTARIOS MERCOSUR PROVINCIALES        1611733\n",
       "PARLAMENTARIOS MERCOSUR NACIONALES          1602012\n",
       "GOBERNADOR                                   664579\n",
       "INTENDENTE                                   648283\n",
       "SENADORES NACIONALES                         434631\n",
       "DIPUTADOS PROVINCIALES                       370058\n",
       "SENADORES PROVINCIALES                       355393\n",
       "DIPUTADOS/AS PROVINCIALES PROPORCIONALES      19008\n",
       "DIPUTADO/AS PROVINCIALES DEPARTAMENTALES      18178\n",
       "Name: cargo_nombre, dtype: int64"
      ]
     },
     "execution_count": 15,
     "metadata": {},
     "output_type": "execute_result"
    }
   ],
   "source": [
    "df['cargo_nombre'].value_counts()"
   ]
  },
  {
   "cell_type": "code",
   "execution_count": 7,
   "metadata": {},
   "outputs": [
    {
     "data": {
      "text/plain": [
       "array(['PASO'], dtype=object)"
      ]
     },
     "execution_count": 7,
     "metadata": {},
     "output_type": "execute_result"
    }
   ],
   "source": [
    "df['eleccion_tipo'].unique()"
   ]
  },
  {
   "cell_type": "code",
   "execution_count": 17,
   "metadata": {},
   "outputs": [],
   "source": [
    "guardar_csv(paso_2015)"
   ]
  },
  {
   "cell_type": "code",
   "execution_count": 27,
   "metadata": {},
   "outputs": [],
   "source": [
    "generales_2015 = 'C:/Users/54911/Downloads/2015-provisorios_generales/2015_Generales/ResultadosElectorales.csv'"
   ]
  },
  {
   "cell_type": "code",
   "execution_count": 28,
   "metadata": {},
   "outputs": [
    {
     "name": "stderr",
     "output_type": "stream",
     "text": [
      "C:\\Users\\54911\\AppData\\Local\\Temp\\ipykernel_12192\\1396836161.py:2: DtypeWarning: Columns (20) have mixed types. Specify dtype option on import or set low_memory=False.\n",
      "  resultados = pd.read_csv(dir)\n"
     ]
    }
   ],
   "source": [
    "guardar_csv(generales_2015)"
   ]
  },
  {
   "cell_type": "code",
   "execution_count": 29,
   "metadata": {},
   "outputs": [],
   "source": [
    "ballotaje_2015 = 'C:/Users/54911/Downloads/2015-provisorios_ballotage/2015_Ballotage/ResultadosElectorales.csv'"
   ]
  },
  {
   "cell_type": "code",
   "execution_count": 30,
   "metadata": {},
   "outputs": [
    {
     "name": "stderr",
     "output_type": "stream",
     "text": [
      "C:\\Users\\54911\\AppData\\Local\\Temp\\ipykernel_12192\\1396836161.py:2: DtypeWarning: Columns (18) have mixed types. Specify dtype option on import or set low_memory=False.\n",
      "  resultados = pd.read_csv(dir)\n"
     ]
    }
   ],
   "source": [
    "guardar_csv(ballotaje_2015)"
   ]
  },
  {
   "cell_type": "code",
   "execution_count": 31,
   "metadata": {},
   "outputs": [],
   "source": [
    "gral_2019 = 'C:/Users/54911/Downloads/p.v._definitivo_x_distrito_grales_2019 (4).xlsx'"
   ]
  },
  {
   "cell_type": "code",
   "execution_count": 32,
   "metadata": {},
   "outputs": [],
   "source": [
    "df_2019 = pd.read_excel(gral_2019)"
   ]
  },
  {
   "cell_type": "code",
   "execution_count": 34,
   "metadata": {},
   "outputs": [
    {
     "data": {
      "text/html": [
       "<div>\n",
       "<style scoped>\n",
       "    .dataframe tbody tr th:only-of-type {\n",
       "        vertical-align: middle;\n",
       "    }\n",
       "\n",
       "    .dataframe tbody tr th {\n",
       "        vertical-align: top;\n",
       "    }\n",
       "\n",
       "    .dataframe thead th {\n",
       "        text-align: right;\n",
       "    }\n",
       "</style>\n",
       "<table border=\"1\" class=\"dataframe\">\n",
       "  <thead>\n",
       "    <tr style=\"text-align: right;\">\n",
       "      <th></th>\n",
       "      <th>Unnamed: 0</th>\n",
       "      <th>TOTAL PAIS</th>\n",
       "      <th>Unnamed: 2</th>\n",
       "      <th>Unnamed: 3</th>\n",
       "      <th>Unnamed: 4</th>\n",
       "    </tr>\n",
       "  </thead>\n",
       "  <tbody>\n",
       "    <tr>\n",
       "      <th>0</th>\n",
       "      <td>NaN</td>\n",
       "      <td>ELECCIONES GENERALES - 27 DE OCTUBRE DE 2019</td>\n",
       "      <td>NaN</td>\n",
       "      <td>NaN</td>\n",
       "      <td>NaN</td>\n",
       "    </tr>\n",
       "    <tr>\n",
       "      <th>1</th>\n",
       "      <td>NaN</td>\n",
       "      <td>Categoría: PRESIDENTE Y VICE</td>\n",
       "      <td>NaN</td>\n",
       "      <td>NaN</td>\n",
       "      <td>NaN</td>\n",
       "    </tr>\n",
       "    <tr>\n",
       "      <th>3</th>\n",
       "      <td>NaN</td>\n",
       "      <td>ELECTORES HABILES</td>\n",
       "      <td>34231721</td>\n",
       "      <td>NaN</td>\n",
       "      <td>NaN</td>\n",
       "    </tr>\n",
       "    <tr>\n",
       "      <th>4</th>\n",
       "      <td>NaN</td>\n",
       "      <td>MESAS:</td>\n",
       "      <td>100364</td>\n",
       "      <td>NaN</td>\n",
       "      <td>(Inlcuye P.L., A.E. y V.C.)</td>\n",
       "    </tr>\n",
       "    <tr>\n",
       "      <th>5</th>\n",
       "      <td>NaN</td>\n",
       "      <td>PORCENTAJE DE VOTANTES</td>\n",
       "      <td>0.804222</td>\n",
       "      <td>NaN</td>\n",
       "      <td>NaN</td>\n",
       "    </tr>\n",
       "    <tr>\n",
       "      <th>8</th>\n",
       "      <td>NaN</td>\n",
       "      <td>FORMULAS - AGRUPACIONES POLITICAS</td>\n",
       "      <td>VOTOS</td>\n",
       "      <td>% POSITIVOS</td>\n",
       "      <td>% VALIDOS</td>\n",
       "    </tr>\n",
       "    <tr>\n",
       "      <th>9</th>\n",
       "      <td>136.0</td>\n",
       "      <td>FRENTE DE TODOS</td>\n",
       "      <td>12946037</td>\n",
       "      <td>0.482371</td>\n",
       "      <td>0.474564</td>\n",
       "    </tr>\n",
       "    <tr>\n",
       "      <th>10</th>\n",
       "      <td>NaN</td>\n",
       "      <td>Alberto Fernández - Cristina Fernández</td>\n",
       "      <td>NaN</td>\n",
       "      <td>NaN</td>\n",
       "      <td>NaN</td>\n",
       "    </tr>\n",
       "    <tr>\n",
       "      <th>11</th>\n",
       "      <td>135.0</td>\n",
       "      <td>JUNTOS POR EL CAMBIO</td>\n",
       "      <td>10811586</td>\n",
       "      <td>0.402841</td>\n",
       "      <td>0.396321</td>\n",
       "    </tr>\n",
       "    <tr>\n",
       "      <th>12</th>\n",
       "      <td>NaN</td>\n",
       "      <td>Mauricio Macri - Miguel Pichetto</td>\n",
       "      <td>NaN</td>\n",
       "      <td>NaN</td>\n",
       "      <td>NaN</td>\n",
       "    </tr>\n",
       "    <tr>\n",
       "      <th>13</th>\n",
       "      <td>137.0</td>\n",
       "      <td>CONSENSO FEDERAL</td>\n",
       "      <td>1649322</td>\n",
       "      <td>0.061454</td>\n",
       "      <td>0.060459</td>\n",
       "    </tr>\n",
       "    <tr>\n",
       "      <th>14</th>\n",
       "      <td>NaN</td>\n",
       "      <td>Roberto Lavagna - Juan Urtubey</td>\n",
       "      <td>NaN</td>\n",
       "      <td>NaN</td>\n",
       "      <td>NaN</td>\n",
       "    </tr>\n",
       "    <tr>\n",
       "      <th>15</th>\n",
       "      <td>133.0</td>\n",
       "      <td>FRENTE DE IZQUIERDA Y DE TRABAJADORES - UNIDAD</td>\n",
       "      <td>579228</td>\n",
       "      <td>0.021582</td>\n",
       "      <td>0.021233</td>\n",
       "    </tr>\n",
       "    <tr>\n",
       "      <th>16</th>\n",
       "      <td>NaN</td>\n",
       "      <td>Nicolás Del Caño - Romina Del Plá</td>\n",
       "      <td>NaN</td>\n",
       "      <td>NaN</td>\n",
       "      <td>NaN</td>\n",
       "    </tr>\n",
       "    <tr>\n",
       "      <th>17</th>\n",
       "      <td>131.0</td>\n",
       "      <td>FRENTE NOS</td>\n",
       "      <td>457956</td>\n",
       "      <td>0.017064</td>\n",
       "      <td>0.016787</td>\n",
       "    </tr>\n",
       "    <tr>\n",
       "      <th>18</th>\n",
       "      <td>NaN</td>\n",
       "      <td>Juan Gómez Centurión - Cynthia Hotton</td>\n",
       "      <td>NaN</td>\n",
       "      <td>NaN</td>\n",
       "      <td>NaN</td>\n",
       "    </tr>\n",
       "    <tr>\n",
       "      <th>19</th>\n",
       "      <td>87.0</td>\n",
       "      <td>UNITE POR LA LIBERTAD Y LA DIGNIDAD</td>\n",
       "      <td>394207</td>\n",
       "      <td>0.014688</td>\n",
       "      <td>0.01445</td>\n",
       "    </tr>\n",
       "    <tr>\n",
       "      <th>20</th>\n",
       "      <td>NaN</td>\n",
       "      <td>José Espert - Luis Rosales</td>\n",
       "      <td>NaN</td>\n",
       "      <td>NaN</td>\n",
       "      <td>NaN</td>\n",
       "    </tr>\n",
       "    <tr>\n",
       "      <th>21</th>\n",
       "      <td>NaN</td>\n",
       "      <td>VOTOS POSITIVOS</td>\n",
       "      <td>26838336</td>\n",
       "      <td>0.97488</td>\n",
       "      <td>NaN</td>\n",
       "    </tr>\n",
       "    <tr>\n",
       "      <th>22</th>\n",
       "      <td>NaN</td>\n",
       "      <td>VOTOS EN BLANCO</td>\n",
       "      <td>441503</td>\n",
       "      <td>0.016037</td>\n",
       "      <td>NaN</td>\n",
       "    </tr>\n",
       "    <tr>\n",
       "      <th>23</th>\n",
       "      <td>NaN</td>\n",
       "      <td>VOTOS ANULADOS</td>\n",
       "      <td>250057</td>\n",
       "      <td>0.009083</td>\n",
       "      <td>NaN</td>\n",
       "    </tr>\n",
       "    <tr>\n",
       "      <th>24</th>\n",
       "      <td>NaN</td>\n",
       "      <td>TOTAL DE  VOTANTES</td>\n",
       "      <td>27529896</td>\n",
       "      <td>NaN</td>\n",
       "      <td>NaN</td>\n",
       "    </tr>\n",
       "  </tbody>\n",
       "</table>\n",
       "</div>"
      ],
      "text/plain": [
       "    Unnamed: 0                                      TOTAL PAIS Unnamed: 2  \\\n",
       "0          NaN    ELECCIONES GENERALES - 27 DE OCTUBRE DE 2019        NaN   \n",
       "1          NaN                    Categoría: PRESIDENTE Y VICE        NaN   \n",
       "3          NaN                               ELECTORES HABILES   34231721   \n",
       "4          NaN                                          MESAS:     100364   \n",
       "5          NaN                          PORCENTAJE DE VOTANTES   0.804222   \n",
       "8          NaN               FORMULAS - AGRUPACIONES POLITICAS      VOTOS   \n",
       "9        136.0                                 FRENTE DE TODOS   12946037   \n",
       "10         NaN          Alberto Fernández - Cristina Fernández        NaN   \n",
       "11       135.0                            JUNTOS POR EL CAMBIO   10811586   \n",
       "12         NaN                Mauricio Macri - Miguel Pichetto        NaN   \n",
       "13       137.0                                CONSENSO FEDERAL    1649322   \n",
       "14         NaN                  Roberto Lavagna - Juan Urtubey        NaN   \n",
       "15       133.0  FRENTE DE IZQUIERDA Y DE TRABAJADORES - UNIDAD     579228   \n",
       "16         NaN               Nicolás Del Caño - Romina Del Plá        NaN   \n",
       "17       131.0                                      FRENTE NOS     457956   \n",
       "18         NaN           Juan Gómez Centurión - Cynthia Hotton        NaN   \n",
       "19        87.0             UNITE POR LA LIBERTAD Y LA DIGNIDAD     394207   \n",
       "20         NaN                      José Espert - Luis Rosales        NaN   \n",
       "21         NaN                               VOTOS POSITIVOS     26838336   \n",
       "22         NaN                               VOTOS EN BLANCO       441503   \n",
       "23         NaN                                VOTOS ANULADOS       250057   \n",
       "24         NaN                            TOTAL DE  VOTANTES     27529896   \n",
       "\n",
       "     Unnamed: 3                   Unnamed: 4  \n",
       "0           NaN                          NaN  \n",
       "1           NaN                          NaN  \n",
       "3           NaN                          NaN  \n",
       "4           NaN  (Inlcuye P.L., A.E. y V.C.)  \n",
       "5           NaN                          NaN  \n",
       "8   % POSITIVOS                    % VALIDOS  \n",
       "9      0.482371                     0.474564  \n",
       "10          NaN                          NaN  \n",
       "11     0.402841                     0.396321  \n",
       "12          NaN                          NaN  \n",
       "13     0.061454                     0.060459  \n",
       "14          NaN                          NaN  \n",
       "15     0.021582                     0.021233  \n",
       "16          NaN                          NaN  \n",
       "17     0.017064                     0.016787  \n",
       "18          NaN                          NaN  \n",
       "19     0.014688                      0.01445  \n",
       "20          NaN                          NaN  \n",
       "21      0.97488                          NaN  \n",
       "22     0.016037                          NaN  \n",
       "23     0.009083                          NaN  \n",
       "24          NaN                          NaN  "
      ]
     },
     "execution_count": 34,
     "metadata": {},
     "output_type": "execute_result"
    }
   ],
   "source": [
    "df_2019.dropna(how='all')"
   ]
  },
  {
   "cell_type": "code",
   "execution_count": 37,
   "metadata": {},
   "outputs": [],
   "source": [
    "paso_2019 = 'C:/Users/54911/Downloads/2019_pv_definitivos_total_pais_paso_y_generales_1 (2).xlsx'"
   ]
  },
  {
   "cell_type": "code",
   "execution_count": 38,
   "metadata": {},
   "outputs": [],
   "source": [
    "df_paso_2019 = pd.read_excel(paso_2019)"
   ]
  },
  {
   "cell_type": "code",
   "execution_count": 40,
   "metadata": {},
   "outputs": [
    {
     "data": {
      "text/html": [
       "<div>\n",
       "<style scoped>\n",
       "    .dataframe tbody tr th:only-of-type {\n",
       "        vertical-align: middle;\n",
       "    }\n",
       "\n",
       "    .dataframe tbody tr th {\n",
       "        vertical-align: top;\n",
       "    }\n",
       "\n",
       "    .dataframe thead th {\n",
       "        text-align: right;\n",
       "    }\n",
       "</style>\n",
       "<table border=\"1\" class=\"dataframe\">\n",
       "  <thead>\n",
       "    <tr style=\"text-align: right;\">\n",
       "      <th></th>\n",
       "      <th>Unnamed: 0</th>\n",
       "      <th>TOTAL PAIS</th>\n",
       "      <th>Unnamed: 2</th>\n",
       "      <th>Unnamed: 3</th>\n",
       "      <th>Unnamed: 4</th>\n",
       "    </tr>\n",
       "  </thead>\n",
       "  <tbody>\n",
       "    <tr>\n",
       "      <th>0</th>\n",
       "      <td>NaN</td>\n",
       "      <td>ELECCIONES P.A.S.O. - 11 DE AGOSTO DE 2019</td>\n",
       "      <td>NaN</td>\n",
       "      <td>NaN</td>\n",
       "      <td>NaN</td>\n",
       "    </tr>\n",
       "    <tr>\n",
       "      <th>1</th>\n",
       "      <td>NaN</td>\n",
       "      <td>Categoría: PRESIDENTE Y VICE</td>\n",
       "      <td>NaN</td>\n",
       "      <td>NaN</td>\n",
       "      <td>NaN</td>\n",
       "    </tr>\n",
       "    <tr>\n",
       "      <th>3</th>\n",
       "      <td>NaN</td>\n",
       "      <td>ELECTORES HABILES</td>\n",
       "      <td>33848339</td>\n",
       "      <td>NaN</td>\n",
       "      <td>NaN</td>\n",
       "    </tr>\n",
       "    <tr>\n",
       "      <th>4</th>\n",
       "      <td>NaN</td>\n",
       "      <td>MESAS:</td>\n",
       "      <td>100351</td>\n",
       "      <td>NaN</td>\n",
       "      <td>NaN</td>\n",
       "    </tr>\n",
       "    <tr>\n",
       "      <th>5</th>\n",
       "      <td>NaN</td>\n",
       "      <td>PORCENTAJE DE VOTANTES</td>\n",
       "      <td>0.763995</td>\n",
       "      <td>NaN</td>\n",
       "      <td>NaN</td>\n",
       "    </tr>\n",
       "    <tr>\n",
       "      <th>8</th>\n",
       "      <td>NaN</td>\n",
       "      <td>FORMULAS - AGRUPACIONES POLITICAS</td>\n",
       "      <td>VOTOS</td>\n",
       "      <td>% POSITIVOS</td>\n",
       "      <td>% VALIDOS</td>\n",
       "    </tr>\n",
       "    <tr>\n",
       "      <th>9</th>\n",
       "      <td>136.0</td>\n",
       "      <td>FRENTE DE TODOS</td>\n",
       "      <td>12205085</td>\n",
       "      <td>0.494948</td>\n",
       "      <td>0.477844</td>\n",
       "    </tr>\n",
       "    <tr>\n",
       "      <th>10</th>\n",
       "      <td>NaN</td>\n",
       "      <td>CELESTE Y BLANCA - Alberto Fernández - Cristin...</td>\n",
       "      <td>12205085</td>\n",
       "      <td>1</td>\n",
       "      <td>NaN</td>\n",
       "    </tr>\n",
       "    <tr>\n",
       "      <th>11</th>\n",
       "      <td>135.0</td>\n",
       "      <td>JUNTOS POR EL CAMBIO</td>\n",
       "      <td>8121596</td>\n",
       "      <td>0.329352</td>\n",
       "      <td>0.317971</td>\n",
       "    </tr>\n",
       "    <tr>\n",
       "      <th>12</th>\n",
       "      <td>NaN</td>\n",
       "      <td>JUNTOS SOMOS EL CAMBIO - Mauricio Macri - Migu...</td>\n",
       "      <td>7948256</td>\n",
       "      <td>0.978657</td>\n",
       "      <td>NaN</td>\n",
       "    </tr>\n",
       "    <tr>\n",
       "      <th>13</th>\n",
       "      <td>137.0</td>\n",
       "      <td>CONSENSO FEDERAL</td>\n",
       "      <td>2081293</td>\n",
       "      <td>0.084402</td>\n",
       "      <td>0.081485</td>\n",
       "    </tr>\n",
       "    <tr>\n",
       "      <th>14</th>\n",
       "      <td>NaN</td>\n",
       "      <td>CONSENSO PARA EL FUTURO - Roberto Lavagna - Ju...</td>\n",
       "      <td>2081293</td>\n",
       "      <td>1</td>\n",
       "      <td>NaN</td>\n",
       "    </tr>\n",
       "    <tr>\n",
       "      <th>15</th>\n",
       "      <td>133.0</td>\n",
       "      <td>FRENTE DE IZQUIERDA Y DE TRABAJADORES - UNIDAD</td>\n",
       "      <td>723128</td>\n",
       "      <td>0.029325</td>\n",
       "      <td>0.028311</td>\n",
       "    </tr>\n",
       "    <tr>\n",
       "      <th>16</th>\n",
       "      <td>NaN</td>\n",
       "      <td>UNIDAD - Nicolás Del Caño - Romina Del Pla</td>\n",
       "      <td>723128</td>\n",
       "      <td>1</td>\n",
       "      <td>NaN</td>\n",
       "    </tr>\n",
       "    <tr>\n",
       "      <th>17</th>\n",
       "      <td>131.0</td>\n",
       "      <td>FRENTE NOS</td>\n",
       "      <td>670156</td>\n",
       "      <td>0.027177</td>\n",
       "      <td>0.026237</td>\n",
       "    </tr>\n",
       "    <tr>\n",
       "      <th>18</th>\n",
       "      <td>NaN</td>\n",
       "      <td>CELESTE 2019 - Juan Gomez - Cynthia Hotton</td>\n",
       "      <td>670156</td>\n",
       "      <td>1</td>\n",
       "      <td>NaN</td>\n",
       "    </tr>\n",
       "    <tr>\n",
       "      <th>19</th>\n",
       "      <td>87.0</td>\n",
       "      <td>UNITE POR LA LIBERTAD Y LA DIGNIDAD</td>\n",
       "      <td>550580</td>\n",
       "      <td>0.022327</td>\n",
       "      <td>0.021556</td>\n",
       "    </tr>\n",
       "    <tr>\n",
       "      <th>20</th>\n",
       "      <td>NaN</td>\n",
       "      <td>DESPERTAR - José Espert - Luis Rosales</td>\n",
       "      <td>550580</td>\n",
       "      <td>1</td>\n",
       "      <td>NaN</td>\n",
       "    </tr>\n",
       "    <tr>\n",
       "      <th>21</th>\n",
       "      <td>13.0</td>\n",
       "      <td>MOVIMIENTO AL SOCIALISMO</td>\n",
       "      <td>179428</td>\n",
       "      <td>0.007276</td>\n",
       "      <td>0.007025</td>\n",
       "    </tr>\n",
       "    <tr>\n",
       "      <th>22</th>\n",
       "      <td>NaN</td>\n",
       "      <td>UNIDAD DE LA IZQUIERDA - Manuela Castañeira - ...</td>\n",
       "      <td>178169</td>\n",
       "      <td>0.992983</td>\n",
       "      <td>NaN</td>\n",
       "    </tr>\n",
       "    <tr>\n",
       "      <th>23</th>\n",
       "      <td>132.0</td>\n",
       "      <td>FRENTE PATRIOTA</td>\n",
       "      <td>58938</td>\n",
       "      <td>0.00239</td>\n",
       "      <td>0.002307</td>\n",
       "    </tr>\n",
       "    <tr>\n",
       "      <th>24</th>\n",
       "      <td>NaN</td>\n",
       "      <td>CELESTE - Alejandro Biondini - Enrique Venturino</td>\n",
       "      <td>58938</td>\n",
       "      <td>1</td>\n",
       "      <td>NaN</td>\n",
       "    </tr>\n",
       "    <tr>\n",
       "      <th>25</th>\n",
       "      <td>57.0</td>\n",
       "      <td>MOVIMIENTO DE ACCION VECINAL</td>\n",
       "      <td>36410</td>\n",
       "      <td>0.001477</td>\n",
       "      <td>0.001425</td>\n",
       "    </tr>\n",
       "    <tr>\n",
       "      <th>26</th>\n",
       "      <td>NaN</td>\n",
       "      <td>COMPROMISO VECINAL - Raúl Albarracin - Sergio ...</td>\n",
       "      <td>36410</td>\n",
       "      <td>1</td>\n",
       "      <td>NaN</td>\n",
       "    </tr>\n",
       "    <tr>\n",
       "      <th>27</th>\n",
       "      <td>36.0</td>\n",
       "      <td>PARTIDO AUTONOMISTA</td>\n",
       "      <td>32719</td>\n",
       "      <td>0.001327</td>\n",
       "      <td>0.001281</td>\n",
       "    </tr>\n",
       "    <tr>\n",
       "      <th>28</th>\n",
       "      <td>NaN</td>\n",
       "      <td>VALORES Y EXPERIENCIA - José Romero - Guillerm...</td>\n",
       "      <td>32719</td>\n",
       "      <td>1</td>\n",
       "      <td>NaN</td>\n",
       "    </tr>\n",
       "    <tr>\n",
       "      <th>29</th>\n",
       "      <td>NaN</td>\n",
       "      <td>VOTOS POSITIVOS</td>\n",
       "      <td>24659333</td>\n",
       "      <td>0.953572</td>\n",
       "      <td>NaN</td>\n",
       "    </tr>\n",
       "    <tr>\n",
       "      <th>30</th>\n",
       "      <td>NaN</td>\n",
       "      <td>VOTOS EN BLANCO</td>\n",
       "      <td>882633</td>\n",
       "      <td>0.034131</td>\n",
       "      <td>NaN</td>\n",
       "    </tr>\n",
       "    <tr>\n",
       "      <th>31</th>\n",
       "      <td>NaN</td>\n",
       "      <td>VOTOS ANULADOS</td>\n",
       "      <td>318001</td>\n",
       "      <td>0.012297</td>\n",
       "      <td>NaN</td>\n",
       "    </tr>\n",
       "    <tr>\n",
       "      <th>32</th>\n",
       "      <td>NaN</td>\n",
       "      <td>TOTAL DE  VOTANTES</td>\n",
       "      <td>25859967</td>\n",
       "      <td>NaN</td>\n",
       "      <td>NaN</td>\n",
       "    </tr>\n",
       "  </tbody>\n",
       "</table>\n",
       "</div>"
      ],
      "text/plain": [
       "    Unnamed: 0                                         TOTAL PAIS Unnamed: 2  \\\n",
       "0          NaN         ELECCIONES P.A.S.O. - 11 DE AGOSTO DE 2019        NaN   \n",
       "1          NaN                       Categoría: PRESIDENTE Y VICE        NaN   \n",
       "3          NaN                                  ELECTORES HABILES   33848339   \n",
       "4          NaN                                             MESAS:     100351   \n",
       "5          NaN                             PORCENTAJE DE VOTANTES   0.763995   \n",
       "8          NaN                  FORMULAS - AGRUPACIONES POLITICAS      VOTOS   \n",
       "9        136.0                                    FRENTE DE TODOS   12205085   \n",
       "10         NaN  CELESTE Y BLANCA - Alberto Fernández - Cristin...   12205085   \n",
       "11       135.0                               JUNTOS POR EL CAMBIO    8121596   \n",
       "12         NaN  JUNTOS SOMOS EL CAMBIO - Mauricio Macri - Migu...    7948256   \n",
       "13       137.0                                   CONSENSO FEDERAL    2081293   \n",
       "14         NaN  CONSENSO PARA EL FUTURO - Roberto Lavagna - Ju...    2081293   \n",
       "15       133.0     FRENTE DE IZQUIERDA Y DE TRABAJADORES - UNIDAD     723128   \n",
       "16         NaN         UNIDAD - Nicolás Del Caño - Romina Del Pla     723128   \n",
       "17       131.0                                         FRENTE NOS     670156   \n",
       "18         NaN         CELESTE 2019 - Juan Gomez - Cynthia Hotton     670156   \n",
       "19        87.0                UNITE POR LA LIBERTAD Y LA DIGNIDAD     550580   \n",
       "20         NaN             DESPERTAR - José Espert - Luis Rosales     550580   \n",
       "21        13.0                           MOVIMIENTO AL SOCIALISMO     179428   \n",
       "22         NaN  UNIDAD DE LA IZQUIERDA - Manuela Castañeira - ...     178169   \n",
       "23       132.0                                    FRENTE PATRIOTA      58938   \n",
       "24         NaN   CELESTE - Alejandro Biondini - Enrique Venturino      58938   \n",
       "25        57.0                       MOVIMIENTO DE ACCION VECINAL      36410   \n",
       "26         NaN  COMPROMISO VECINAL - Raúl Albarracin - Sergio ...      36410   \n",
       "27        36.0                                PARTIDO AUTONOMISTA      32719   \n",
       "28         NaN  VALORES Y EXPERIENCIA - José Romero - Guillerm...      32719   \n",
       "29         NaN                                  VOTOS POSITIVOS     24659333   \n",
       "30         NaN                                  VOTOS EN BLANCO       882633   \n",
       "31         NaN                                   VOTOS ANULADOS       318001   \n",
       "32         NaN                               TOTAL DE  VOTANTES     25859967   \n",
       "\n",
       "     Unnamed: 3 Unnamed: 4  \n",
       "0           NaN        NaN  \n",
       "1           NaN        NaN  \n",
       "3           NaN        NaN  \n",
       "4           NaN        NaN  \n",
       "5           NaN        NaN  \n",
       "8   % POSITIVOS  % VALIDOS  \n",
       "9      0.494948   0.477844  \n",
       "10            1        NaN  \n",
       "11     0.329352   0.317971  \n",
       "12     0.978657        NaN  \n",
       "13     0.084402   0.081485  \n",
       "14            1        NaN  \n",
       "15     0.029325   0.028311  \n",
       "16            1        NaN  \n",
       "17     0.027177   0.026237  \n",
       "18            1        NaN  \n",
       "19     0.022327   0.021556  \n",
       "20            1        NaN  \n",
       "21     0.007276   0.007025  \n",
       "22     0.992983        NaN  \n",
       "23      0.00239   0.002307  \n",
       "24            1        NaN  \n",
       "25     0.001477   0.001425  \n",
       "26            1        NaN  \n",
       "27     0.001327   0.001281  \n",
       "28            1        NaN  \n",
       "29     0.953572        NaN  \n",
       "30     0.034131        NaN  \n",
       "31     0.012297        NaN  \n",
       "32          NaN        NaN  "
      ]
     },
     "execution_count": 40,
     "metadata": {},
     "output_type": "execute_result"
    }
   ],
   "source": [
    "df_paso_2019.dropna(how='all')"
   ]
  }
 ],
 "metadata": {
  "kernelspec": {
   "display_name": "Python 3",
   "language": "python",
   "name": "python3"
  },
  "language_info": {
   "codemirror_mode": {
    "name": "ipython",
    "version": 3
   },
   "file_extension": ".py",
   "mimetype": "text/x-python",
   "name": "python",
   "nbconvert_exporter": "python",
   "pygments_lexer": "ipython3",
   "version": "3.11.2"
  }
 },
 "nbformat": 4,
 "nbformat_minor": 2
}
