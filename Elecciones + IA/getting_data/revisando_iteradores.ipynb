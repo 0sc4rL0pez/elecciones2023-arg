{
 "cells": [
  {
   "cell_type": "markdown",
   "metadata": {},
   "source": [
    "# Sirve para revisar fechas de iteradores viejos"
   ]
  },
  {
   "cell_type": "code",
   "execution_count": 1,
   "metadata": {},
   "outputs": [],
   "source": [
    "import instaloader\n",
    "import pandas as pd\n",
    "import glob\n",
    "import os\n",
    "import json\n",
    "from time import sleep\n",
    "import datetime"
   ]
  },
  {
   "cell_type": "code",
   "execution_count": 2,
   "metadata": {},
   "outputs": [],
   "source": [
    "path = 'C:/Users/54911/OneDrive/Escritorio/Data Science/Elecciones + IA/getting_data/instagram/main/iteradoresV2/iteradores_viejos'"
   ]
  },
  {
   "cell_type": "code",
   "execution_count": null,
   "metadata": {},
   "outputs": [],
   "source": [
    "bot = instaloader.Instaloader()\n",
    "usuario = ''\n",
    "bot.load_session_from_file(usuario)"
   ]
  },
  {
   "cell_type": "code",
   "execution_count": 6,
   "metadata": {},
   "outputs": [],
   "source": [
    "def cambiarNombre(user,direct):\n",
    "    jsonFile = open(direct, \"r\") # Open the JSON file for reading\n",
    "    data = json.load(jsonFile) # Read the JSON into the buffer\n",
    "    jsonFile.close() # Close the JSON file\n",
    "    \n",
    "    ## Working with buffered content\n",
    "    data['node']['context_username'] = user\n",
    "\n",
    "    ## Save our changes to JSON file\n",
    "    jsonFile = open(direct, \"w+\")\n",
    "    jsonFile.write(json.dumps(data))\n",
    "    jsonFile.close()\n",
    "    "
   ]
  },
  {
   "cell_type": "markdown",
   "metadata": {},
   "source": [
    "# Revisando pendiente por actualizar"
   ]
  },
  {
   "cell_type": "code",
   "execution_count": 2,
   "metadata": {},
   "outputs": [],
   "source": [
    "path = 'C:/Users/54911/OneDrive/Escritorio/Data Science/Elecciones + IA/getting_data/instagram/main/iteradoresV2_new/*'"
   ]
  },
  {
   "cell_type": "code",
   "execution_count": 3,
   "metadata": {},
   "outputs": [],
   "source": [
    "dirs = glob.glob(path)"
   ]
  },
  {
   "cell_type": "code",
   "execution_count": 4,
   "metadata": {},
   "outputs": [],
   "source": [
    "def RevisarNombre(direct):\n",
    "    jsonFile = open(direct, \"r\") \n",
    "    data = json.load(jsonFile) \n",
    "    jsonFile.close() \n",
    "    \n",
    "    res  = data['node']['context_username'] \n",
    "    return res   "
   ]
  },
  {
   "cell_type": "code",
   "execution_count": 5,
   "metadata": {},
   "outputs": [],
   "source": [
    "def descongelar_fecha(directorio,usuario,canal):\n",
    "    bot = instaloader.Instaloader()\n",
    "    bot.load_session_from_file(usuario)\n",
    "    perfil = instaloader.Profile.from_username(bot.context,canal)\n",
    "    try:\n",
    "        publicaciones = perfil.get_posts()\n",
    "        publicaciones_aux = instaloader.load_structure_from_file(bot.context,directorio)\n",
    "        publicaciones.thaw(publicaciones_aux)\n",
    "        for post in publicaciones:\n",
    "            dia = post.date\n",
    "            break\n",
    "        return dia\n",
    "    except Exception as e:\n",
    "        print(e)\n",
    "    "
   ]
  },
  {
   "cell_type": "code",
   "execution_count": 6,
   "metadata": {},
   "outputs": [],
   "source": [
    "dias = []\n",
    "fuentes = []"
   ]
  },
  {
   "cell_type": "code",
   "execution_count": 7,
   "metadata": {},
   "outputs": [
    {
     "name": "stdout",
     "output_type": "stream",
     "text": [
      "Loaded session from C:\\Users\\54911\\AppData\\Local\\Instaloader\\session-oscarrcitolopez.py.\n",
      "Loaded session from C:\\Users\\54911\\AppData\\Local\\Instaloader\\session-oscar_ds.py.\n",
      "Loaded session from C:\\Users\\54911\\AppData\\Local\\Instaloader\\session-oscar_pkong.\n",
      "Loaded session from C:\\Users\\54911\\AppData\\Local\\Instaloader\\session-oscar_ds.py.\n",
      "Loaded session from C:\\Users\\54911\\AppData\\Local\\Instaloader\\session-oscarrcitolopez.py.\n",
      "Loaded session from C:\\Users\\54911\\AppData\\Local\\Instaloader\\session-oscarrcitolopez.py.\n",
      "Loaded session from C:\\Users\\54911\\AppData\\Local\\Instaloader\\session-oscarrcitolopez.py.\n",
      "Loaded session from C:\\Users\\54911\\AppData\\Local\\Instaloader\\session-oscar_pkong.\n",
      "Loaded session from C:\\Users\\54911\\AppData\\Local\\Instaloader\\session-oscarrcitolopez.py.\n",
      "Loaded session from C:\\Users\\54911\\AppData\\Local\\Instaloader\\session-oscar_pkong.\n",
      "Loaded session from C:\\Users\\54911\\AppData\\Local\\Instaloader\\session-oscar_pkong.\n",
      "Loaded session from C:\\Users\\54911\\AppData\\Local\\Instaloader\\session-oscar_ds.py.\n",
      "Loaded session from C:\\Users\\54911\\AppData\\Local\\Instaloader\\session-oscar_pkong.\n",
      "Loaded session from C:\\Users\\54911\\AppData\\Local\\Instaloader\\session-oscar_ds.py.\n",
      "Loaded session from C:\\Users\\54911\\AppData\\Local\\Instaloader\\session-oscar_ds.py.\n",
      "\n",
      "HTTP redirect from https://i.instagram.com/api/v1/users/web_profile_info/?username=tv_publica to https://i.instagram.com/accounts/login/?next=/api/v1/users/web_profile_info/\n"
     ]
    },
    {
     "ename": "AbortDownloadException",
     "evalue": "Redirected to login page. You've been logged out, please wait some time, recreate the session and try again",
     "output_type": "error",
     "traceback": [
      "\u001b[1;31m---------------------------------------------------------------------------\u001b[0m",
      "\u001b[1;31mAbortDownloadException\u001b[0m                    Traceback (most recent call last)",
      "\u001b[1;32mc:\\Users\\54911\\OneDrive\\Escritorio\\Data Science\\Elecciones + IA\\getting_data\\revisando_iteradores.ipynb Cell 26\u001b[0m line \u001b[0;36m4\n\u001b[0;32m      <a href='vscode-notebook-cell:/c%3A/Users/54911/OneDrive/Escritorio/Data%20Science/Elecciones%20%2B%20IA/getting_data/revisando_iteradores.ipynb#X34sZmlsZQ%3D%3D?line=1'>2</a>\u001b[0m canal \u001b[39m=\u001b[39m d\u001b[39m.\u001b[39msplit(\u001b[39m'\u001b[39m\u001b[39m\\\\\u001b[39;00m\u001b[39m'\u001b[39m)[\u001b[39m-\u001b[39m\u001b[39m1\u001b[39m]\u001b[39m.\u001b[39msplit(\u001b[39m'\u001b[39m\u001b[39m_I\u001b[39m\u001b[39m'\u001b[39m)[\u001b[39m0\u001b[39m]\n\u001b[0;32m      <a href='vscode-notebook-cell:/c%3A/Users/54911/OneDrive/Escritorio/Data%20Science/Elecciones%20%2B%20IA/getting_data/revisando_iteradores.ipynb#X34sZmlsZQ%3D%3D?line=2'>3</a>\u001b[0m user \u001b[39m=\u001b[39m RevisarNombre(d)\n\u001b[1;32m----> <a href='vscode-notebook-cell:/c%3A/Users/54911/OneDrive/Escritorio/Data%20Science/Elecciones%20%2B%20IA/getting_data/revisando_iteradores.ipynb#X34sZmlsZQ%3D%3D?line=3'>4</a>\u001b[0m dia \u001b[39m=\u001b[39m descongelar_fecha(d,user,canal)\n\u001b[0;32m      <a href='vscode-notebook-cell:/c%3A/Users/54911/OneDrive/Escritorio/Data%20Science/Elecciones%20%2B%20IA/getting_data/revisando_iteradores.ipynb#X34sZmlsZQ%3D%3D?line=4'>5</a>\u001b[0m dias\u001b[39m.\u001b[39mappend(dia)\n\u001b[0;32m      <a href='vscode-notebook-cell:/c%3A/Users/54911/OneDrive/Escritorio/Data%20Science/Elecciones%20%2B%20IA/getting_data/revisando_iteradores.ipynb#X34sZmlsZQ%3D%3D?line=5'>6</a>\u001b[0m sleep(\u001b[39m2\u001b[39m)\n",
      "\u001b[1;32mc:\\Users\\54911\\OneDrive\\Escritorio\\Data Science\\Elecciones + IA\\getting_data\\revisando_iteradores.ipynb Cell 26\u001b[0m line \u001b[0;36m4\n\u001b[0;32m      <a href='vscode-notebook-cell:/c%3A/Users/54911/OneDrive/Escritorio/Data%20Science/Elecciones%20%2B%20IA/getting_data/revisando_iteradores.ipynb#X34sZmlsZQ%3D%3D?line=1'>2</a>\u001b[0m bot \u001b[39m=\u001b[39m instaloader\u001b[39m.\u001b[39mInstaloader()\n\u001b[0;32m      <a href='vscode-notebook-cell:/c%3A/Users/54911/OneDrive/Escritorio/Data%20Science/Elecciones%20%2B%20IA/getting_data/revisando_iteradores.ipynb#X34sZmlsZQ%3D%3D?line=2'>3</a>\u001b[0m bot\u001b[39m.\u001b[39mload_session_from_file(usuario)\n\u001b[1;32m----> <a href='vscode-notebook-cell:/c%3A/Users/54911/OneDrive/Escritorio/Data%20Science/Elecciones%20%2B%20IA/getting_data/revisando_iteradores.ipynb#X34sZmlsZQ%3D%3D?line=3'>4</a>\u001b[0m perfil \u001b[39m=\u001b[39m instaloader\u001b[39m.\u001b[39;49mProfile\u001b[39m.\u001b[39;49mfrom_username(bot\u001b[39m.\u001b[39;49mcontext,canal)\n\u001b[0;32m      <a href='vscode-notebook-cell:/c%3A/Users/54911/OneDrive/Escritorio/Data%20Science/Elecciones%20%2B%20IA/getting_data/revisando_iteradores.ipynb#X34sZmlsZQ%3D%3D?line=4'>5</a>\u001b[0m \u001b[39mtry\u001b[39;00m:\n\u001b[0;32m      <a href='vscode-notebook-cell:/c%3A/Users/54911/OneDrive/Escritorio/Data%20Science/Elecciones%20%2B%20IA/getting_data/revisando_iteradores.ipynb#X34sZmlsZQ%3D%3D?line=5'>6</a>\u001b[0m     publicaciones \u001b[39m=\u001b[39m perfil\u001b[39m.\u001b[39mget_posts()\n",
      "File \u001b[1;32mc:\\Users\\54911\\AppData\\Local\\Programs\\Python\\Python311\\Lib\\site-packages\\instaloader\\structures.py:737\u001b[0m, in \u001b[0;36mProfile.from_username\u001b[1;34m(cls, context, username)\u001b[0m\n\u001b[0;32m    735\u001b[0m \u001b[39m# pylint:disable=protected-access\u001b[39;00m\n\u001b[0;32m    736\u001b[0m profile \u001b[39m=\u001b[39m \u001b[39mcls\u001b[39m(context, {\u001b[39m'\u001b[39m\u001b[39musername\u001b[39m\u001b[39m'\u001b[39m: username\u001b[39m.\u001b[39mlower()})\n\u001b[1;32m--> 737\u001b[0m profile\u001b[39m.\u001b[39;49m_obtain_metadata()  \u001b[39m# to raise ProfileNotExistsException now in case username is invalid\u001b[39;00m\n\u001b[0;32m    738\u001b[0m \u001b[39mreturn\u001b[39;00m profile\n",
      "File \u001b[1;32mc:\\Users\\54911\\AppData\\Local\\Programs\\Python\\Python311\\Lib\\site-packages\\instaloader\\structures.py:806\u001b[0m, in \u001b[0;36mProfile._obtain_metadata\u001b[1;34m(self)\u001b[0m\n\u001b[0;32m    804\u001b[0m \u001b[39mtry\u001b[39;00m:\n\u001b[0;32m    805\u001b[0m     \u001b[39mif\u001b[39;00m \u001b[39mnot\u001b[39;00m \u001b[39mself\u001b[39m\u001b[39m.\u001b[39m_has_full_metadata:\n\u001b[1;32m--> 806\u001b[0m         metadata \u001b[39m=\u001b[39m \u001b[39mself\u001b[39;49m\u001b[39m.\u001b[39;49m_context\u001b[39m.\u001b[39;49mget_iphone_json(\u001b[39mf\u001b[39;49m\u001b[39m'\u001b[39;49m\u001b[39mapi/v1/users/web_profile_info/?username=\u001b[39;49m\u001b[39m{\u001b[39;49;00m\u001b[39mself\u001b[39;49m\u001b[39m.\u001b[39;49musername\u001b[39m}\u001b[39;49;00m\u001b[39m'\u001b[39;49m,\n\u001b[0;32m    807\u001b[0m                                                  params\u001b[39m=\u001b[39;49m{})\n\u001b[0;32m    808\u001b[0m         \u001b[39mif\u001b[39;00m metadata[\u001b[39m'\u001b[39m\u001b[39mdata\u001b[39m\u001b[39m'\u001b[39m][\u001b[39m'\u001b[39m\u001b[39muser\u001b[39m\u001b[39m'\u001b[39m] \u001b[39mis\u001b[39;00m \u001b[39mNone\u001b[39;00m:\n\u001b[0;32m    809\u001b[0m             \u001b[39mraise\u001b[39;00m ProfileNotExistsException(\u001b[39m'\u001b[39m\u001b[39mProfile \u001b[39m\u001b[39m{}\u001b[39;00m\u001b[39m does not exist.\u001b[39m\u001b[39m'\u001b[39m\u001b[39m.\u001b[39mformat(\u001b[39mself\u001b[39m\u001b[39m.\u001b[39musername))\n",
      "File \u001b[1;32mc:\\Users\\54911\\AppData\\Local\\Programs\\Python\\Python311\\Lib\\site-packages\\instaloader\\instaloadercontext.py:580\u001b[0m, in \u001b[0;36mInstaloaderContext.get_iphone_json\u001b[1;34m(self, path, params)\u001b[0m\n\u001b[0;32m    577\u001b[0m     tempsession\u001b[39m.\u001b[39mcookies\u001b[39m.\u001b[39mclear()\n\u001b[0;32m    579\u001b[0m response_headers \u001b[39m=\u001b[39m \u001b[39mdict\u001b[39m()    \u001b[39m# type: Dict[str, Any]\u001b[39;00m\n\u001b[1;32m--> 580\u001b[0m response \u001b[39m=\u001b[39m \u001b[39mself\u001b[39;49m\u001b[39m.\u001b[39;49mget_json(path, params, \u001b[39m'\u001b[39;49m\u001b[39mi.instagram.com\u001b[39;49m\u001b[39m'\u001b[39;49m, tempsession, response_headers\u001b[39m=\u001b[39;49mresponse_headers)\n\u001b[0;32m    582\u001b[0m \u001b[39m# Extract the ig-set-* headers and use them in the next request\u001b[39;00m\n\u001b[0;32m    583\u001b[0m \u001b[39mfor\u001b[39;00m key, value \u001b[39min\u001b[39;00m response_headers\u001b[39m.\u001b[39mitems():\n",
      "File \u001b[1;32mc:\\Users\\54911\\AppData\\Local\\Programs\\Python\\Python311\\Lib\\site-packages\\instaloader\\instaloadercontext.py:388\u001b[0m, in \u001b[0;36mInstaloaderContext.get_json\u001b[1;34m(self, path, params, host, session, _attempt, response_headers)\u001b[0m\n\u001b[0;32m    386\u001b[0m     \u001b[39mif\u001b[39;00m \u001b[39mnot\u001b[39;00m \u001b[39mself\u001b[39m\u001b[39m.\u001b[39mis_logged_in:\n\u001b[0;32m    387\u001b[0m         \u001b[39mraise\u001b[39;00m LoginRequiredException(\u001b[39m\"\u001b[39m\u001b[39mRedirected to login page. Use --login.\u001b[39m\u001b[39m\"\u001b[39m)\n\u001b[1;32m--> 388\u001b[0m     \u001b[39mraise\u001b[39;00m AbortDownloadException(\u001b[39m\"\u001b[39m\u001b[39mRedirected to login page. You\u001b[39m\u001b[39m'\u001b[39m\u001b[39mve been logged out, please wait \u001b[39m\u001b[39m\"\u001b[39m \u001b[39m+\u001b[39m\n\u001b[0;32m    389\u001b[0m                                  \u001b[39m\"\u001b[39m\u001b[39msome time, recreate the session and try again\u001b[39m\u001b[39m\"\u001b[39m)\n\u001b[0;32m    390\u001b[0m \u001b[39mif\u001b[39;00m redirect_url\u001b[39m.\u001b[39mstartswith(\u001b[39m'\u001b[39m\u001b[39mhttps://\u001b[39m\u001b[39m{}\u001b[39;00m\u001b[39m/\u001b[39m\u001b[39m'\u001b[39m\u001b[39m.\u001b[39mformat(host)):\n\u001b[0;32m    391\u001b[0m     resp \u001b[39m=\u001b[39m sess\u001b[39m.\u001b[39mget(redirect_url \u001b[39mif\u001b[39;00m redirect_url\u001b[39m.\u001b[39mendswith(\u001b[39m'\u001b[39m\u001b[39m/\u001b[39m\u001b[39m'\u001b[39m) \u001b[39melse\u001b[39;00m redirect_url \u001b[39m+\u001b[39m \u001b[39m'\u001b[39m\u001b[39m/\u001b[39m\u001b[39m'\u001b[39m,\n\u001b[0;32m    392\u001b[0m                     params\u001b[39m=\u001b[39mparams, allow_redirects\u001b[39m=\u001b[39m\u001b[39mFalse\u001b[39;00m)\n",
      "\u001b[1;31mAbortDownloadException\u001b[0m: Redirected to login page. You've been logged out, please wait some time, recreate the session and try again"
     ]
    }
   ],
   "source": [
    "for d in dirs:\n",
    "    canal = d.split('\\\\')[-1].split('_I')[0]\n",
    "    user = RevisarNombre(d)\n",
    "    dia = descongelar_fecha(d,user,canal)\n",
    "    dias.append(dia)\n",
    "    sleep(2)\n",
    "    fuentes.append(canal)"
   ]
  },
  {
   "cell_type": "code",
   "execution_count": 8,
   "metadata": {},
   "outputs": [],
   "source": [
    "df = pd.DataFrame({'fuentes':fuentes, 'Ultima_fecha':dias})"
   ]
  },
  {
   "cell_type": "code",
   "execution_count": 9,
   "metadata": {},
   "outputs": [
    {
     "data": {
      "text/html": [
       "<div>\n",
       "<style scoped>\n",
       "    .dataframe tbody tr th:only-of-type {\n",
       "        vertical-align: middle;\n",
       "    }\n",
       "\n",
       "    .dataframe tbody tr th {\n",
       "        vertical-align: top;\n",
       "    }\n",
       "\n",
       "    .dataframe thead th {\n",
       "        text-align: right;\n",
       "    }\n",
       "</style>\n",
       "<table border=\"1\" class=\"dataframe\">\n",
       "  <thead>\n",
       "    <tr style=\"text-align: right;\">\n",
       "      <th></th>\n",
       "      <th>fuentes</th>\n",
       "      <th>Ultima_fecha</th>\n",
       "    </tr>\n",
       "  </thead>\n",
       "  <tbody>\n",
       "    <tr>\n",
       "      <th>11</th>\n",
       "      <td>minutouno</td>\n",
       "      <td>2023-11-10 17:41:11</td>\n",
       "    </tr>\n",
       "    <tr>\n",
       "      <th>5</th>\n",
       "      <td>cronicaweb</td>\n",
       "      <td>2023-11-13 18:25:51</td>\n",
       "    </tr>\n",
       "    <tr>\n",
       "      <th>3</th>\n",
       "      <td>canal9oficial</td>\n",
       "      <td>2023-11-13 18:48:08</td>\n",
       "    </tr>\n",
       "    <tr>\n",
       "      <th>9</th>\n",
       "      <td>infobae</td>\n",
       "      <td>2023-11-13 20:58:44</td>\n",
       "    </tr>\n",
       "    <tr>\n",
       "      <th>7</th>\n",
       "      <td>eldestapeweb</td>\n",
       "      <td>2023-11-13 21:01:10</td>\n",
       "    </tr>\n",
       "    <tr>\n",
       "      <th>8</th>\n",
       "      <td>filonewsok</td>\n",
       "      <td>2023-11-13 21:44:41</td>\n",
       "    </tr>\n",
       "    <tr>\n",
       "      <th>13</th>\n",
       "      <td>todonoticias</td>\n",
       "      <td>2023-11-13 21:54:46</td>\n",
       "    </tr>\n",
       "    <tr>\n",
       "      <th>4</th>\n",
       "      <td>clarincom</td>\n",
       "      <td>2023-11-13 22:00:05</td>\n",
       "    </tr>\n",
       "    <tr>\n",
       "      <th>12</th>\n",
       "      <td>pagina12</td>\n",
       "      <td>2023-11-13 22:00:24</td>\n",
       "    </tr>\n",
       "    <tr>\n",
       "      <th>0</th>\n",
       "      <td>a24noticias</td>\n",
       "      <td>2023-11-13 22:05:00</td>\n",
       "    </tr>\n",
       "    <tr>\n",
       "      <th>1</th>\n",
       "      <td>c5n</td>\n",
       "      <td>2023-11-13 22:45:07</td>\n",
       "    </tr>\n",
       "    <tr>\n",
       "      <th>2</th>\n",
       "      <td>canal26</td>\n",
       "      <td>2023-11-15 11:35:57</td>\n",
       "    </tr>\n",
       "    <tr>\n",
       "      <th>10</th>\n",
       "      <td>lanacioncom</td>\n",
       "      <td>2023-11-15 21:13:53</td>\n",
       "    </tr>\n",
       "    <tr>\n",
       "      <th>6</th>\n",
       "      <td>diario.ole</td>\n",
       "      <td>2023-11-17 02:29:42</td>\n",
       "    </tr>\n",
       "  </tbody>\n",
       "</table>\n",
       "</div>"
      ],
      "text/plain": [
       "          fuentes        Ultima_fecha\n",
       "11      minutouno 2023-11-10 17:41:11\n",
       "5      cronicaweb 2023-11-13 18:25:51\n",
       "3   canal9oficial 2023-11-13 18:48:08\n",
       "9         infobae 2023-11-13 20:58:44\n",
       "7    eldestapeweb 2023-11-13 21:01:10\n",
       "8      filonewsok 2023-11-13 21:44:41\n",
       "13   todonoticias 2023-11-13 21:54:46\n",
       "4       clarincom 2023-11-13 22:00:05\n",
       "12       pagina12 2023-11-13 22:00:24\n",
       "0     a24noticias 2023-11-13 22:05:00\n",
       "1             c5n 2023-11-13 22:45:07\n",
       "2         canal26 2023-11-15 11:35:57\n",
       "10    lanacioncom 2023-11-15 21:13:53\n",
       "6      diario.ole 2023-11-17 02:29:42"
      ]
     },
     "execution_count": 9,
     "metadata": {},
     "output_type": "execute_result"
    }
   ],
   "source": [
    "df.sort_values(by='Ultima_fecha')"
   ]
  },
  {
   "cell_type": "code",
   "execution_count": 10,
   "metadata": {},
   "outputs": [],
   "source": [
    "pendientes = df[df['Ultima_fecha']>datetime.datetime(2023,10,6)]['fuentes'].values.tolist()"
   ]
  },
  {
   "cell_type": "code",
   "execution_count": 11,
   "metadata": {},
   "outputs": [
    {
     "name": "stdout",
     "output_type": "stream",
     "text": [
      "['a24noticias', 'c5n', 'canal26', 'canal9oficial', 'clarincom', 'cronicaweb', 'diario.ole', 'eldestapeweb', 'filonewsok', 'infobae', 'lanacioncom', 'minutouno', 'pagina12', 'todonoticias', 'tv_publica']\n"
     ]
    }
   ],
   "source": [
    "print(pendientes)"
   ]
  },
  {
   "cell_type": "code",
   "execution_count": null,
   "metadata": {},
   "outputs": [],
   "source": []
  }
 ],
 "metadata": {
  "kernelspec": {
   "display_name": "Python 3",
   "language": "python",
   "name": "python3"
  },
  "language_info": {
   "codemirror_mode": {
    "name": "ipython",
    "version": 3
   },
   "file_extension": ".py",
   "mimetype": "text/x-python",
   "name": "python",
   "nbconvert_exporter": "python",
   "pygments_lexer": "ipython3",
   "version": "3.11.2"
  }
 },
 "nbformat": 4,
 "nbformat_minor": 2
}
