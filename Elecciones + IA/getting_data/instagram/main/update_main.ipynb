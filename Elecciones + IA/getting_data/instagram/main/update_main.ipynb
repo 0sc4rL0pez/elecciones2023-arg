{
 "cells": [
  {
   "cell_type": "code",
   "execution_count": null,
   "metadata": {},
   "outputs": [],
   "source": []
  },
  {
   "cell_type": "code",
   "execution_count": null,
   "metadata": {},
   "outputs": [],
   "source": []
  },
  {
   "cell_type": "markdown",
   "metadata": {},
   "source": [
    "# Objetivo\n",
    "(Seria ideal conectarlo directamente servidor)\n",
    "\n",
    "Uno solo con dos modos de ejecucion\n",
    "* Uno para actualizar informacion reciente (frecuencia = 1 semana, cobertura = 1 mes)\n",
    "\n",
    "* Otra para ir 'barriendo' fechas pasadas (por ej por mes) de todos los canales\n"
   ]
  },
  {
   "cell_type": "code",
   "execution_count": null,
   "metadata": {},
   "outputs": [],
   "source": [
    "def get_data(login_user, target_user, wait): \n",
    "\n",
    "    contador = 0\n",
    "    MAX_ITER = 200\n",
    "    \n",
    "    bot = instaloader.Instaloader()\n",
    "    bot.load_session_from_file(login_user)\n",
    "\n",
    "    dir_json =  glob.glob(f'iteradores_actualizados/{target_user}.txt')\n",
    "\n",
    "    try:\n",
    "        perfil = instaloader.Profile.from_username(bot.context, target_user)\n",
    "        publicaciones = perfil.get_posts()\n",
    "        \n",
    "        if(len(dir_json)!=0): # abre el iterador actualizado\n",
    "            nombre_json = leer_txt(dir_json[0])\n",
    "            publicaciones_aux = instaloader.load_structure_from_file(bot.context,nombre_json)\n",
    "            publicaciones.thaw(publicaciones_aux)\n",
    "\n",
    "        for post in publicaciones:\n",
    "            if(contador>=MAX_ITER):\n",
    "                print('Esperando que se resetee el contador...'+str(ahora()))\n",
    "\n",
    "                guardar_iterador(publicaciones, target_user)\n",
    "                bot.close()\n",
    "                break\n",
    "\n",
    "            contador,dia = guardar_info(post,contador)\n",
    "            sleep(1)\n",
    "\n",
    "        sleep(wait)\n",
    "        return dia\n",
    "            \n",
    "    except (instaloader.exceptions.AbortDownloadException,KeyboardInterrupt,instaloader.exceptions.ConnectionException):\n",
    "        contador += 1\n",
    "        guardar_iterador(publicaciones, target_user)\n",
    "        print('Ocurrio un error a las:  '+ahora() +'\\n'+\n",
    "            'total_index: '+str(publicaciones.total_index))\n",
    "        \n",
    "        bot.close()\n",
    "        return 0"
   ]
  },
  {
   "cell_type": "code",
   "execution_count": null,
   "metadata": {},
   "outputs": [],
   "source": [
    "def guardar_info(post,contador):\n",
    "    try:\n",
    "        descripcion =post.caption\n",
    "        usuario=post.owner_username\n",
    "        likes = post.likes\n",
    "        dia = post.date.strftime(\"%Y-%m-%d %H-%M-%S\")\n",
    "        id=post.shortcode\n",
    "        publicaciones = {id:[descripcion,likes,usuario,dia]}\n",
    "        nombre = 'data/'+str(usuario)+'_'+str(dia)[:4]+'_info_recolectada.txt'\n",
    "        with open(nombre,'a',encoding='utf-8') as f:\n",
    "            f.write(str(publicaciones)+','+'\\n')\n",
    "        return contador + 1, dia\n",
    "    except TypeError:\n",
    "        print('Error de tipo!')"
   ]
  },
  {
   "cell_type": "code",
   "execution_count": null,
   "metadata": {},
   "outputs": [],
   "source": [
    "get_data(login_user, target_user, wait)\n",
    "\n",
    "def get_data_gral (list_login_usuario, list_targer_user):\n",
    "    espera = 20\n",
    "    for i in range(len(list_targer_user)):\n",
    "        for usuario in list_login_usuario:\n",
    "            if (es_de_hace_menos_mes(dia)):\n",
    "                dia = get_data(usuario, list_targer_user[i], espera)\n",
    "            else if (i=len(list_targer_user)):\n",
    "                print(\"Actualizado!\")\n",
    "                break\n",
    "            else:\n",
    "                i=+1\n",
    "                \n",
    "\n",
    "\n"
   ]
  },
  {
   "cell_type": "code",
   "execution_count": 1,
   "metadata": {},
   "outputs": [],
   "source": [
    "import datetime"
   ]
  },
  {
   "cell_type": "code",
   "execution_count": 37,
   "metadata": {},
   "outputs": [],
   "source": [
    "fecha = '2023-08-31 17-02-14'"
   ]
  },
  {
   "cell_type": "code",
   "execution_count": 40,
   "metadata": {},
   "outputs": [],
   "source": [
    "def diferencia_dia(dia):\n",
    "    \n",
    "    format = \"%Y-%m-%d %H-%M-%S\"\n",
    "    fecha = datetime.datetime.strptime(dia, format)\n",
    "    ahora = datetime.datetime.now()\n",
    "    res = ahora - fecha\n",
    "    return res.days"
   ]
  },
  {
   "cell_type": "code",
   "execution_count": 42,
   "metadata": {},
   "outputs": [
    {
     "data": {
      "text/plain": [
       "26"
      ]
     },
     "execution_count": 42,
     "metadata": {},
     "output_type": "execute_result"
    }
   ],
   "source": [
    "diferencia_dia(fecha)"
   ]
  },
  {
   "cell_type": "code",
   "execution_count": null,
   "metadata": {},
   "outputs": [],
   "source": []
  },
  {
   "cell_type": "markdown",
   "metadata": {},
   "source": [
    "Idea de la funcion (actualizar info reciente)\n",
    "\n",
    "iterar sobre un canal hasta llegar a la cobertura (1 mes)\n",
    "(cambiar de usuario si llego al limite API, esperar en el medio)\n",
    "TENGO QUE GUARDAR EL ITERADOR!\n",
    "cambiar de canal\n",
    "recorrer todos los canales"
   ]
  },
  {
   "cell_type": "markdown",
   "metadata": {},
   "source": [
    "# Alterntiva json files\n"
   ]
  },
  {
   "cell_type": "code",
   "execution_count": 7,
   "metadata": {},
   "outputs": [],
   "source": [
    "import glob\n",
    "canal = 'infobae'\n",
    "path = 'C:/Users/54911/OneDrive/Escritorio/Data Science/Elecciones + IA/getting_data/instagram/main/iteradoresV2/'\n",
    "lista = glob.glob(f'{path}{canal}*.json')\n"
   ]
  },
  {
   "cell_type": "code",
   "execution_count": 9,
   "metadata": {},
   "outputs": [],
   "source": [
    "directorio = path+canal+'*.json'"
   ]
  },
  {
   "cell_type": "code",
   "execution_count": 11,
   "metadata": {},
   "outputs": [
    {
     "name": "stdout",
     "output_type": "stream",
     "text": [
      "C:/Users/54911/OneDrive/Escritorio/Data Science/Elecciones + IA/getting_data/instagram/main/iteradores\\infobae2023-08-27 22-36-10_Iterador_congelado.json\n"
     ]
    }
   ],
   "source": [
    "import glob\n",
    "import os\n",
    "\n",
    "list_of_files = glob.glob(directorio) \n",
    "latest_file = min(list_of_files, key=os.path.getctime)\n",
    "#min es el mas viejo, max el mas actualizado!\n",
    "print(latest_file)"
   ]
  },
  {
   "cell_type": "markdown",
   "metadata": {},
   "source": [
    "# Problema abrir iterador\n",
    "EL USUARIO DEBE COINCIDIR CON EL CONTEX!!!!"
   ]
  },
  {
   "cell_type": "code",
   "execution_count": 1,
   "metadata": {},
   "outputs": [],
   "source": [
    "usuarios_unique = ['oscar_pkong', 'oscar_ds.py','oscarrcitolopez']\n",
    "path ='C:/Users/54911/OneDrive/Escritorio/Data Science/Elecciones + IA/getting_data/instagram/main/'"
   ]
  },
  {
   "cell_type": "code",
   "execution_count": 47,
   "metadata": {},
   "outputs": [
    {
     "name": "stdout",
     "output_type": "stream",
     "text": [
      "Loaded session from C:\\Users\\54911\\AppData\\Local\\Instaloader\\session-oscar_pkong.\n",
      "Loaded session from C:\\Users\\54911\\AppData\\Local\\Instaloader\\session-oscar_ds.py.\n",
      "Loaded session from C:\\Users\\54911\\AppData\\Local\\Instaloader\\session-oscarrcitolopez.\n"
     ]
    }
   ],
   "source": [
    "import instaloader\n",
    "bot = instaloader.Instaloader()\n",
    "fuente = 'eldestapeweb'\n",
    "for user in usuarios_unique:\n",
    "    bot.load_session_from_file(user)\n",
    "    perfil = instaloader.Profile.from_username(bot.context, fuente)\n",
    "    publicaciones = perfil.get_posts()\n",
    "    congelado = publicaciones.freeze()\n",
    "    nombre = path + 'iteradoresV2_new/'+user+'_Iterador_congelado.json'\n",
    "    instaloader.save_structure_to_file(congelado,nombre)\n",
    "    bot.close()"
   ]
  },
  {
   "cell_type": "code",
   "execution_count": 48,
   "metadata": {},
   "outputs": [
    {
     "name": "stdout",
     "output_type": "stream",
     "text": [
      "Loaded session from C:\\Users\\54911\\AppData\\Local\\Instaloader\\session-oscar_pkong.\n",
      "Mismatching resume information.\n",
      "Mismatching resume information.\n",
      "Loaded session from C:\\Users\\54911\\AppData\\Local\\Instaloader\\session-oscar_ds.py.\n",
      "Mismatching resume information.\n",
      "Mismatching resume information.\n",
      "Loaded session from C:\\Users\\54911\\AppData\\Local\\Instaloader\\session-oscarrcitolopez.\n",
      "Mismatching resume information.\n",
      "Mismatching resume information.\n"
     ]
    }
   ],
   "source": [
    "for user in usuarios_unique:\n",
    "    bot.load_session_from_file(user)\n",
    "    perfil = instaloader.Profile.from_username(bot.context, fuente)\n",
    "    publicaciones = perfil.get_posts()\n",
    "    lista = glob.glob(path+'/iteradoresV2_new/*.json')\n",
    "    for l in lista:\n",
    "        try:\n",
    "            publicaciones_aux = instaloader.load_structure_from_file(bot.context,l)\n",
    "            publicaciones.thaw(publicaciones_aux)\n",
    "        except Exception as e:\n",
    "            print(e)\n",
    "    bot.close()"
   ]
  },
  {
   "cell_type": "code",
   "execution_count": 49,
   "metadata": {},
   "outputs": [
    {
     "data": {
      "text/plain": [
       "['C:/Users/54911/OneDrive/Escritorio/Data Science/Elecciones + IA/getting_data/instagram/main//iteradoresV2_new\\\\oscarrcitolopez_Iterador_congelado.json',\n",
       " 'C:/Users/54911/OneDrive/Escritorio/Data Science/Elecciones + IA/getting_data/instagram/main//iteradoresV2_new\\\\oscar_ds.py_Iterador_congelado.json',\n",
       " 'C:/Users/54911/OneDrive/Escritorio/Data Science/Elecciones + IA/getting_data/instagram/main//iteradoresV2_new\\\\oscar_pkong_Iterador_congelado.json']"
      ]
     },
     "execution_count": 49,
     "metadata": {},
     "output_type": "execute_result"
    }
   ],
   "source": [
    "lista"
   ]
  },
  {
   "cell_type": "markdown",
   "metadata": {},
   "source": [
    "# Idea\n",
    "Buscar el usuario de cada iterador"
   ]
  },
  {
   "cell_type": "code",
   "execution_count": 3,
   "metadata": {},
   "outputs": [],
   "source": [
    "import json\n",
    "def descomprimir_json(directorio):\n",
    "\n",
    "    try:\n",
    "        with open(directorio,'r') as f:\n",
    "                        data = json.load(f)\n",
    "        return data\n",
    "    except TypeError:\n",
    "        return None"
   ]
  },
  {
   "cell_type": "code",
   "execution_count": 2,
   "metadata": {},
   "outputs": [
    {
     "ename": "NameError",
     "evalue": "name 'latest_file' is not defined",
     "output_type": "error",
     "traceback": [
      "\u001b[1;31m---------------------------------------------------------------------------\u001b[0m",
      "\u001b[1;31mNameError\u001b[0m                                 Traceback (most recent call last)",
      "\u001b[1;32mc:\\Users\\54911\\OneDrive\\Escritorio\\Data Science\\Elecciones + IA\\getting_data\\instagram\\main\\update_main.ipynb Cell 24\u001b[0m line \u001b[0;36m1\n\u001b[1;32m----> <a href='vscode-notebook-cell:/c%3A/Users/54911/OneDrive/Escritorio/Data%20Science/Elecciones%20%2B%20IA/getting_data/instagram/main/update_main.ipynb#X32sZmlsZQ%3D%3D?line=0'>1</a>\u001b[0m descomprimir_json(latest_file)[\u001b[39m'\u001b[39m\u001b[39mnode\u001b[39m\u001b[39m'\u001b[39m][\u001b[39m'\u001b[39m\u001b[39mcontext_username\u001b[39m\u001b[39m'\u001b[39m]\n",
      "\u001b[1;31mNameError\u001b[0m: name 'latest_file' is not defined"
     ]
    }
   ],
   "source": [
    "descomprimir_json(latest_file)['node']['context_username']"
   ]
  },
  {
   "cell_type": "code",
   "execution_count": 3,
   "metadata": {},
   "outputs": [],
   "source": [
    "def obtener_directorio_actualizado(lista_dir):\n",
    "    try:\n",
    "        res = max(lista_dir, key=os.path.getctime)\n",
    "    except ValueError:\n",
    "        return None\n",
    "    return res"
   ]
  },
  {
   "cell_type": "code",
   "execution_count": 4,
   "metadata": {},
   "outputs": [],
   "source": [
    "Canales_de_noticias_instagram = {\n",
    "    'infobae' : 'infobae',\n",
    "    'TN' : 'todonoticias',\n",
    "    'Clarin' : 'clarincom',\n",
    "    'La_nacion' : 'lanacioncom',\n",
    "    'Minuto_uno' : 'minutouno',\n",
    "    'Filonews' : 'filonewsok',\n",
    "    'Ole' : 'diario.ole',\n",
    "    'TVpublica' : 'tv_publica',\n",
    "    'Pagina12' : 'pagina12',\n",
    "    'C5N' : 'c5n',\n",
    "    'A24' : 'a24noticias',\n",
    "    'Canal26' : 'canal26',\n",
    "    'Canal9' : 'canal9oficial',\n",
    "    'El destape Web': 'eldestapeweb'\n",
    "}\n",
    "canales = list(Canales_de_noticias_instagram.values())"
   ]
  },
  {
   "cell_type": "code",
   "execution_count": 11,
   "metadata": {},
   "outputs": [
    {
     "data": {
      "text/plain": [
       "'C:/Users/54911/OneDrive/Escritorio/Data Science/Elecciones + IA/getting_data/instagram/main/iteradoresV2/'"
      ]
     },
     "execution_count": 11,
     "metadata": {},
     "output_type": "execute_result"
    }
   ],
   "source": [
    "path"
   ]
  },
  {
   "cell_type": "code",
   "execution_count": 12,
   "metadata": {},
   "outputs": [],
   "source": [
    "import glob,os\n",
    "canal_user = []\n",
    "user_contex = []\n",
    "for canal in canales:\n",
    "    directorio = path+canal+'*.json'\n",
    "    directorios = glob.glob(directorio)\n",
    "    actualizado = obtener_directorio_actualizado(directorios)\n",
    "    usuario = 'No aplica'\n",
    "    if actualizado is not None:\n",
    "        usuario = descomprimir_json(actualizado)['node']['context_username']\n",
    "    canal_user.append(canal)\n",
    "    user_contex.append(usuario)"
   ]
  },
  {
   "cell_type": "code",
   "execution_count": 13,
   "metadata": {},
   "outputs": [],
   "source": [
    "import pandas as pd\n",
    "df = pd.DataFrame({'nombre_fuente':canal_user,'nombre_user':user_contex})"
   ]
  },
  {
   "cell_type": "code",
   "execution_count": 41,
   "metadata": {},
   "outputs": [
    {
     "name": "stdout",
     "output_type": "stream",
     "text": [
      "['oscar_ds.py', 'oscar_ds.py', 'oscar_pkong', 'oscar_pkong', 'oscar_ds.py', 'oscar_pkong', 'oscar_ds.py', 'oscarrcitolopez.py', 'oscarrcitolopez.py', 'oscarrcitolopez.py', 'oscarrcitolopez.py', 'oscar_pkong', 'oscar_ds.py', 'No aplica']\n"
     ]
    }
   ],
   "source": [
    "print(user_contex)"
   ]
  },
  {
   "cell_type": "code",
   "execution_count": 14,
   "metadata": {},
   "outputs": [
    {
     "data": {
      "text/html": [
       "<div>\n",
       "<style scoped>\n",
       "    .dataframe tbody tr th:only-of-type {\n",
       "        vertical-align: middle;\n",
       "    }\n",
       "\n",
       "    .dataframe tbody tr th {\n",
       "        vertical-align: top;\n",
       "    }\n",
       "\n",
       "    .dataframe thead th {\n",
       "        text-align: right;\n",
       "    }\n",
       "</style>\n",
       "<table border=\"1\" class=\"dataframe\">\n",
       "  <thead>\n",
       "    <tr style=\"text-align: right;\">\n",
       "      <th></th>\n",
       "      <th>nombre_fuente</th>\n",
       "      <th>nombre_user</th>\n",
       "    </tr>\n",
       "  </thead>\n",
       "  <tbody>\n",
       "    <tr>\n",
       "      <th>0</th>\n",
       "      <td>infobae</td>\n",
       "      <td>oscar_ds.py</td>\n",
       "    </tr>\n",
       "    <tr>\n",
       "      <th>1</th>\n",
       "      <td>todonoticias</td>\n",
       "      <td>oscar_ds.py</td>\n",
       "    </tr>\n",
       "    <tr>\n",
       "      <th>4</th>\n",
       "      <td>minutouno</td>\n",
       "      <td>oscar_ds.py</td>\n",
       "    </tr>\n",
       "    <tr>\n",
       "      <th>11</th>\n",
       "      <td>canal26</td>\n",
       "      <td>oscar_ds.py</td>\n",
       "    </tr>\n",
       "    <tr>\n",
       "      <th>12</th>\n",
       "      <td>canal9oficial</td>\n",
       "      <td>oscar_ds.py</td>\n",
       "    </tr>\n",
       "    <tr>\n",
       "      <th>2</th>\n",
       "      <td>clarincom</td>\n",
       "      <td>oscar_pkong</td>\n",
       "    </tr>\n",
       "    <tr>\n",
       "      <th>3</th>\n",
       "      <td>lanacioncom</td>\n",
       "      <td>oscar_pkong</td>\n",
       "    </tr>\n",
       "    <tr>\n",
       "      <th>5</th>\n",
       "      <td>filonewsok</td>\n",
       "      <td>oscar_pkong</td>\n",
       "    </tr>\n",
       "    <tr>\n",
       "      <th>6</th>\n",
       "      <td>diario.ole</td>\n",
       "      <td>oscar_pkong</td>\n",
       "    </tr>\n",
       "    <tr>\n",
       "      <th>13</th>\n",
       "      <td>eldestapeweb</td>\n",
       "      <td>oscar_pkong</td>\n",
       "    </tr>\n",
       "    <tr>\n",
       "      <th>7</th>\n",
       "      <td>tv_publica</td>\n",
       "      <td>oscarrcitolopez.py</td>\n",
       "    </tr>\n",
       "    <tr>\n",
       "      <th>8</th>\n",
       "      <td>pagina12</td>\n",
       "      <td>oscarrcitolopez.py</td>\n",
       "    </tr>\n",
       "    <tr>\n",
       "      <th>9</th>\n",
       "      <td>c5n</td>\n",
       "      <td>oscarrcitolopez.py</td>\n",
       "    </tr>\n",
       "    <tr>\n",
       "      <th>10</th>\n",
       "      <td>a24noticias</td>\n",
       "      <td>oscarrcitolopez.py</td>\n",
       "    </tr>\n",
       "  </tbody>\n",
       "</table>\n",
       "</div>"
      ],
      "text/plain": [
       "    nombre_fuente         nombre_user\n",
       "0         infobae         oscar_ds.py\n",
       "1    todonoticias         oscar_ds.py\n",
       "4       minutouno         oscar_ds.py\n",
       "11        canal26         oscar_ds.py\n",
       "12  canal9oficial         oscar_ds.py\n",
       "2       clarincom         oscar_pkong\n",
       "3     lanacioncom         oscar_pkong\n",
       "5      filonewsok         oscar_pkong\n",
       "6      diario.ole         oscar_pkong\n",
       "13   eldestapeweb         oscar_pkong\n",
       "7      tv_publica  oscarrcitolopez.py\n",
       "8        pagina12  oscarrcitolopez.py\n",
       "9             c5n  oscarrcitolopez.py\n",
       "10    a24noticias  oscarrcitolopez.py"
      ]
     },
     "execution_count": 14,
     "metadata": {},
     "output_type": "execute_result"
    }
   ],
   "source": [
    "df.sort_values(by='nombre_user')"
   ]
  },
  {
   "cell_type": "code",
   "execution_count": 37,
   "metadata": {},
   "outputs": [
    {
     "data": {
      "text/plain": [
       "oscar_ds.py           5\n",
       "oscar_pkong           4\n",
       "oscarrcitolopez.py    4\n",
       "No aplica             1\n",
       "Name: nombre_user, dtype: int64"
      ]
     },
     "execution_count": 37,
     "metadata": {},
     "output_type": "execute_result"
    }
   ],
   "source": [
    "df['nombre_user'].value_counts()"
   ]
  },
  {
   "cell_type": "code",
   "execution_count": 31,
   "metadata": {},
   "outputs": [],
   "source": [
    "path = 'C:/Users/54911/OneDrive/Escritorio/Data Science/Elecciones + IA/getting_data/instagram/main/iteradores_pc/'"
   ]
  },
  {
   "cell_type": "code",
   "execution_count": 32,
   "metadata": {},
   "outputs": [
    {
     "name": "stdout",
     "output_type": "stream",
     "text": [
      "infobae No aplica\n",
      "todonoticias No aplica\n",
      "clarincom No aplica\n",
      "lanacioncom No aplica\n",
      "minutouno No aplica\n",
      "filonewsok oscar_pkong\n",
      "diario.ole oscar_pkong\n",
      "tv_publica No aplica\n",
      "pagina12 oscar_pkong\n",
      "c5n No aplica\n",
      "a24noticias No aplica\n",
      "canal26 No aplica\n",
      "canal9oficial No aplica\n",
      "eldestapeweb No aplica\n"
     ]
    }
   ],
   "source": [
    "for canal in canales:\n",
    "    directorio = path+canal+'*.json'\n",
    "    directorios = glob.glob(directorio)\n",
    "    actualizado = obtener_directorio_actualizado(directorios)\n",
    "    usuario = 'No aplica'\n",
    "    if actualizado is not None:\n",
    "        usuario = descomprimir_json(actualizado)['node']['context_username']\n",
    "    print(canal, usuario)"
   ]
  },
  {
   "cell_type": "markdown",
   "metadata": {},
   "source": [
    "# Ordenando\n",
    "Por nombre de archivos"
   ]
  },
  {
   "cell_type": "code",
   "execution_count": null,
   "metadata": {},
   "outputs": [],
   "source": [
    "fuente = 'infobae'\n",
    "directorios = glob.glob(path+'iteradoresV2/fuente*.json')"
   ]
  },
  {
   "cell_type": "markdown",
   "metadata": {},
   "source": [
    "lo hice manual al final"
   ]
  },
  {
   "cell_type": "markdown",
   "metadata": {},
   "source": []
  },
  {
   "cell_type": "markdown",
   "metadata": {},
   "source": [
    "# Alterando el iterador\n"
   ]
  },
  {
   "cell_type": "code",
   "execution_count": 2,
   "metadata": {},
   "outputs": [],
   "source": [
    "path = 'C:/Users/54911/OneDrive/Escritorio/Data Science/Elecciones + IA/getting_data/instagram/main/iteradores_pc/diario.ole2023-08-28 23-43-49_Iterador_congelado.json'"
   ]
  },
  {
   "cell_type": "code",
   "execution_count": 11,
   "metadata": {},
   "outputs": [],
   "source": [
    "def updateJsonFile(user,direct):\n",
    "    jsonFile = open(direct, \"r\") # Open the JSON file for reading\n",
    "    data = json.load(jsonFile) # Read the JSON into the buffer\n",
    "    jsonFile.close() # Close the JSON file\n",
    "    \n",
    "    ## Working with buffered content\n",
    "    data['node']['context_username'] = user\n",
    "\n",
    "    ## Save our changes to JSON file\n",
    "    jsonFile = open(direct, \"w+\")\n",
    "    jsonFile.write(json.dumps(data))\n",
    "    jsonFile.close()\n",
    "    "
   ]
  },
  {
   "cell_type": "code",
   "execution_count": 16,
   "metadata": {},
   "outputs": [],
   "source": [
    "updateJsonFile('oscar_ds.py',path)"
   ]
  },
  {
   "cell_type": "code",
   "execution_count": 19,
   "metadata": {},
   "outputs": [
    {
     "data": {
      "text/plain": [
       "{'instaloader': {'node_type': 'FrozenNodeIterator', 'version': '4.10'},\n",
       " 'node': {'best_before': 1695782608.645768,\n",
       "  'context_username': 'oscar_ds.py',\n",
       "  'first_node': {'__typename': 'GraphImage',\n",
       "   'accessibility_caption': None,\n",
       "   'coauthor_producers': [],\n",
       "   'comments_disabled': False,\n",
       "   'dimensions': {'height': 1350, 'width': 1080},\n",
       "   'display_url': 'https://instagram.faep33-1.fna.fbcdn.net/v/t39.30808-6/371894875_846582483693731_8751802315771740934_n.jpg?stp=dst-jpg_e35_p1080x1080_sh0.08&_nc_ht=instagram.faep33-1.fna.fbcdn.net&_nc_cat=1&_nc_ohc=5rR4ihWwLC0AX8wIgJ8&edm=AOQ1c0wAAAAA&ccb=7-5&ig_cache_key=MzE3OTczMjM2OTQzMDM3ODA5OA%3D%3D.2-ccb7-5&oh=00_AfAN17UeYS8_CJf2NcZgF00uuK9HTDfDlhqdCv1KuIi5Jg&oe=64F26B74&_nc_sid=8b3546',\n",
       "   'edge_liked_by': {'count': 9809},\n",
       "   'edge_media_preview_like': {'count': 9809},\n",
       "   'edge_media_to_caption': {'edges': [{'node': {'text': 'Godoy Cruz ya le pagó a River por el 50% de Hernán López Muñoz (22 l 🇦🇷)\\n\\n➤ Está a préstamo sin cargo para diciembre 2023\\n➤ Tenía una la opción de compra: 1.000.000 de dólares por la mitad del pase'}}]},\n",
       "   'edge_media_to_comment': {'count': 71},\n",
       "   'edge_media_to_tagged_user': {'edges': []},\n",
       "   'fact_check_information': None,\n",
       "   'fact_check_overall_rating': None,\n",
       "   'gating_info': None,\n",
       "   'has_upcoming_event': False,\n",
       "   'id': '3179732369430378098',\n",
       "   'is_video': False,\n",
       "   'location': None,\n",
       "   'media_overlay_info': None,\n",
       "   'media_preview': None,\n",
       "   'nft_asset_info': None,\n",
       "   'owner': {'id': '2020951753', 'username': 'diario.ole'},\n",
       "   'pinned_for_users': [],\n",
       "   'sharing_friction_info': {'bloks_app_url': None,\n",
       "    'should_have_sharing_friction': False},\n",
       "   'shortcode': 'Cwgrb44tXZy',\n",
       "   'taken_at_timestamp': 1693273658,\n",
       "   'thumbnail_resources': [{'config_height': 150,\n",
       "     'config_width': 150,\n",
       "     'src': 'https://instagram.faep33-1.fna.fbcdn.net/v/t39.30808-6/371894875_846582483693731_8751802315771740934_n.jpg?stp=c0.150.1200.1200a_dst-jpg_e15_s150x150&_nc_ht=instagram.faep33-1.fna.fbcdn.net&_nc_cat=1&_nc_ohc=5rR4ihWwLC0AX8wIgJ8&edm=AOQ1c0wAAAAA&ccb=7-5&ig_cache_key=MzE3OTczMjM2OTQzMDM3ODA5OA%3D%3D.2.c-ccb7-5&oh=00_AfDR73c0n4RhHOoOvQPJqSATYpJfD2MM5fhg5wvTH_sjhw&oe=64F26B74&_nc_sid=8b3546'},\n",
       "    {'config_height': 240,\n",
       "     'config_width': 240,\n",
       "     'src': 'https://instagram.faep33-1.fna.fbcdn.net/v/t39.30808-6/371894875_846582483693731_8751802315771740934_n.jpg?stp=c0.150.1200.1200a_dst-jpg_e15_s240x240&_nc_ht=instagram.faep33-1.fna.fbcdn.net&_nc_cat=1&_nc_ohc=5rR4ihWwLC0AX8wIgJ8&edm=AOQ1c0wAAAAA&ccb=7-5&ig_cache_key=MzE3OTczMjM2OTQzMDM3ODA5OA%3D%3D.2.c-ccb7-5&oh=00_AfDz8KDxl6BjUap3jL6kleh_tegykJU4kEt1YGP01M32nA&oe=64F26B74&_nc_sid=8b3546'},\n",
       "    {'config_height': 320,\n",
       "     'config_width': 320,\n",
       "     'src': 'https://instagram.faep33-1.fna.fbcdn.net/v/t39.30808-6/371894875_846582483693731_8751802315771740934_n.jpg?stp=c0.150.1200.1200a_dst-jpg_e15_s320x320&_nc_ht=instagram.faep33-1.fna.fbcdn.net&_nc_cat=1&_nc_ohc=5rR4ihWwLC0AX8wIgJ8&edm=AOQ1c0wAAAAA&ccb=7-5&ig_cache_key=MzE3OTczMjM2OTQzMDM3ODA5OA%3D%3D.2.c-ccb7-5&oh=00_AfCL8Fu5U5F2Zuuk2jk8VwqBH4zusL-on_7ZJQD6xj4Vbw&oe=64F26B74&_nc_sid=8b3546'},\n",
       "    {'config_height': 480,\n",
       "     'config_width': 480,\n",
       "     'src': 'https://instagram.faep33-1.fna.fbcdn.net/v/t39.30808-6/371894875_846582483693731_8751802315771740934_n.jpg?stp=c0.150.1200.1200a_dst-jpg_e15_s480x480&_nc_ht=instagram.faep33-1.fna.fbcdn.net&_nc_cat=1&_nc_ohc=5rR4ihWwLC0AX8wIgJ8&edm=AOQ1c0wAAAAA&ccb=7-5&ig_cache_key=MzE3OTczMjM2OTQzMDM3ODA5OA%3D%3D.2.c-ccb7-5&oh=00_AfCVxjEWgUndVvPRiXQicbDFPax4GJjLbwEg25ndvOI2Ug&oe=64F26B74&_nc_sid=8b3546'},\n",
       "    {'config_height': 640,\n",
       "     'config_width': 640,\n",
       "     'src': 'https://instagram.faep33-1.fna.fbcdn.net/v/t39.30808-6/371894875_846582483693731_8751802315771740934_n.jpg?stp=c0.150.1200.1200a_dst-jpg_e35_s640x640_sh0.08&_nc_ht=instagram.faep33-1.fna.fbcdn.net&_nc_cat=1&_nc_ohc=5rR4ihWwLC0AX8wIgJ8&edm=AOQ1c0wAAAAA&ccb=7-5&ig_cache_key=MzE3OTczMjM2OTQzMDM3ODA5OA%3D%3D.2.c-ccb7-5&oh=00_AfAbn01oaP7W0GPgd1HIZDW16uooa_U-qGeWUnb28_3Xog&oe=64F26B74&_nc_sid=8b3546'}],\n",
       "   'thumbnail_src': 'https://instagram.faep33-1.fna.fbcdn.net/v/t39.30808-6/371894875_846582483693731_8751802315771740934_n.jpg?stp=c0.150.1200.1200a_dst-jpg_e35_s640x640_sh0.08&_nc_ht=instagram.faep33-1.fna.fbcdn.net&_nc_cat=1&_nc_ohc=5rR4ihWwLC0AX8wIgJ8&edm=AOQ1c0wAAAAA&ccb=7-5&ig_cache_key=MzE3OTczMjM2OTQzMDM3ODA5OA%3D%3D.2.c-ccb7-5&oh=00_AfAbn01oaP7W0GPgd1HIZDW16uooa_U-qGeWUnb28_3Xog&oe=64F26B74&_nc_sid=8b3546',\n",
       "   'viewer_can_reshare': True},\n",
       "  'query_hash': '003056d32c2554def87228bc3fd9668a',\n",
       "  'query_referer': 'https://www.instagram.com/diario.ole/',\n",
       "  'query_variables': {'id': 2020951753},\n",
       "  'remaining_data': {'count': 47943,\n",
       "   'edges': [{'node': {'__typename': 'GraphImage',\n",
       "      'accessibility_caption': None,\n",
       "      'coauthor_producers': [],\n",
       "      'comments_disabled': False,\n",
       "      'dimensions': {'height': 1080, 'width': 1080},\n",
       "      'display_url': 'https://instagram.faep33-1.fna.fbcdn.net/v/t39.30808-6/370256617_846504233701556_4101417562594256072_n.jpg?stp=dst-jpg_e35_s1080x1080_sh0.08&_nc_ht=instagram.faep33-1.fna.fbcdn.net&_nc_cat=1&_nc_ohc=Po6OioLRDsoAX-kaLGG&edm=AOQ1c0wAAAAA&ccb=7-5&ig_cache_key=MzE3OTYwMDY4NDY1MTIxNjkxMg%3D%3D.2-ccb7-5&oh=00_AfBNRO59pyDKtkIkw-f5HkJZWEeuQ_L1CKA3Dqsris8VVA&oe=64F247B2&_nc_sid=8b3546',\n",
       "      'edge_liked_by': {'count': 19603},\n",
       "      'edge_media_preview_like': {'count': 19603},\n",
       "      'edge_media_to_caption': {'edges': [{'node': {'text': '⚽️ ¡PALIZA TOTAL DEL ATLETI DE SIMEONE: 7-0!\\n\\n🔴⚪️🇦🇷 Atlético Madrid destrozó al Rayo Vallecano con participación argentina: GO-LA-ZO de Correa (la picó; y asistió a Morata), gol de Molina y dos asistencias de De Paul (una al lateral argentino)'}}]},\n",
       "      'edge_media_to_comment': {'count': 79},\n",
       "      'edge_media_to_tagged_user': {'edges': []},\n",
       "      'fact_check_information': None,\n",
       "      'fact_check_overall_rating': None,\n",
       "      'gating_info': None,\n",
       "      'has_upcoming_event': False,\n",
       "      'id': '3179600684651216912',\n",
       "      'is_video': False,\n",
       "      'location': None,\n",
       "      'media_overlay_info': None,\n",
       "      'media_preview': 'ACoqlaFBuKjjZuHtSxQodpI6qSfwqONSiOcdYyR71TsJ5mlVWOVwcgjoP6fy9aAL5kt96rg4Ofzpx+zhlBIAYHgnmq9yYnKbRgbgD9MjJqpe24abdGVKnsO2PX39u5pXK5W9rlhZ4WG5lZQc4Izjgnqc/ToODnPamiZfRfz/APr1AIhyM/wlsf0x1BqMW8ZGcnn3pajVuxaa5JIJfGMDgcY9Pw/WoYp1gl3EB/fPr3HvSWo84Mu4r1Pbn8/T+tOTT1kXdvHUjHGeDjNKxu5x1VtPl+iJZ5kLlUGFUdjz+VMYgHOEA4wctySM8e/uelS/2egy3mDOOeetL9lTA3McbA3AH+7jv/SnYz52kl2KHnl+cDOD+Q/CpRJn+H8mH/xNOns1hiLqWBHGDjv9KoiSglv5ehLbFFJ35Ix25qyjwhNpU7s9ce/T8qzQSB+A/nShjk8mqJNszWg/5ZnFRx3UKnj5RtA+6eTnPOOvHGawvWm0yTbu7yN4jHuycjAww/MmswSjFQNTaVrAf//Z',\n",
       "      'nft_asset_info': None,\n",
       "      'owner': {'id': '2020951753', 'username': 'diario.ole'},\n",
       "      'pinned_for_users': [],\n",
       "      'sharing_friction_info': {'bloks_app_url': None,\n",
       "       'should_have_sharing_friction': False},\n",
       "      'shortcode': 'CwgNfn4OYAQ',\n",
       "      'taken_at_timestamp': 1693257960,\n",
       "      'thumbnail_resources': [{'config_height': 150,\n",
       "        'config_width': 150,\n",
       "        'src': 'https://instagram.faep33-1.fna.fbcdn.net/v/t39.30808-6/370256617_846504233701556_4101417562594256072_n.jpg?stp=dst-jpg_e15_s150x150&_nc_ht=instagram.faep33-1.fna.fbcdn.net&_nc_cat=1&_nc_ohc=Po6OioLRDsoAX-kaLGG&edm=AOQ1c0wAAAAA&ccb=7-5&ig_cache_key=MzE3OTYwMDY4NDY1MTIxNjkxMg%3D%3D.2-ccb7-5&oh=00_AfCcr5n8Qo5tqBXJrCQMmLjjM2el0QKokUv_EtIDYUSA_w&oe=64F247B2&_nc_sid=8b3546'},\n",
       "       {'config_height': 240,\n",
       "        'config_width': 240,\n",
       "        'src': 'https://instagram.faep33-1.fna.fbcdn.net/v/t39.30808-6/370256617_846504233701556_4101417562594256072_n.jpg?stp=dst-jpg_e15_s240x240&_nc_ht=instagram.faep33-1.fna.fbcdn.net&_nc_cat=1&_nc_ohc=Po6OioLRDsoAX-kaLGG&edm=AOQ1c0wAAAAA&ccb=7-5&ig_cache_key=MzE3OTYwMDY4NDY1MTIxNjkxMg%3D%3D.2-ccb7-5&oh=00_AfAex9yRrR8o5N8b3MhVD5ABFJuDaTgN6Xto2FFWKVdEPQ&oe=64F247B2&_nc_sid=8b3546'},\n",
       "       {'config_height': 320,\n",
       "        'config_width': 320,\n",
       "        'src': 'https://instagram.faep33-1.fna.fbcdn.net/v/t39.30808-6/370256617_846504233701556_4101417562594256072_n.jpg?stp=dst-jpg_e15_s320x320&_nc_ht=instagram.faep33-1.fna.fbcdn.net&_nc_cat=1&_nc_ohc=Po6OioLRDsoAX-kaLGG&edm=AOQ1c0wAAAAA&ccb=7-5&ig_cache_key=MzE3OTYwMDY4NDY1MTIxNjkxMg%3D%3D.2-ccb7-5&oh=00_AfAHiuNaGj3hVvAYLC0JsjpxTyY2qfhjhWbDjCt8BWjBwA&oe=64F247B2&_nc_sid=8b3546'},\n",
       "       {'config_height': 480,\n",
       "        'config_width': 480,\n",
       "        'src': 'https://instagram.faep33-1.fna.fbcdn.net/v/t39.30808-6/370256617_846504233701556_4101417562594256072_n.jpg?stp=dst-jpg_e15_s480x480&_nc_ht=instagram.faep33-1.fna.fbcdn.net&_nc_cat=1&_nc_ohc=Po6OioLRDsoAX-kaLGG&edm=AOQ1c0wAAAAA&ccb=7-5&ig_cache_key=MzE3OTYwMDY4NDY1MTIxNjkxMg%3D%3D.2-ccb7-5&oh=00_AfBJQWmJi7QLncAkjp4Bvfkw-pqAE4GPyO127WsifjaCNQ&oe=64F247B2&_nc_sid=8b3546'},\n",
       "       {'config_height': 640,\n",
       "        'config_width': 640,\n",
       "        'src': 'https://instagram.faep33-1.fna.fbcdn.net/v/t39.30808-6/370256617_846504233701556_4101417562594256072_n.jpg?stp=dst-jpg_e35_s640x640_sh0.08&_nc_ht=instagram.faep33-1.fna.fbcdn.net&_nc_cat=1&_nc_ohc=Po6OioLRDsoAX-kaLGG&edm=AOQ1c0wAAAAA&ccb=7-5&ig_cache_key=MzE3OTYwMDY4NDY1MTIxNjkxMg%3D%3D.2-ccb7-5&oh=00_AfAXyQcpFrnMDvoQQyY_9Z0K1ShxavHC5RbJVdOzRmS3Iw&oe=64F247B2&_nc_sid=8b3546'}],\n",
       "      'thumbnail_src': 'https://instagram.faep33-1.fna.fbcdn.net/v/t39.30808-6/370256617_846504233701556_4101417562594256072_n.jpg?stp=dst-jpg_e35_s640x640_sh0.08&_nc_ht=instagram.faep33-1.fna.fbcdn.net&_nc_cat=1&_nc_ohc=Po6OioLRDsoAX-kaLGG&edm=AOQ1c0wAAAAA&ccb=7-5&ig_cache_key=MzE3OTYwMDY4NDY1MTIxNjkxMg%3D%3D.2-ccb7-5&oh=00_AfAXyQcpFrnMDvoQQyY_9Z0K1ShxavHC5RbJVdOzRmS3Iw&oe=64F247B2&_nc_sid=8b3546',\n",
       "      'viewer_can_reshare': True}}],\n",
       "   'page_info': {'end_cursor': 'QVFDM2t6a2FBLTZfeHpJVXpCSFU3ZGQyZjRNMVZ2cXNJTEs2TlpUWF9kV214cWlBM1dZR3NZTkJaRFV5NUF6UW9qdFBQMk1kVFBtS05aOUhrd0NKU1VQZg==',\n",
       "    'has_next_page': True}},\n",
       "  'total_index': 11}}"
      ]
     },
     "execution_count": 19,
     "metadata": {},
     "output_type": "execute_result"
    }
   ],
   "source": [
    "descomprimir_json(path)"
   ]
  },
  {
   "cell_type": "markdown",
   "metadata": {},
   "source": [
    "Probemos si podemos retomarlo desde instaloader\n"
   ]
  },
  {
   "cell_type": "code",
   "execution_count": 18,
   "metadata": {},
   "outputs": [
    {
     "name": "stdout",
     "output_type": "stream",
     "text": [
      "Loaded session from C:\\Users\\54911\\AppData\\Local\\Instaloader\\session-oscar_ds.py.\n"
     ]
    }
   ],
   "source": [
    "import instaloader\n",
    "bot = instaloader.Instaloader()\n",
    "bot.load_session_from_file('oscar_ds.py')\n",
    "perfil = instaloader.Profile.from_username(bot.context,'diario.ole')\n",
    "publicaciones = perfil.get_posts()"
   ]
  },
  {
   "cell_type": "code",
   "execution_count": 20,
   "metadata": {},
   "outputs": [],
   "source": [
    "publicaciones_aux = instaloader.load_structure_from_file(bot.context,path)\n",
    "publicaciones.thaw(publicaciones_aux)"
   ]
  },
  {
   "cell_type": "code",
   "execution_count": 21,
   "metadata": {},
   "outputs": [],
   "source": [
    "bot.close()"
   ]
  },
  {
   "cell_type": "markdown",
   "metadata": {},
   "source": [
    "si se puede lol!"
   ]
  }
 ],
 "metadata": {
  "kernelspec": {
   "display_name": "Python 3",
   "language": "python",
   "name": "python3"
  },
  "language_info": {
   "codemirror_mode": {
    "name": "ipython",
    "version": 3
   },
   "file_extension": ".py",
   "mimetype": "text/x-python",
   "name": "python",
   "nbconvert_exporter": "python",
   "pygments_lexer": "ipython3",
   "version": "3.11.2"
  },
  "orig_nbformat": 4
 },
 "nbformat": 4,
 "nbformat_minor": 2
}
