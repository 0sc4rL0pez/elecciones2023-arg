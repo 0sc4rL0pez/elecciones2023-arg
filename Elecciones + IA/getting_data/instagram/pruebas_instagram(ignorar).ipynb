{
 "cells": [
  {
   "cell_type": "markdown",
   "metadata": {},
   "source": [
    "* Como espero ordenar los iteradores:\n",
    "\n",
    "Tengo 3 usuarios que van a correr en paralelo:\n",
    "\n",
    "Van a tener un tiempo de espera de forma que se distribuyan los momento de consultas\n",
    "\n",
    "t = 60/3 = 20 min\n",
    "\n",
    "* Como guardo los iteradores?\n",
    "\n",
    "Guardarlos todos en el mismo lugar,\n",
    "\n",
    "por otro lado guardo txt con el iterador mas actual (sumar el nombre el canal!!)\n",
    "\n",
    "guardar en ese mismo txt info básica de los datos del canal:\n",
    "\n",
    "numero de publicaciones, rango de fechas pertecientes a la publicacion"
   ]
  },
  {
   "cell_type": "code",
   "execution_count": 1,
   "metadata": {},
   "outputs": [],
   "source": [
    "import instaloader"
   ]
  },
  {
   "cell_type": "code",
   "execution_count": 6,
   "metadata": {},
   "outputs": [],
   "source": [
    "login_user = 'oscar_pkong'\n",
    "target_user = 'diario.ole'"
   ]
  },
  {
   "cell_type": "code",
   "execution_count": 3,
   "metadata": {},
   "outputs": [],
   "source": [
    "bot = instaloader.Instaloader()"
   ]
  },
  {
   "cell_type": "code",
   "execution_count": 4,
   "metadata": {},
   "outputs": [
    {
     "name": "stdout",
     "output_type": "stream",
     "text": [
      "Loaded session from C:\\Users\\54911\\AppData\\Local\\Instaloader\\session-oscar_pkong.\n"
     ]
    }
   ],
   "source": [
    "bot.load_session_from_file(login_user)"
   ]
  },
  {
   "cell_type": "code",
   "execution_count": 7,
   "metadata": {},
   "outputs": [],
   "source": [
    "perfil = instaloader.Profile.from_username(bot.context, target_user)"
   ]
  },
  {
   "cell_type": "code",
   "execution_count": 8,
   "metadata": {},
   "outputs": [],
   "source": [
    "bot.close()"
   ]
  },
  {
   "cell_type": "code",
   "execution_count": 5,
   "metadata": {},
   "outputs": [],
   "source": [
    "nombre_json = 'main\\iteradores\\infobae2023-08-27 22-36-10_Iterador_congelado.json'"
   ]
  },
  {
   "cell_type": "code",
   "execution_count": 6,
   "metadata": {},
   "outputs": [],
   "source": [
    "publicaciones_aux = instaloader.load_structure_from_file(bot.context,nombre_json)"
   ]
  },
  {
   "cell_type": "code",
   "execution_count": 8,
   "metadata": {},
   "outputs": [],
   "source": [
    "nombre ='main\\iteradores\\ordenando\\infobae2023-08-27 22-36-10_Iterador_congelado.json'\n",
    "instaloader.save_structure_to_file(publicaciones_aux,nombre)"
   ]
  },
  {
   "cell_type": "code",
   "execution_count": 3,
   "metadata": {},
   "outputs": [
    {
     "name": "stdout",
     "output_type": "stream",
     "text": [
      " El volumen de la unidad C es Windows\n",
      " El n�mero de serie del volumen es: 9AF1-5DCD\n",
      "\n",
      " Directorio de c:\\Users\\54911\\OneDrive\\Escritorio\\Data Science\\Elecciones + IA\\getting_data\\instagram\n",
      "\n",
      "28/08/2023  21:55    <DIR>          .\n",
      "31/08/2023  18:43    <DIR>          ..\n",
      "08/08/2023  20:04               321 atributos_metodos_instaloader.txt\n",
      "10/08/2023  21:39             6.294 debbuging.py\n",
      "15/08/2023  19:25    <DIR>          infobae\n",
      "31/08/2023  20:42    <DIR>          main\n",
      "29/08/2023  19:52            87.493 scrapping_insta.ipynb\n",
      "               3 archivos         94.108 bytes\n",
      "               4 dirs  18.222.579.712 bytes libres\n"
     ]
    }
   ],
   "source": [
    "!dir"
   ]
  },
  {
   "cell_type": "code",
   "execution_count": 4,
   "metadata": {},
   "outputs": [
    {
     "name": "stdout",
     "output_type": "stream",
     "text": [
      "Battery percentage :  99\n",
      "Power plugged in :  False\n",
      "Battery left :  1193046:28:15\n"
     ]
    }
   ],
   "source": [
    "# python script showing battery details\n",
    "import psutil\n",
    "\n",
    "# function returning time in hh:mm:ss\n",
    "def convertTime(seconds):\n",
    "\tminutes, seconds = divmod(seconds, 60)\n",
    "\thours, minutes = divmod(minutes, 60)\n",
    "\treturn \"%d:%02d:%02d\" % (hours, minutes, seconds)\n",
    "\n",
    "# returns a tuple\n",
    "battery = psutil.sensors_battery()\n",
    "\n",
    "print(\"Battery percentage : \", battery.percent)\n",
    "print(\"Power plugged in : \", battery.power_plugged)\n",
    "\n",
    "# converting seconds to hh:mm:ss\n",
    "print(\"Battery left : \", convertTime(battery.secsleft))\n"
   ]
  },
  {
   "cell_type": "markdown",
   "metadata": {},
   "source": [
    "Revisando los datos"
   ]
  },
  {
   "cell_type": "code",
   "execution_count": 16,
   "metadata": {},
   "outputs": [],
   "source": [
    "data = []\n",
    "import ast"
   ]
  },
  {
   "cell_type": "code",
   "execution_count": 35,
   "metadata": {},
   "outputs": [],
   "source": [
    "with open('main\\data\\infobae_info_recolectada.txt','r',encoding='utf-8') as file:\n",
    "    for line in file:\n",
    "        data.append(line)"
   ]
  },
  {
   "cell_type": "code",
   "execution_count": 36,
   "metadata": {},
   "outputs": [
    {
     "data": {
      "text/plain": [
       "tuple"
      ]
     },
     "execution_count": 36,
     "metadata": {},
     "output_type": "execute_result"
    }
   ],
   "source": [
    "type(data[0])"
   ]
  },
  {
   "cell_type": "code",
   "execution_count": 22,
   "metadata": {},
   "outputs": [
    {
     "ename": "ValueError",
     "evalue": "tuple.index(x): x not in tuple",
     "output_type": "error",
     "traceback": [
      "\u001b[1;31m---------------------------------------------------------------------------\u001b[0m",
      "\u001b[1;31mValueError\u001b[0m                                Traceback (most recent call last)",
      "Cell \u001b[1;32mIn[22], line 1\u001b[0m\n\u001b[1;32m----> 1\u001b[0m data[\u001b[39m0\u001b[39m][data[\u001b[39m0\u001b[39;49m]\u001b[39m.\u001b[39;49mindex(\u001b[39m'\u001b[39;49m\u001b[39m:\u001b[39;49m\u001b[39m'\u001b[39;49m)\u001b[39m+\u001b[39m\u001b[39m2\u001b[39m :\u001b[39m-\u001b[39m\u001b[39m3\u001b[39m]\n",
      "\u001b[1;31mValueError\u001b[0m: tuple.index(x): x not in tuple"
     ]
    }
   ],
   "source": [
    "data[0][data[0].index(':')+2 :-3]"
   ]
  },
  {
   "cell_type": "code",
   "execution_count": 57,
   "metadata": {},
   "outputs": [],
   "source": [
    "caption = \"\""
   ]
  },
  {
   "cell_type": "code",
   "execution_count": 61,
   "metadata": {},
   "outputs": [
    {
     "data": {
      "text/plain": [
       "\"['DANIELA DE GRAN HERMANO ANUNCIÓ SU EMBARAZO 🐣 🤰🏻\\\\nDespués de muchos rumoresfinalmente Daniela Celis confirmó en el ciclo de streaming que participa junto a sus ex compañeros que está embarazada de gemelos.\\\\n🗣 “Resulta ser que no me encontré con unome encontré con dos” dijo la ex hermanita mientras sus amigos festejaban a los gritos la feliz noticia.\\\\n\\\\n📌 Más detalles en @infobae -link en bio-'\""
      ]
     },
     "execution_count": 61,
     "metadata": {},
     "output_type": "execute_result"
    }
   ],
   "source": [
    "caption.join(value[:-3])"
   ]
  },
  {
   "cell_type": "code",
   "execution_count": 47,
   "metadata": {},
   "outputs": [
    {
     "data": {
      "text/plain": [
       "[\"['DANIELA DE GRAN HERMANO ANUNCIÓ SU EMBARAZO 🐣 🤰🏻\\\\nDespués de muchos rumores\",\n",
       " 'finalmente Daniela Celis confirmó en el ciclo de streaming que participa junto a sus ex compañeros que está embarazada de gemelos.\\\\n🗣 “Resulta ser que no me encontré con uno',\n",
       " \"me encontré con dos” dijo la ex hermanita mientras sus amigos festejaban a los gritos la feliz noticia.\\\\n\\\\n📌 Más detalles en @infobae -link en bio-'\",\n",
       " '5607',\n",
       " \"'infobae'\",\n",
       " \"'2023-08-24 23-33-14']\"]"
      ]
     },
     "execution_count": 47,
     "metadata": {},
     "output_type": "execute_result"
    }
   ],
   "source": [
    "value = data[0][data[0].index(':')+2 :-3].split(', ')\n",
    "likes = value[-3]\n",
    "canal = value[-2]\n",
    "dia = value[-1]\n",
    "value"
   ]
  },
  {
   "cell_type": "code",
   "execution_count": 33,
   "metadata": {},
   "outputs": [
    {
     "data": {
      "text/plain": [
       "'CwWI36nSXFo'"
      ]
     },
     "execution_count": 33,
     "metadata": {},
     "output_type": "execute_result"
    }
   ],
   "source": [
    "data[0].split(':')[0][2:-1]"
   ]
  },
  {
   "cell_type": "markdown",
   "metadata": {},
   "source": [
    "Quiero obtener la ultima linea del txt para obtener la fecha y la cantidad de publicaciones"
   ]
  },
  {
   "cell_type": "code",
   "execution_count": 2,
   "metadata": {},
   "outputs": [],
   "source": [
    "def ultimaLinea(directorio):\n",
    "    with open(directorio,'r',encoding='utf-8') as file:\n",
    "        count = 0\n",
    "        for line in file:\n",
    "            count+=1\n",
    "        \n",
    "    return count, line"
   ]
  },
  {
   "cell_type": "code",
   "execution_count": 10,
   "metadata": {},
   "outputs": [],
   "source": [
    "dir1='main\\data\\infobae_info_recolectada.txt'\n",
    "dir2 = 'main\\data\\info_recolectada.txt'"
   ]
  },
  {
   "cell_type": "code",
   "execution_count": 11,
   "metadata": {},
   "outputs": [],
   "source": [
    "cantidad_1, last_pub_1 = ultimaLinea(dir1)\n",
    "cantidad_2, last_pub_2 = ultimaLinea(dir2)"
   ]
  },
  {
   "cell_type": "code",
   "execution_count": 58,
   "metadata": {},
   "outputs": [],
   "source": [
    "import datetime"
   ]
  },
  {
   "cell_type": "code",
   "execution_count": 89,
   "metadata": {},
   "outputs": [],
   "source": [
    "def dia_pub(pub):\n",
    "    # de str a dict\n",
    "    if type(pub) == str:\n",
    "        values = pub[pub.index(':')+2 :-3]\n",
    "        clave = pub.split(':')[0][2:-1]\n",
    "\n",
    "        value = values.split(', ')\n",
    "        likes = value[-3]\n",
    "        canal = value[-2][1:-1]\n",
    "        dia = value[-1][1:-2]\n",
    "    elif type(pub) == tuple:\n",
    "        print('Es una tupla xd')\n",
    "        \n",
    "    #return {clave:[canal,dia,likes] }\n",
    "    return dia"
   ]
  },
  {
   "cell_type": "code",
   "execution_count": 90,
   "metadata": {},
   "outputs": [
    {
     "data": {
      "text/plain": [
       "'2023-06-19 07-11-18'"
      ]
     },
     "execution_count": 90,
     "metadata": {},
     "output_type": "execute_result"
    }
   ],
   "source": [
    "dia_pub(last_pub_2)"
   ]
  },
  {
   "cell_type": "code",
   "execution_count": 91,
   "metadata": {},
   "outputs": [
    {
     "data": {
      "text/plain": [
       "'2021-07-15 01-56-22'"
      ]
     },
     "execution_count": 91,
     "metadata": {},
     "output_type": "execute_result"
    }
   ],
   "source": [
    "dia_pub(last_pub_1)"
   ]
  },
  {
   "cell_type": "markdown",
   "metadata": {},
   "source": [
    "eliminando iteradores extra"
   ]
  },
  {
   "cell_type": "code",
   "execution_count": 92,
   "metadata": {},
   "outputs": [],
   "source": [
    "import os"
   ]
  },
  {
   "cell_type": "code",
   "execution_count": 93,
   "metadata": {},
   "outputs": [],
   "source": [
    "path = 'main\\infobae2023-08-28 11-51-49_Iterador_congelado.json'"
   ]
  },
  {
   "cell_type": "code",
   "execution_count": 94,
   "metadata": {},
   "outputs": [
    {
     "data": {
      "text/plain": [
       "True"
      ]
     },
     "execution_count": 94,
     "metadata": {},
     "output_type": "execute_result"
    }
   ],
   "source": [
    "os.path.exists(path)"
   ]
  },
  {
   "cell_type": "code",
   "execution_count": 95,
   "metadata": {},
   "outputs": [],
   "source": [
    "os.remove(path)"
   ]
  },
  {
   "cell_type": "markdown",
   "metadata": {},
   "source": [
    "CUIDADO QUE LO BORRA DEL DISCO DURO !\n",
    "\n",
    "Quiza conviene moverlos a una carpeta por si acaso\n"
   ]
  },
  {
   "cell_type": "code",
   "execution_count": 101,
   "metadata": {},
   "outputs": [],
   "source": [
    "import pathlib"
   ]
  },
  {
   "cell_type": "code",
   "execution_count": 104,
   "metadata": {},
   "outputs": [
    {
     "data": {
      "text/plain": [
       "WindowsPath('main/iteradores/infobae2023-08-28 09-44-43_Iterador_congelado.json')"
      ]
     },
     "execution_count": 104,
     "metadata": {},
     "output_type": "execute_result"
    }
   ],
   "source": [
    "pathlib.Path('main\\infobae2023-08-28 09-44-43_Iterador_congelado.json').rename('main/iteradores/infobae2023-08-28 09-44-43_Iterador_congelado.json')"
   ]
  },
  {
   "cell_type": "markdown",
   "metadata": {},
   "source": [
    "habria que mover todo menos el mas reciente"
   ]
  },
  {
   "cell_type": "code",
   "execution_count": 139,
   "metadata": {},
   "outputs": [],
   "source": [
    "lista_json = glob.glob('main/*.json')"
   ]
  },
  {
   "cell_type": "markdown",
   "metadata": {},
   "source": [
    "podriamos leer el cual es el ultimo guardado, mover todo menos ese"
   ]
  },
  {
   "cell_type": "code",
   "execution_count": 118,
   "metadata": {},
   "outputs": [],
   "source": [
    "def leer_txt(dir):\n",
    "    with open(dir,'r',encoding='utf-8') as f:\n",
    "        texto = f.read()\n",
    "    return texto"
   ]
  },
  {
   "cell_type": "code",
   "execution_count": 141,
   "metadata": {},
   "outputs": [],
   "source": [
    "last_one = 'main\\\\'+leer_txt('main/nombre_json.txt')"
   ]
  },
  {
   "cell_type": "code",
   "execution_count": 140,
   "metadata": {},
   "outputs": [
    {
     "data": {
      "text/plain": [
       "29"
      ]
     },
     "execution_count": 140,
     "metadata": {},
     "output_type": "execute_result"
    }
   ],
   "source": [
    "len(lista_json)"
   ]
  },
  {
   "cell_type": "code",
   "execution_count": 142,
   "metadata": {},
   "outputs": [],
   "source": [
    "lista_json.remove(last_one)"
   ]
  },
  {
   "cell_type": "code",
   "execution_count": 143,
   "metadata": {},
   "outputs": [
    {
     "data": {
      "text/plain": [
       "28"
      ]
     },
     "execution_count": 143,
     "metadata": {},
     "output_type": "execute_result"
    }
   ],
   "source": [
    "len(lista_json)"
   ]
  },
  {
   "cell_type": "markdown",
   "metadata": {},
   "source": [
    "creemos la funcion\n"
   ]
  },
  {
   "cell_type": "code",
   "execution_count": 146,
   "metadata": {},
   "outputs": [],
   "source": [
    "def mover_iteradores(dir_viejo):\n",
    "    dir_new = dir_viejo[:4]+'/'+'iteradores/'+dir_viejo.split('/')[-1]\n",
    "    pathlib.Path('main\\infobae2023-08-28 09-44-43_Iterador_congelado.json').rename('main/iteradores/infobae2023-08-28 09-44-43_Iterador_congelado.json')"
   ]
  },
  {
   "cell_type": "code",
   "execution_count": 144,
   "metadata": {},
   "outputs": [],
   "source": [
    "def mover_iteradores_viejos():\n",
    "    last_one = 'main\\\\'+leer_txt('main/nombre_json.txt')\n",
    "    lista_json = glob.glob('main/*.json')\n",
    "    lista_json.remove(last_one)\n",
    "\n",
    "    for elem in lista_json:\n",
    "        mover_iteradores(elem)"
   ]
  },
  {
   "cell_type": "markdown",
   "metadata": {},
   "source": [
    "Busquemos todos aquello que no nos interesa"
   ]
  },
  {
   "cell_type": "markdown",
   "metadata": {},
   "source": [
    "Importando librerias"
   ]
  },
  {
   "cell_type": "code",
   "execution_count": 105,
   "metadata": {},
   "outputs": [],
   "source": [
    "import instaloader\n",
    "import glob\n",
    "import datetime\n",
    "import json"
   ]
  },
  {
   "cell_type": "markdown",
   "metadata": {},
   "source": [
    "Uso basico de la libreria instaloader"
   ]
  },
  {
   "cell_type": "code",
   "execution_count": 72,
   "metadata": {},
   "outputs": [],
   "source": [
    "def info_basica (user_name): \n",
    "    bot = instaloader.Instaloader()\n",
    "    profile = instaloader.Profile.from_username(bot.context, user_name)\n",
    "    print(\"Username: \", profile.username)\n",
    "    print(\"User ID: \", profile.userid)\n",
    "    print(\"Number of Posts: \", profile.mediacount)\n",
    "    print(\"Followers Count: \", profile.followers)\n",
    "    print(\"Following Count: \", profile.followees)\n",
    "    print(\"Bio: \", profile.biography)\n",
    "    print(\"External URL: \", profile.external_url)"
   ]
  },
  {
   "cell_type": "code",
   "execution_count": 18,
   "metadata": {},
   "outputs": [],
   "source": [
    "bot = instaloader.Instaloader()"
   ]
  },
  {
   "cell_type": "markdown",
   "metadata": {},
   "source": [
    "Iniciando sesion "
   ]
  },
  {
   "cell_type": "code",
   "execution_count": 20,
   "metadata": {},
   "outputs": [
    {
     "ename": "FileNotFoundError",
     "evalue": "[Errno 2] No such file or directory: 'c:\\\\users\\\\54911\\\\appdata\\\\local\\\\temp/.instaloader-54911/session-oscarrcitolopez.py'",
     "output_type": "error",
     "traceback": [
      "\u001b[1;31m---------------------------------------------------------------------------\u001b[0m",
      "\u001b[1;31mFileNotFoundError\u001b[0m                         Traceback (most recent call last)",
      "Cell \u001b[1;32mIn[20], line 1\u001b[0m\n\u001b[1;32m----> 1\u001b[0m bot\u001b[39m.\u001b[39;49mload_session_from_file(\u001b[39m'\u001b[39;49m\u001b[39moscarrcitolopez.py\u001b[39;49m\u001b[39m'\u001b[39;49m)\n",
      "File \u001b[1;32mc:\\Users\\54911\\AppData\\Local\\Programs\\Python\\Python311\\Lib\\site-packages\\instaloader\\instaloader.py:635\u001b[0m, in \u001b[0;36mInstaloader.load_session_from_file\u001b[1;34m(self, username, filename)\u001b[0m\n\u001b[0;32m    633\u001b[0m     \u001b[39mif\u001b[39;00m \u001b[39mnot\u001b[39;00m os\u001b[39m.\u001b[39mpath\u001b[39m.\u001b[39mexists(filename):\n\u001b[0;32m    634\u001b[0m         filename \u001b[39m=\u001b[39m get_legacy_session_filename(username)\n\u001b[1;32m--> 635\u001b[0m \u001b[39mwith\u001b[39;00m \u001b[39mopen\u001b[39;49m(filename, \u001b[39m'\u001b[39;49m\u001b[39mrb\u001b[39;49m\u001b[39m'\u001b[39;49m) \u001b[39mas\u001b[39;00m sessionfile:\n\u001b[0;32m    636\u001b[0m     \u001b[39mself\u001b[39m\u001b[39m.\u001b[39mcontext\u001b[39m.\u001b[39mload_session_from_file(username, sessionfile)\n\u001b[0;32m    637\u001b[0m     \u001b[39mself\u001b[39m\u001b[39m.\u001b[39mcontext\u001b[39m.\u001b[39mlog(\u001b[39m\"\u001b[39m\u001b[39mLoaded session from \u001b[39m\u001b[39m%s\u001b[39;00m\u001b[39m.\u001b[39m\u001b[39m\"\u001b[39m \u001b[39m%\u001b[39m filename)\n",
      "\u001b[1;31mFileNotFoundError\u001b[0m: [Errno 2] No such file or directory: 'c:\\\\users\\\\54911\\\\appdata\\\\local\\\\temp/.instaloader-54911/session-oscarrcitolopez.py'"
     ]
    }
   ],
   "source": [
    "bot.load_session_from_file('oscarrcitolopez.py')"
   ]
  },
  {
   "cell_type": "code",
   "execution_count": 21,
   "metadata": {},
   "outputs": [],
   "source": [
    "bot.close()"
   ]
  },
  {
   "cell_type": "code",
   "execution_count": 24,
   "metadata": {},
   "outputs": [
    {
     "data": {
      "text/plain": [
       "True"
      ]
     },
     "execution_count": 24,
     "metadata": {},
     "output_type": "execute_result"
    }
   ],
   "source": [
    "bot.context.is_logged_in"
   ]
  },
  {
   "cell_type": "code",
   "execution_count": 23,
   "metadata": {},
   "outputs": [
    {
     "name": "stdout",
     "output_type": "stream",
     "text": [
      "Loaded session from C:\\Users\\54911\\AppData\\Local\\Instaloader\\session-oscar_ds.py.\n"
     ]
    }
   ],
   "source": [
    "bot.load_session_from_file('oscar_ds.py')"
   ]
  },
  {
   "cell_type": "code",
   "execution_count": 24,
   "metadata": {},
   "outputs": [],
   "source": [
    "bot.close()"
   ]
  },
  {
   "cell_type": "code",
   "execution_count": 25,
   "metadata": {},
   "outputs": [
    {
     "data": {
      "text/plain": [
       "True"
      ]
     },
     "execution_count": 25,
     "metadata": {},
     "output_type": "execute_result"
    }
   ],
   "source": [
    "bot.context.is_logged_in"
   ]
  },
  {
   "cell_type": "markdown",
   "metadata": {},
   "source": [
    "Obtenemos los comentarios y los me gustas dada una publicacion"
   ]
  },
  {
   "cell_type": "code",
   "execution_count": 5,
   "metadata": {},
   "outputs": [],
   "source": [
    "publicacion = instaloader.Post.from_shortcode(bot.context,'CvwvjNZNNax')\n",
    "# comentarios = publicacion.get_comments()\n",
    "# me_gusta = publicacion.get_likes()"
   ]
  },
  {
   "cell_type": "code",
   "execution_count": 27,
   "metadata": {},
   "outputs": [],
   "source": [
    "def guardar_info(post,contador):\n",
    "    descripcion =post.caption\n",
    "    usuario=post.owner_username\n",
    "    likes = post.likes\n",
    "    dia = post.date\n",
    "    id=post.shortcode\n",
    "    publicaciones = {id:[descripcion,likes,usuario,dia]}\n",
    "    with open('info_recolectada.txt','a',encoding='utf-8') as f:\n",
    "        f.write(str(publicaciones)+', ')\n",
    "    return contador + 5"
   ]
  },
  {
   "cell_type": "code",
   "execution_count": 38,
   "metadata": {},
   "outputs": [
    {
     "data": {
      "text/plain": [
       "15"
      ]
     },
     "execution_count": 38,
     "metadata": {},
     "output_type": "execute_result"
    }
   ],
   "source": [
    "guardar_info(publicacion,count)"
   ]
  },
  {
   "cell_type": "code",
   "execution_count": 24,
   "metadata": {},
   "outputs": [],
   "source": [
    "count = 10"
   ]
  },
  {
   "cell_type": "code",
   "execution_count": 39,
   "metadata": {},
   "outputs": [],
   "source": [
    "with open('info_recolectada.txt','r',encoding='utf-8') as f:\n",
    "    data = f.read()\n"
   ]
  },
  {
   "cell_type": "code",
   "execution_count": 40,
   "metadata": {},
   "outputs": [
    {
     "data": {
      "text/plain": [
       "1150"
      ]
     },
     "execution_count": 40,
     "metadata": {},
     "output_type": "execute_result"
    }
   ],
   "source": [
    "len(data)"
   ]
  },
  {
   "cell_type": "code",
   "execution_count": 78,
   "metadata": {},
   "outputs": [],
   "source": [
    "contador = 0\n",
    "# for like in me_gusta:\n",
    "#     if contador < 10:\n",
    "#         print(like)\n",
    "#     else:\n",
    "#         break\n",
    "#     contador +=1"
   ]
  },
  {
   "cell_type": "code",
   "execution_count": 79,
   "metadata": {},
   "outputs": [],
   "source": [
    "contador = 0\n",
    "# for comment in comentarios:\n",
    "#     if contador < 10:\n",
    "#         print(comment)\n",
    "#     else:\n",
    "#         break\n",
    "#     contador +=1"
   ]
  },
  {
   "cell_type": "markdown",
   "metadata": {},
   "source": [
    "Funcion para guardar publicaciones dentro de una periodo determinado"
   ]
  },
  {
   "cell_type": "markdown",
   "metadata": {},
   "source": [
    "Funcion que obtiene todas las descripciones dentro periodo de tiempo dado un usuario"
   ]
  },
  {
   "cell_type": "code",
   "execution_count": 80,
   "metadata": {},
   "outputs": [],
   "source": [
    "usuario = 'infobae'\n",
    "# infobae = instaloader.Profile.from_username(bot.context, 'infobae')\n",
    "# publicaciones_infobae = infobae.get_posts()"
   ]
  },
  {
   "cell_type": "code",
   "execution_count": 81,
   "metadata": {},
   "outputs": [
    {
     "ename": "NameError",
     "evalue": "name 'datetime' is not defined",
     "output_type": "error",
     "traceback": [
      "\u001b[1;31m---------------------------------------------------------------------------\u001b[0m",
      "\u001b[1;31mNameError\u001b[0m                                 Traceback (most recent call last)",
      "Cell \u001b[1;32mIn[81], line 3\u001b[0m\n\u001b[0;32m      1\u001b[0m ids \u001b[39m=\u001b[39m []\n\u001b[0;32m      2\u001b[0m captions \u001b[39m=\u001b[39m []\n\u001b[1;32m----> 3\u001b[0m desde \u001b[39m=\u001b[39m datetime(\u001b[39m2023\u001b[39m, \u001b[39m8\u001b[39m, \u001b[39m1\u001b[39m) \n\u001b[0;32m      4\u001b[0m hasta \u001b[39m=\u001b[39m datetime(\u001b[39m2023\u001b[39m, \u001b[39m8\u001b[39m, \u001b[39m10\u001b[39m) \n\u001b[0;32m      5\u001b[0m MAX_ITERR \u001b[39m=\u001b[39m \u001b[39m100\u001b[39m\n",
      "\u001b[1;31mNameError\u001b[0m: name 'datetime' is not defined"
     ]
    }
   ],
   "source": [
    "import datetime\n",
    "ids = []\n",
    "captions = []\n",
    "desde = datetime(2023, 8, 1) \n",
    "hasta = datetime(2023, 8, 10) \n",
    "MAX_ITERR = 100\n",
    "contador = 0\n",
    "# for post in publicaciones_infobae:\n",
    "#     fecha = post.date\n",
    "#     if (fecha > desde) and (fecha < hasta) and contador<MAX_ITERR:\n",
    "#         ids.append(post.shortcode)\n",
    "#         captions.append(post.caption)\n",
    "#     print(fecha, contador)\n",
    "#     contador +=1"
   ]
  },
  {
   "cell_type": "code",
   "execution_count": null,
   "metadata": {},
   "outputs": [
    {
     "name": "stdout",
     "output_type": "stream",
     "text": [
      "Followers Count:  2613640\n",
      "Following Count:  7\n"
     ]
    }
   ],
   "source": [
    "print(\"Followers Count: \", infobae.followers)\n",
    "print(\"Following Count: \", infobae.followees)"
   ]
  },
  {
   "cell_type": "markdown",
   "metadata": {},
   "source": [
    "Otra propuesta:\n",
    "\n",
    "Analizar la distribucion de palabras de las descripcion de las publicaciones:\n",
    " \n",
    "* Sacar articulos, preposiciones"
   ]
  },
  {
   "cell_type": "code",
   "execution_count": 3,
   "metadata": {},
   "outputs": [],
   "source": [
    "dir_captions = []\n",
    "for dirs in glob.glob('infobae/*.txt'):\n",
    "    dir_captions.append(dirs)"
   ]
  },
  {
   "cell_type": "code",
   "execution_count": 6,
   "metadata": {},
   "outputs": [],
   "source": [
    "import re\n",
    "def sinEmoji(line):\n",
    "    # https://stackoverflow.com/questions/33404752/removing-emojis-from-a-string-in-python\n",
    "    emoji_pattern = re.compile(\"[\"\n",
    "                           u\"\\U0001F600-\\U0001F64F\"  # emoticons\n",
    "                            u\"\\U0001F300-\\U0001F5FF\"  # symbols & pictographs\n",
    "                            u\"\\U0001F680-\\U0001F6FF\"  # transport & map symbols\n",
    "                            u\"\\U0001F1E0-\\U0001F1FF\"  # flags (iOS)\n",
    "                           \"]+\", flags=re.UNICODE)\n",
    "    return emoji_pattern.sub(r'', line)"
   ]
  },
  {
   "cell_type": "code",
   "execution_count": 4,
   "metadata": {},
   "outputs": [],
   "source": [
    "def cantidadPalabras(directorios):\n",
    "    result = dict()\n",
    "    for dir_caption in directorios:\n",
    "        with open(dir_caption,encoding=\"utf8\") as f:\n",
    "            for line in f:\n",
    "                palabras = line.split(\" \")\n",
    "                for palabra in palabras:\n",
    "                    palabra = sinEmoji(palabra)\n",
    "                    if palabra in result.keys():\n",
    "                        result[palabra] +=1\n",
    "                    else:\n",
    "                        result[palabra] =1\n",
    "\n",
    "    \n",
    "    return result"
   ]
  },
  {
   "cell_type": "code",
   "execution_count": 7,
   "metadata": {},
   "outputs": [],
   "source": [
    "distribucion = cantidadPalabras(dir_captions)"
   ]
  },
  {
   "cell_type": "code",
   "execution_count": 10,
   "metadata": {},
   "outputs": [],
   "source": [
    "import seaborn as sns\n",
    "import pandas as pd"
   ]
  },
  {
   "cell_type": "code",
   "execution_count": 11,
   "metadata": {},
   "outputs": [],
   "source": [
    "distribucion_pd = pd.DataFrame(list(distribucion.items()),columns = ['Palabra', 'Cantidad'])"
   ]
  },
  {
   "cell_type": "code",
   "execution_count": 13,
   "metadata": {},
   "outputs": [],
   "source": [
    "distribucion_pd.sort_values(by='Cantidad',inplace=True)"
   ]
  },
  {
   "cell_type": "code",
   "execution_count": 40,
   "metadata": {},
   "outputs": [],
   "source": [
    "mas_de_una_sola_aparicion = distribucion_pd[distribucion_pd['Cantidad']>1]['Palabra'].to_list()"
   ]
  },
  {
   "cell_type": "code",
   "execution_count": 29,
   "metadata": {},
   "outputs": [],
   "source": [
    "una_sola_aparicion = distribucion_pd[distribucion_pd['Cantidad']==1]['Palabra'].to_list()\n"
   ]
  },
  {
   "cell_type": "code",
   "execution_count": 37,
   "metadata": {},
   "outputs": [],
   "source": [
    "def LaPalabraEsPolitico(palabra):\n",
    "    if (palabra in palabras_politicas) or (palabra in apellidos_influyentes):\n",
    "        return True\n",
    "    else :\n",
    "        return False"
   ]
  },
  {
   "cell_type": "code",
   "execution_count": 38,
   "metadata": {},
   "outputs": [],
   "source": [
    "verdad = dict()\n",
    "verdad['verdadero'] = 0\n",
    "verdad['falso'] = 0\n",
    "for word in una_sola_aparicion:\n",
    "    if LaPalabraEsPolitico(word):\n",
    "        verdad['verdadero'] += 1\n",
    "    else:\n",
    "        verdad['falso'] += 1"
   ]
  },
  {
   "cell_type": "code",
   "execution_count": 41,
   "metadata": {},
   "outputs": [],
   "source": [
    "mas_de_una_sola_aparicion\n",
    "verdad = dict()\n",
    "verdad['verdadero'] = 0\n",
    "verdad['falso'] = 0\n",
    "for word in mas_de_una_sola_aparicion:\n",
    "    if LaPalabraEsPolitico(word):\n",
    "        verdad['verdadero'] += 1\n",
    "    else:\n",
    "        verdad['falso'] += 1"
   ]
  },
  {
   "cell_type": "markdown",
   "metadata": {},
   "source": [
    "# Scraping using BeautifulSoup"
   ]
  },
  {
   "cell_type": "code",
   "execution_count": 1,
   "metadata": {},
   "outputs": [],
   "source": [
    "from bs4 import BeautifulSoup\n",
    "import requests"
   ]
  },
  {
   "cell_type": "code",
   "execution_count": null,
   "metadata": {},
   "outputs": [],
   "source": [
    "publicaciones_politicas = set()\n",
    "publicaciones_politica_apellido = set()\n",
    "publicaciones_politicas_palabra = set()\n",
    "\n",
    "for palabra in apellidos_influyentes:\n",
    "    publicaciones_politica_apellido = publicaciones_politica_apellido.union(buscar_Palabra(palabra, dir_captions))\n",
    "for palabra in palabras_politicas:\n",
    "    publicaciones_politicas_palabra = publicaciones_politicas_palabra.union(buscar_Palabra(palabra, dir_captions))\n",
    "\n",
    "dir_publicaciones_politicas = publicaciones_politica_apellido.union(publicaciones_politicas_palabra)\n",
    "   "
   ]
  },
  {
   "cell_type": "code",
   "execution_count": null,
   "metadata": {},
   "outputs": [],
   "source": [
    "short_codes = []\n",
    "for pub_politics in dir_publicaciones_politicas:\n",
    "    short_codes.append(devolver_shortCode(pub_politics))"
   ]
  },
  {
   "cell_type": "markdown",
   "metadata": {},
   "source": [
    "Canales de noticias:\n",
    "infobae\n",
    "TN\n",
    "Clarin\n",
    "La nacion\n",
    "Minuto Uno\n",
    "Filonews\n",
    "Olé\n",
    "TV publica\n",
    "Pagina 12 \n",
    "C5N\n",
    "A24\n",
    "Canal 26\n",
    "El nueve"
   ]
  },
  {
   "cell_type": "code",
   "execution_count": 7,
   "metadata": {},
   "outputs": [],
   "source": [
    "Canales_de_noticias_instagram = {\n",
    "    'infobae' : 'infobae',\n",
    "    'TN' : 'todonoticias',\n",
    "    'Clarin' : 'clarincom',\n",
    "    'La_nacion' : 'lanacioncom',\n",
    "    'Minuto_uno' : 'minutouno',\n",
    "    'Filonews' : 'filonewsok',\n",
    "    'Ole' : 'diario.ole',\n",
    "    'TVpublica' : 'tv_publica',\n",
    "    'Pagina12' : 'pagina12',\n",
    "    'C5N' : 'c5n',\n",
    "    'A24' : 'a24noticias',\n",
    "    'Canal26' : 'canal26',\n",
    "    'Canal9' : 'canal9oficial'\n",
    "}"
   ]
  },
  {
   "cell_type": "code",
   "execution_count": 8,
   "metadata": {},
   "outputs": [],
   "source": [
    "canales = list(Canales_de_noticias_instagram.values())\n"
   ]
  },
  {
   "cell_type": "code",
   "execution_count": 12,
   "metadata": {},
   "outputs": [],
   "source": [
    "info_canales = dict()"
   ]
  },
  {
   "cell_type": "markdown",
   "metadata": {},
   "source": [
    "Recolectemos la cantidad de publicaciones de cada canal y la cantidad de seguidores"
   ]
  },
  {
   "cell_type": "code",
   "execution_count": 70,
   "metadata": {},
   "outputs": [],
   "source": [
    "info_canales_tuple = list(zip(list(info_canales.keys()),list(info_canales.values())))"
   ]
  },
  {
   "cell_type": "code",
   "execution_count": 73,
   "metadata": {},
   "outputs": [],
   "source": [
    "canales_cant_seguidores = sorted(info_canales_tuple, key=lambda tup: tup[1][0])\n",
    "canales_cant_publicaciones = sorted(info_canales_tuple, key=lambda tup: tup[1][1])"
   ]
  },
  {
   "cell_type": "code",
   "execution_count": 85,
   "metadata": {},
   "outputs": [],
   "source": [
    "cant_publicaciones_c = list(zip(*list(zip(*canales_cant_publicaciones))[1]))[1]\n",
    "cant_seguidores = list(zip(*list(zip(*canales_cant_seguidores))[1]))[0]"
   ]
  },
  {
   "cell_type": "code",
   "execution_count": 79,
   "metadata": {},
   "outputs": [],
   "source": [
    "labels_cant_seguidores = list(zip(*canales_cant_seguidores))[0]\n",
    "labels_cant_publicaciones = list(zip(*canales_cant_publicaciones))[0]"
   ]
  },
  {
   "cell_type": "code",
   "execution_count": 21,
   "metadata": {},
   "outputs": [],
   "source": [
    "import seaborn as sns\n",
    "import matplotlib.pyplot as plt"
   ]
  },
  {
   "cell_type": "code",
   "execution_count": 86,
   "metadata": {},
   "outputs": [
    {
     "data": {
      "text/plain": [
       "Text(0.5, 0, 'Cantidad de seguidores')"
      ]
     },
     "execution_count": 86,
     "metadata": {},
     "output_type": "execute_result"
    },
    {
     "data": {
      "image/png": "[encoded data removed]",
      "text/plain": [
       "<Figure size 1400x480 with 2 Axes>"
      ]
     },
     "metadata": {},
     "output_type": "display_data"
    }
   ],
   "source": [
    "fig, axs = plt.subplots(1,2)\n",
    "fig.set_figwidth(14)\n",
    "axs[0].barh(labels_cant_publicaciones,cant_publicaciones_c,0.6)\n",
    "axs[0].set_xlabel('Cantidad de publicaciones')\n",
    "axs[1].barh(labels_cant_seguidores,cant_seguidores,0.6)\n",
    "axs[1].set_xlabel('Cantidad de seguidores')"
   ]
  },
  {
   "cell_type": "code",
   "execution_count": 15,
   "metadata": {},
   "outputs": [],
   "source": [
    "from time import sleep"
   ]
  },
  {
   "cell_type": "code",
   "execution_count": 16,
   "metadata": {},
   "outputs": [],
   "source": [
    "\n",
    "for canal in canales:\n",
    "    try:\n",
    "        perfil = instaloader.Profile.from_username(bot.context, canal)\n",
    "        seguidores = perfil.followers\n",
    "        cant_publicaciones = perfil.mediacount\n",
    "        count += 1\n",
    "        info_canales[canal] = (seguidores, cant_publicaciones)\n",
    "        sleep(1)\n",
    "    except instaloader.exceptions.AbortDownloadException:\n",
    "        info_canales[canal] = (0, 0)\n",
    "        count += 1"
   ]
  },
  {
   "cell_type": "code",
   "execution_count": 89,
   "metadata": {},
   "outputs": [
    {
     "data": {
      "text/plain": [
       "30805"
      ]
     },
     "execution_count": 89,
     "metadata": {},
     "output_type": "execute_result"
    }
   ],
   "source": [
    "perfil_1 = instaloader.Profile.from_username(bot.context, canales[2])\n",
    "perfil_1.mediacount"
   ]
  },
  {
   "cell_type": "code",
   "execution_count": 14,
   "metadata": {},
   "outputs": [],
   "source": [
    "def esPolitico(descripcion):\n",
    "    razon = []\n",
    "    for palabra in descripcion:\n",
    "        if (palabra in palabras_politicas) or (palabra in apellidos_influyentes):\n",
    "            razon.append(palabra)\n",
    "    \n",
    "    if (len(razon) == 0):\n",
    "        return (False,razon)\n",
    "    else :\n",
    "        return (True,razon)"
   ]
  },
  {
   "cell_type": "code",
   "execution_count": 1,
   "metadata": {},
   "outputs": [],
   "source": [
    "# cant_likes = []\n",
    "# palabras = []\n",
    "# contador = 0\n",
    "# try:\n",
    "\n",
    "#     for post in publicaciones:\n",
    "#         pregunta = esPolitico(post.caption)\n",
    "#         print(contador)\n",
    "#         if pregunta[0]:\n",
    "#             palabras.append(pregunta[1])\n",
    "#             cant_likes.append(post.likes)\n",
    "#         contador +=1\n",
    "\n",
    "# except instaloader.exceptions.ConnectionException:\n",
    "#     congelado = publicaciones.freeze()\n",
    "#     instaloader.save_structure_to_file(congelado,'Iterador_congelado.json')"
   ]
  },
  {
   "cell_type": "code",
   "execution_count": null,
   "metadata": {},
   "outputs": [],
   "source": []
  }
 ],
 "metadata": {
  "kernelspec": {
   "display_name": "Python 3",
   "language": "python",
   "name": "python3"
  },
  "language_info": {
   "codemirror_mode": {
    "name": "ipython",
    "version": 3
   },
   "file_extension": ".py",
   "mimetype": "text/x-python",
   "name": "python",
   "nbconvert_exporter": "python",
   "pygments_lexer": "ipython3",
   "version": "3.11.2"
  },
  "orig_nbformat": 4
 },
 "nbformat": 4,
 "nbformat_minor": 2
}
