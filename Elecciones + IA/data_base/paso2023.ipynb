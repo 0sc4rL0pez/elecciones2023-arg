{
 "cells": [
  {
   "cell_type": "markdown",
   "metadata": {},
   "source": [
    "# PASO 2023\n",
    "\n",
    "Recolectando los datos provisorios otorgados en https://www.argentina.gob.ar/dine/resultados-electorales/elecciones-2023"
   ]
  },
  {
   "cell_type": "code",
   "execution_count": 1,
   "metadata": {},
   "outputs": [],
   "source": [
    "import pandas as pd"
   ]
  },
  {
   "cell_type": "code",
   "execution_count": 25,
   "metadata": {},
   "outputs": [],
   "source": [
    "df = pd.read_csv('C:/Users/54911/OneDrive/Escritorio/Data Science/Elecciones + IA/data_base/2023_PASO/Ambitos_PASO_2023.csv')"
   ]
  },
  {
   "cell_type": "code",
   "execution_count": 26,
   "metadata": {},
   "outputs": [
    {
     "data": {
      "text/plain": [
       "Index(['año', 'distrito_id', 'distrito_nombre', 'seccionprovincial_id',\n",
       "       'seccionprovincial_nombre', 'seccion_id', 'seccion_nombre'],\n",
       "      dtype='object')"
      ]
     },
     "execution_count": 26,
     "metadata": {},
     "output_type": "execute_result"
    }
   ],
   "source": [
    "df.columns"
   ]
  },
  {
   "cell_type": "code",
   "execution_count": 2,
   "metadata": {},
   "outputs": [
    {
     "name": "stderr",
     "output_type": "stream",
     "text": [
      "C:\\Users\\54911\\AppData\\Local\\Temp\\ipykernel_25964\\3853647564.py:1: DtypeWarning: Columns (7,10,11) have mixed types. Specify dtype option on import or set low_memory=False.\n",
      "  df_big = pd.read_csv('C:/Users/54911/OneDrive/Escritorio/Data Science/Elecciones + IA/data_base/2023_PASO/ResultadosElectorales.csv')\n"
     ]
    }
   ],
   "source": [
    "df_big = pd.read_csv('C:/Users/54911/OneDrive/Escritorio/Data Science/Elecciones + IA/data_base/2023_PASO/ResultadosElectorales.csv')"
   ]
  },
  {
   "cell_type": "code",
   "execution_count": null,
   "metadata": {},
   "outputs": [],
   "source": [
    "nro_7 = df_big.columns[7] # tipo str o object\n",
    "nro_10 = df_big.columns[10] #tip int\n",
    "nro_11 = df_big.columns[11] #tip int"
   ]
  },
  {
   "cell_type": "code",
   "execution_count": null,
   "metadata": {},
   "outputs": [
    {
     "data": {
      "text/plain": [
       "Index(['año', 'eleccion_tipo', 'recuento_tipo', 'padron_tipo', 'distrito_id',\n",
       "       'distrito_nombre', 'seccionprovincial_id', 'seccionprovincial_nombre',\n",
       "       'seccion_id', 'seccion_nombre', 'circuito_id', 'circuito_nombre',\n",
       "       'mesa_id', 'mesa_tipo', 'mesa_electores', 'cargo_id', 'cargo_nombre',\n",
       "       'agrupacion_id', 'agrupacion_nombre', 'lista_numero', 'lista_nombre',\n",
       "       'votos_tipo', 'votos_cantidad'],\n",
       "      dtype='object')"
      ]
     },
     "execution_count": 17,
     "metadata": {},
     "output_type": "execute_result"
    }
   ],
   "source": [
    "df_big.columns"
   ]
  },
  {
   "cell_type": "code",
   "execution_count": null,
   "metadata": {},
   "outputs": [
    {
     "data": {
      "text/plain": [
       "0      9934355\n",
       "1      1648828\n",
       "2       796999\n",
       "3       456794\n",
       "4       300641\n",
       "        ...   \n",
       "290          1\n",
       "267          1\n",
       "269          1\n",
       "251          1\n",
       "292          1\n",
       "Name: votos_cantidad, Length: 269, dtype: int64"
      ]
     },
     "execution_count": 12,
     "metadata": {},
     "output_type": "execute_result"
    }
   ],
   "source": [
    "df_big['votos_cantidad'].value_counts()\n"
   ]
  },
  {
   "cell_type": "code",
   "execution_count": null,
   "metadata": {},
   "outputs": [
    {
     "data": {
      "text/plain": [
       "PRESIDENTE/A                    3114677\n",
       "PARLAMENTO MERCOSUR REGIONAL    2895519\n",
       "DIPUTADOS/AS NACIONALES         2728753\n",
       "PARLAMENTO MERCOSUR NACIONAL    2659326\n",
       "SENADORES/AS NACIONALES         1751578\n",
       "GOBERNADOR/A                    1233990\n",
       "INTENDENTE/A                     984431\n",
       "DIPUTADOS/AS PROVINCIALES        626402\n",
       "SENADORES/AS PROVINCIALES        590096\n",
       "CONCEJAL                          16105\n",
       "Name: cargo_nombre, dtype: int64"
      ]
     },
     "execution_count": 10,
     "metadata": {},
     "output_type": "execute_result"
    }
   ],
   "source": [
    "df_big['cargo_nombre'].value_counts()"
   ]
  },
  {
   "cell_type": "code",
   "execution_count": 3,
   "metadata": {},
   "outputs": [],
   "source": [
    "paso_2023 = df_big[(df_big['votos_cantidad']>0) & (df_big['cargo_nombre']=='PRESIDENTE/A') & (df_big['votos_tipo']=='POSITIVO')].loc[:,['agrupacion_nombre','votos_cantidad']]"
   ]
  },
  {
   "cell_type": "code",
   "execution_count": 9,
   "metadata": {},
   "outputs": [],
   "source": [
    "nombres_partidos = paso_2023['agrupacion_nombre'].unique()"
   ]
  },
  {
   "cell_type": "code",
   "execution_count": 1,
   "metadata": {},
   "outputs": [
    {
     "ename": "NameError",
     "evalue": "name 'paso_2023' is not defined",
     "output_type": "error",
     "traceback": [
      "\u001b[1;31m---------------------------------------------------------------------------\u001b[0m",
      "\u001b[1;31mNameError\u001b[0m                                 Traceback (most recent call last)",
      "\u001b[1;32mc:\\Users\\54911\\OneDrive\\Escritorio\\Data Science\\Elecciones + IA\\data_base\\paso2023.ipynb Cell 11\u001b[0m line \u001b[0;36m1\n\u001b[1;32m----> <a href='vscode-notebook-cell:/c%3A/Users/54911/OneDrive/Escritorio/Data%20Science/Elecciones%20%2B%20IA/data_base/paso2023.ipynb#X13sZmlsZQ%3D%3D?line=0'>1</a>\u001b[0m paso_2023[\u001b[39m'\u001b[39m\u001b[39meleccion_tipo\u001b[39m\u001b[39m'\u001b[39m]\n",
      "\u001b[1;31mNameError\u001b[0m: name 'paso_2023' is not defined"
     ]
    }
   ],
   "source": [
    "paso_2023['eleccion_tipo']"
   ]
  },
  {
   "cell_type": "code",
   "execution_count": 8,
   "metadata": {},
   "outputs": [],
   "source": [
    "cantidad_votos = dict()"
   ]
  },
  {
   "cell_type": "code",
   "execution_count": 14,
   "metadata": {},
   "outputs": [],
   "source": [
    "for partido in nombres_partidos:\n",
    "    if partido in cantidad_votos.keys():\n",
    "        cantidad_votos[f'{partido}']+=paso_2023[paso_2023['agrupacion_nombre']==partido]['votos_cantidad'].sum()\n",
    "    else:\n",
    "        cantidad_votos[f'{partido}'] = 0"
   ]
  },
  {
   "cell_type": "code",
   "execution_count": 15,
   "metadata": {},
   "outputs": [
    {
     "data": {
      "text/plain": [
       "{'MOVIMIENTO DE ACCION VECINAL': 42252,\n",
       " 'LA LIBERTAD AVANZA': 7116352,\n",
       " 'POLITICA OBRERA': 62404,\n",
       " 'PRINCIPIOS Y VALORES': 187893,\n",
       " 'UNION POR LA PATRIA': 6460689,\n",
       " 'HACEMOS POR NUESTRO PAIS': 907437,\n",
       " 'FRENTE DE IZQUIERDA Y DE TRABAJADORES - UNIDAD': 628893,\n",
       " 'MOVIMIENTO AL SOCIALISMO': 85628,\n",
       " 'JUNTOS POR EL CAMBIO': 6698029,\n",
       " 'PROYECTO JOVEN': 23870,\n",
       " 'MOVIMIENTO LIBRES DEL SUR': 154338,\n",
       " 'FRENTE PATRIOTA FEDERAL': 50842,\n",
       " 'MOVIMIENTO IZQUIERDA JUVENTUD Y DIGNIDAD': 81972,\n",
       " 'FRENTE LIBER.AR': 26962,\n",
       " 'UNION DEL CENTRO DEMOCRATICO': 11982}"
      ]
     },
     "execution_count": 15,
     "metadata": {},
     "output_type": "execute_result"
    }
   ],
   "source": [
    "cantidad_votos"
   ]
  },
  {
   "cell_type": "code",
   "execution_count": 23,
   "metadata": {},
   "outputs": [],
   "source": [
    "df = pd.DataFrame.from_dict({'Nombre_partido':cantidad_votos.keys(),'Cantidad_votos':cantidad_votos.values()})"
   ]
  },
  {
   "cell_type": "code",
   "execution_count": 25,
   "metadata": {},
   "outputs": [],
   "source": [
    "df.sort_values(by='Cantidad_votos',ascending=False,inplace=True)"
   ]
  },
  {
   "cell_type": "code",
   "execution_count": 27,
   "metadata": {},
   "outputs": [],
   "source": [
    "df.to_csv('C:/Users/54911/OneDrive/Escritorio/Data Science/Elecciones + IA/data_base/2023_PASO/datos_provisorios_PASO_2023.csv',index=False)"
   ]
  },
  {
   "cell_type": "code",
   "execution_count": 28,
   "metadata": {},
   "outputs": [],
   "source": [
    "df = pd.read_csv('C:/Users/54911/OneDrive/Escritorio/Data Science/Elecciones + IA/data_base/2023_PASO/datos_provisorios_PASO_2023.csv')"
   ]
  },
  {
   "cell_type": "code",
   "execution_count": 31,
   "metadata": {},
   "outputs": [
    {
     "data": {
      "text/html": [
       "<div>\n",
       "<style scoped>\n",
       "    .dataframe tbody tr th:only-of-type {\n",
       "        vertical-align: middle;\n",
       "    }\n",
       "\n",
       "    .dataframe tbody tr th {\n",
       "        vertical-align: top;\n",
       "    }\n",
       "\n",
       "    .dataframe thead th {\n",
       "        text-align: right;\n",
       "    }\n",
       "</style>\n",
       "<table border=\"1\" class=\"dataframe\">\n",
       "  <thead>\n",
       "    <tr style=\"text-align: right;\">\n",
       "      <th></th>\n",
       "      <th>Nombre_partido</th>\n",
       "      <th>Cantidad_votos</th>\n",
       "    </tr>\n",
       "  </thead>\n",
       "  <tbody>\n",
       "    <tr>\n",
       "      <th>0</th>\n",
       "      <td>LA LIBERTAD AVANZA</td>\n",
       "      <td>7116352</td>\n",
       "    </tr>\n",
       "    <tr>\n",
       "      <th>1</th>\n",
       "      <td>JUNTOS POR EL CAMBIO</td>\n",
       "      <td>6698029</td>\n",
       "    </tr>\n",
       "    <tr>\n",
       "      <th>2</th>\n",
       "      <td>UNION POR LA PATRIA</td>\n",
       "      <td>6460689</td>\n",
       "    </tr>\n",
       "    <tr>\n",
       "      <th>3</th>\n",
       "      <td>HACEMOS POR NUESTRO PAIS</td>\n",
       "      <td>907437</td>\n",
       "    </tr>\n",
       "    <tr>\n",
       "      <th>4</th>\n",
       "      <td>FRENTE DE IZQUIERDA Y DE TRABAJADORES - UNIDAD</td>\n",
       "      <td>628893</td>\n",
       "    </tr>\n",
       "  </tbody>\n",
       "</table>\n",
       "</div>"
      ],
      "text/plain": [
       "                                   Nombre_partido  Cantidad_votos\n",
       "0                              LA LIBERTAD AVANZA         7116352\n",
       "1                            JUNTOS POR EL CAMBIO         6698029\n",
       "2                             UNION POR LA PATRIA         6460689\n",
       "3                        HACEMOS POR NUESTRO PAIS          907437\n",
       "4  FRENTE DE IZQUIERDA Y DE TRABAJADORES - UNIDAD          628893"
      ]
     },
     "execution_count": 31,
     "metadata": {},
     "output_type": "execute_result"
    }
   ],
   "source": [
    "df.iloc[:5]"
   ]
  },
  {
   "cell_type": "markdown",
   "metadata": {},
   "source": [
    "Queda solo actualizar la base de datos"
   ]
  },
  {
   "cell_type": "code",
   "execution_count": null,
   "metadata": {},
   "outputs": [],
   "source": [
    "ids = [9,10,11,12,13]"
   ]
  }
 ],
 "metadata": {
  "kernelspec": {
   "display_name": "Python 3",
   "language": "python",
   "name": "python3"
  },
  "language_info": {
   "codemirror_mode": {
    "name": "ipython",
    "version": 3
   },
   "file_extension": ".py",
   "mimetype": "text/x-python",
   "name": "python",
   "nbconvert_exporter": "python",
   "pygments_lexer": "ipython3",
   "version": "3.11.2"
  }
 },
 "nbformat": 4,
 "nbformat_minor": 2
}
