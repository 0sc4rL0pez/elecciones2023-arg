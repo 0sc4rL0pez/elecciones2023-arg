{
 "cells": [
  {
   "cell_type": "code",
   "execution_count": 1,
   "metadata": {},
   "outputs": [],
   "source": [
    "import pandas as pd\n",
    "import pyodbc"
   ]
  },
  {
   "cell_type": "code",
   "execution_count": 2,
   "metadata": {},
   "outputs": [],
   "source": [
    "def conectar_base_datos():\n",
    "    SERVER = 'ACHEPE'\n",
    "    DATABASE = 'elecciones-IA-data'\n",
    "\n",
    "    connectionString = f'DRIVER={{ODBC Driver 17 for SQL Server}};SERVER={SERVER};DATABASE={DATABASE};Trusted_Connection=yes;'\n",
    "\n",
    "    conn = pyodbc.connect(connectionString) \n",
    "    return conn\n"
   ]
  },
  {
   "cell_type": "code",
   "execution_count": 3,
   "metadata": {},
   "outputs": [],
   "source": [
    "def pasar_a_DF(dat_cursor):\n",
    "    columnas = dat_cursor.description\n",
    "    nombre = []\n",
    "    datos = []\n",
    "\n",
    "    for i in range(len(columnas)):\n",
    "        nombre.append(columnas[i][0])\n",
    "        datos.append([])\n",
    "\n",
    "    for fila in dat_cursor:\n",
    "        for i in range(len(columnas)):\n",
    "            datos[i].append(fila[i])\n",
    "    \n",
    "    diccionario = dict()\n",
    "    for i in range(len(columnas)):\n",
    "        diccionario[nombre[i]] = datos[i]\n",
    "\n",
    "    df = pd.DataFrame(diccionario)\n",
    "\n",
    "    return df"
   ]
  },
  {
   "cell_type": "code",
   "execution_count": 4,
   "metadata": {},
   "outputs": [],
   "source": [
    "def Consultar_datos_tabla(tabla):\n",
    "        conn = conectar_base_datos()\n",
    "        cursor = conn.cursor()\n",
    "        SQL_STATEMENT = f\"\"\"\n",
    "                SELECT *\n",
    "                FROM {tabla}\n",
    "                \"\"\"\n",
    "        records = cursor.execute(SQL_STATEMENT)\n",
    "        \n",
    "        return records"
   ]
  },
  {
   "cell_type": "code",
   "execution_count": 7,
   "metadata": {},
   "outputs": [],
   "source": [
    "tablas = ['Candidatos','Fuentes','Partidos','Publicaciones','Publicaciones_politicas']"
   ]
  },
  {
   "cell_type": "code",
   "execution_count": 10,
   "metadata": {},
   "outputs": [],
   "source": [
    "for t in tablas:\n",
    "    consulta = Consultar_datos_tabla(t)\n",
    "    df = pasar_a_DF(consulta)\n",
    "    df.to_csv(f'C:/Users/54911/OneDrive/Escritorio/Data Science/Elecciones + IA/data_base/data_base_csv/{t}.csv')"
   ]
  },
  {
   "cell_type": "code",
   "execution_count": 9,
   "metadata": {},
   "outputs": [],
   "source": [
    "consulta_publicaciones_join_politicas = \"\"\"\n",
    "                                    SELECT * \n",
    "                                    FROM Publicaciones_politicas\n",
    "                                    LEFT JOIN Publicaciones\n",
    "                                    ON Publicaciones_politicas.id = Publicaciones.id\n",
    "                                        \"\"\""
   ]
  },
  {
   "cell_type": "code",
   "execution_count": 10,
   "metadata": {},
   "outputs": [],
   "source": [
    "conn = conectar_base_datos()\n",
    "cursor = conn.cursor()\n",
    "records = cursor.execute(consulta_publicaciones_join_politicas)"
   ]
  },
  {
   "cell_type": "code",
   "execution_count": 11,
   "metadata": {},
   "outputs": [],
   "source": [
    "df_join =pasar_a_DF(records)"
   ]
  },
  {
   "cell_type": "code",
   "execution_count": 14,
   "metadata": {},
   "outputs": [],
   "source": [
    "df_join.drop('cant_likes',axis=1,inplace=True)"
   ]
  },
  {
   "cell_type": "code",
   "execution_count": 15,
   "metadata": {},
   "outputs": [],
   "source": [
    "df_join.to_csv('C:/Users/54911/OneDrive/Escritorio/Data Science/Elecciones + IA/data_base/data_base_csv/Publicaciones_JOIN_politicas.csv')"
   ]
  },
  {
   "cell_type": "code",
   "execution_count": null,
   "metadata": {},
   "outputs": [],
   "source": []
  }
 ],
 "metadata": {
  "kernelspec": {
   "display_name": "Python 3",
   "language": "python",
   "name": "python3"
  },
  "language_info": {
   "codemirror_mode": {
    "name": "ipython",
    "version": 3
   },
   "file_extension": ".py",
   "mimetype": "text/x-python",
   "name": "python",
   "nbconvert_exporter": "python",
   "pygments_lexer": "ipython3",
   "version": "3.11.2"
  }
 },
 "nbformat": 4,
 "nbformat_minor": 2
}
