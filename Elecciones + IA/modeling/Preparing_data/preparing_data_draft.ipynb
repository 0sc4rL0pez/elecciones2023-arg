{
 "cells": [
  {
   "cell_type": "code",
   "execution_count": 1,
   "metadata": {},
   "outputs": [],
   "source": [
    "import pandas as pd\n",
    "import seaborn as sns\n",
    "import numpy as np\n",
    "import os\n"
   ]
  },
  {
   "cell_type": "code",
   "execution_count": 2,
   "metadata": {},
   "outputs": [],
   "source": [
    "# Change this path to run in your machine\n",
    "home_path = 'C:/Users/54911/OneDrive/Documentos/git_repos/elecciones2023-arg'"
   ]
  },
  {
   "cell_type": "code",
   "execution_count": 3,
   "metadata": {},
   "outputs": [],
   "source": [
    "os.chdir(home_path)"
   ]
  },
  {
   "cell_type": "code",
   "execution_count": 4,
   "metadata": {},
   "outputs": [],
   "source": [
    "political_posts = pd.read_csv('Elecciones + IA/modeling/Preparando_datos/political_posts.csv')\n"
   ]
  },
  {
   "cell_type": "code",
   "execution_count": 5,
   "metadata": {},
   "outputs": [],
   "source": [
    "primera_vuelta_poly = pd.read_csv('Elecciones + IA/modeling/polynomial_surveys/data_built/normalize_primera_vuelta_poly.csv')\n",
    "ballotaje_poly = pd.read_csv('Elecciones + IA/modeling/polynomial_surveys/data_built/normalize_ballotage_poly.csv')"
   ]
  },
  {
   "cell_type": "code",
   "execution_count": 6,
   "metadata": {},
   "outputs": [],
   "source": [
    "political_posts['fecha'] = pd.to_datetime(political_posts['fecha'])\n",
    "primera_vuelta_poly['Final'] = pd.to_datetime(primera_vuelta_poly['Final'])\n",
    "primera_vuelta_poly['Inicio'] = pd.to_datetime(primera_vuelta_poly['Inicio'])"
   ]
  },
  {
   "cell_type": "markdown",
   "metadata": {},
   "source": [
    "Let's see how the post is distribuided in each date range"
   ]
  },
  {
   "cell_type": "code",
   "execution_count": 7,
   "metadata": {},
   "outputs": [],
   "source": [
    "amount_posts = np.zeros(len(primera_vuelta_poly))\n",
    "for i in range (len(primera_vuelta_poly)):\n",
    "    indx_row = i\n",
    "    start = primera_vuelta_poly.iloc[indx_row]['Inicio']\n",
    "    end = primera_vuelta_poly.iloc[indx_row]['Final']\n",
    "    aux = political_posts[(political_posts['fecha']>start)& (political_posts['fecha']<end)]\n",
    "    amount_posts[i] = len(aux)"
   ]
  },
  {
   "cell_type": "code",
   "execution_count": 8,
   "metadata": {},
   "outputs": [
    {
     "data": {
      "text/plain": [
       "<seaborn.axisgrid.FacetGrid at 0x2466d2bb6d0>"
      ]
     },
     "execution_count": 8,
     "metadata": {},
     "output_type": "execute_result"
    },
    {
     "data": {
      "image/png": "[encoded data removed]",
      "text/plain": [
       "<Figure size 500x500 with 1 Axes>"
      ]
     },
     "metadata": {},
     "output_type": "display_data"
    }
   ],
   "source": [
    "sns.displot(amount_posts)"
   ]
  },
  {
   "cell_type": "code",
   "execution_count": 9,
   "metadata": {},
   "outputs": [],
   "source": [
    "amount_max = np.quantile(amount_posts,0.95)\n",
    "amount_min = np.quantile(amount_posts,0.1)\n",
    "filtered_index =  np.nonzero((amount_posts>amount_min) & (amount_posts<amount_max))\n",
    "primera_vuelta_poly_filtered = primera_vuelta_poly.iloc[filtered_index]"
   ]
  },
  {
   "cell_type": "markdown",
   "metadata": {},
   "source": [
    "fuente -> oneHotEncoding\n",
    "\n",
    "fecha -> day,month,year (?)\n",
    "\n",
    "cantidad_likes -> mean values\n",
    "\n",
    "amount_post?"
   ]
  },
  {
   "cell_type": "code",
   "execution_count": 16,
   "metadata": {},
   "outputs": [],
   "source": [
    "amount_posts = np.zeros(len(ballotaje_poly))\n",
    "for i in range (len(ballotaje_poly)):\n",
    "    indx_row = i\n",
    "    start = ballotaje_poly.iloc[indx_row]['Inicio']\n",
    "    end = ballotaje_poly.iloc[indx_row]['Final']\n",
    "    aux = political_posts[(political_posts['fecha']>start)& (political_posts['fecha']<end)]\n",
    "    amount_posts[i] = len(aux)\n",
    "\n",
    "amount_max = np.quantile(amount_posts,0.95)\n",
    "amount_min = np.quantile(amount_posts,0.1)\n",
    "filtered_index =  np.nonzero((amount_posts>amount_min) & (amount_posts<amount_max))\n",
    "ballotaje_poly_poly_filtered = ballotaje_poly.iloc[filtered_index]"
   ]
  },
  {
   "cell_type": "code",
   "execution_count": 19,
   "metadata": {},
   "outputs": [
    {
     "data": {
      "text/plain": [
       "13"
      ]
     },
     "execution_count": 19,
     "metadata": {},
     "output_type": "execute_result"
    }
   ],
   "source": [
    "len(ballotaje_poly_poly_filtered)"
   ]
  },
  {
   "cell_type": "code",
   "execution_count": 17,
   "metadata": {},
   "outputs": [
    {
     "data": {
      "text/plain": [
       "<seaborn.axisgrid.FacetGrid at 0x2466d3cc510>"
      ]
     },
     "execution_count": 17,
     "metadata": {},
     "output_type": "execute_result"
    },
    {
     "data": {
      "image/png": "[encoded data removed]",
      "text/plain": [
       "<Figure size 500x500 with 1 Axes>"
      ]
     },
     "metadata": {},
     "output_type": "display_data"
    }
   ],
   "source": [
    "sns.displot(amount_posts)"
   ]
  },
  {
   "cell_type": "code",
   "execution_count": 12,
   "metadata": {},
   "outputs": [],
   "source": [
    "data_structured_1 = pd.read_csv('Elecciones + IA\\modeling\\Preparando_datos\\data_structured_1.csv')"
   ]
  },
  {
   "cell_type": "code",
   "execution_count": 14,
   "metadata": {},
   "outputs": [],
   "source": [
    "from sklearn.preprocessing import StandardScaler,MinMaxScaler "
   ]
  },
  {
   "cell_type": "code",
   "execution_count": 15,
   "metadata": {},
   "outputs": [],
   "source": [
    "def scale_datasets(x_train, x_test):\n",
    "    min_max = MinMaxScaler()\n",
    "    x_train_scaled = pd.DataFrame(\n",
    "        min_max.fit_transform(x_train),\n",
    "        columns=x_train.columns\n",
    "    )\n",
    "    x_test_scaled = pd.DataFrame(\n",
    "        min_max.transform(x_test),\n",
    "        columns = x_test.columns\n",
    "    )\n",
    "    return x_train_scaled, x_test_scaled,min_max"
   ]
  },
  {
   "cell_type": "code",
   "execution_count": null,
   "metadata": {},
   "outputs": [],
   "source": []
  }
 ],
 "metadata": {
  "kernelspec": {
   "display_name": "Python 3",
   "language": "python",
   "name": "python3"
  },
  "language_info": {
   "codemirror_mode": {
    "name": "ipython",
    "version": 3
   },
   "file_extension": ".py",
   "mimetype": "text/x-python",
   "name": "python",
   "nbconvert_exporter": "python",
   "pygments_lexer": "ipython3",
   "version": "3.11.2"
  }
 },
 "nbformat": 4,
 "nbformat_minor": 2
}
