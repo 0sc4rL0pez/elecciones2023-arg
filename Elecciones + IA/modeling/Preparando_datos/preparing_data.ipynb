{
 "cells": [
  {
   "cell_type": "code",
   "execution_count": 1,
   "metadata": {},
   "outputs": [],
   "source": [
    "import pandas as pd\n",
    "import seaborn as sns\n",
    "import matplotlib.pyplot as plt\n",
    "from datetime import datetime\n",
    "import numpy as np\n",
    "import pyodbc\n",
    "import sklearn\n",
    "import os\n"
   ]
  },
  {
   "cell_type": "code",
   "execution_count": 2,
   "metadata": {},
   "outputs": [],
   "source": [
    "# Change this path to run in your machine\n",
    "home_path = 'C:/Users/54911/OneDrive/Documentos/git_repos/elecciones2023-arg'"
   ]
  },
  {
   "cell_type": "code",
   "execution_count": 3,
   "metadata": {},
   "outputs": [],
   "source": [
    "os.chdir(home_path)"
   ]
  },
  {
   "cell_type": "code",
   "execution_count": 4,
   "metadata": {},
   "outputs": [],
   "source": [
    "political_posts = pd.read_csv('Elecciones + IA/modeling/Preparando_datos/political_posts.csv')\n"
   ]
  },
  {
   "cell_type": "code",
   "execution_count": 5,
   "metadata": {},
   "outputs": [],
   "source": [
    "primera_vuelta = pd.read_csv('Elecciones + IA/getting_data/surveys/data_scraped/normalize_primera_vuelta.csv')\n",
    "ballotage = pd.read_csv('Elecciones + IA/getting_data/surveys/data_scraped/normalize_ballotage.csv')\n",
    "primera_vuelta_poly = pd.read_csv('Elecciones + IA/modeling/polynomial_surveys/polynomial_primera_vuelta.csv')\n",
    "ballotaje_poly = pd.read_csv('Elecciones + IA/modeling/polynomial_surveys/polynomial_ballotage.csv')\n"
   ]
  },
  {
   "cell_type": "code",
   "execution_count": 6,
   "metadata": {},
   "outputs": [],
   "source": [
    "def stringToDatetime(fecha):\n",
    "    #format_string = '%Y-%m-%d'\n",
    "    anio,mes,dia= fecha.split('-')\n",
    "    aux_dia = dia.split(' ')\n",
    "    if len(aux_dia)>1:dia = aux_dia[0]\n",
    "    res = datetime(int(anio),int(mes),int(dia))\n",
    "    return res\n"
   ]
  },
  {
   "cell_type": "code",
   "execution_count": 7,
   "metadata": {},
   "outputs": [],
   "source": [
    "political_posts['fecha'] = pd.to_datetime(political_posts['fecha'])\n",
    "primera_vuelta['Final'] = pd.to_datetime(primera_vuelta['Final'])\n",
    "primera_vuelta['Inicio'] = pd.to_datetime(primera_vuelta['Inicio'])"
   ]
  },
  {
   "cell_type": "code",
   "execution_count": 8,
   "metadata": {},
   "outputs": [],
   "source": [
    "indx_row = 1\n",
    "inicio = primera_vuelta_poly.iloc[indx_row]['Inicio']\n",
    "final = primera_vuelta_poly.iloc[indx_row]['Final']"
   ]
  },
  {
   "cell_type": "code",
   "execution_count": 9,
   "metadata": {},
   "outputs": [],
   "source": [
    "prueba = political_posts[(political_posts['fecha']>inicio)& (political_posts['fecha']<final)]"
   ]
  },
  {
   "cell_type": "code",
   "execution_count": 10,
   "metadata": {},
   "outputs": [
    {
     "data": {
      "text/plain": [
       "Union por la Patria     35\n",
       "Juntos por el Cambio    34\n",
       "La Libertad Avanza       3\n",
       "Name: partido, dtype: int64"
      ]
     },
     "execution_count": 10,
     "metadata": {},
     "output_type": "execute_result"
    }
   ],
   "source": [
    "prueba['partido'].value_counts()"
   ]
  },
  {
   "cell_type": "code",
   "execution_count": 42,
   "metadata": {},
   "outputs": [],
   "source": [
    "sum_percen = np.zeros(len(primera_vuelta_poly))\n",
    "for i in range(len(primera_vuelta_poly)):\n",
    "    sum_percen[i] = sum(primera_vuelta_poly.iloc[50,:5].to_numpy())"
   ]
  },
  {
   "cell_type": "code",
   "execution_count": 43,
   "metadata": {},
   "outputs": [],
   "source": [
    "sum_percen = np.array(sum_percen)"
   ]
  },
  {
   "cell_type": "code",
   "execution_count": 45,
   "metadata": {},
   "outputs": [
    {
     "data": {
      "text/plain": [
       "<seaborn.axisgrid.FacetGrid at 0x2975dca5290>"
      ]
     },
     "execution_count": 45,
     "metadata": {},
     "output_type": "execute_result"
    },
    {
     "data": {
      "image/png": "[encoded data removed]",
      "text/plain": [
       "<Figure size 500x500 with 1 Axes>"
      ]
     },
     "metadata": {},
     "output_type": "display_data"
    }
   ],
   "source": [
    "sns.displot(sum_percen,bins=50)"
   ]
  },
  {
   "cell_type": "code",
   "execution_count": 7,
   "metadata": {},
   "outputs": [],
   "source": [
    "def seleccionar_publicaciones_fecha(encuesta, publicacion):\n",
    "    res = []\n",
    "    for i in range(len(encuesta)):\n",
    "        encuesta_row = encuesta.iloc[i]\n",
    "        inicio_fecha = encuesta_row['Inicio']\n",
    "        final_fecha = encuesta_row['Final']\n",
    "\n",
    "        publicaciones_periodo = publicacion[(publicacion['fecha']>=inicio_fecha) & (publicacion['fecha']<=final_fecha)]\n",
    "        res.append(publicaciones_periodo)\n",
    "    \n",
    "    return res"
   ]
  },
  {
   "cell_type": "code",
   "execution_count": 8,
   "metadata": {},
   "outputs": [],
   "source": [
    "def para_entrenar(tabla_una_fecha,k,partidos,canales,datos_encuestas):\n",
    "    \n",
    "    encuesta_porcentajes = datos_encuestas[partidos].iloc[k]\n",
    "    df = pd.DataFrame(columns=partidos)\n",
    "    df_encuestas = pd.DataFrame(columns=partidos)\n",
    "    fuentes_lista = canales\n",
    "    \n",
    "    agrupado_likes = tabla_una_fecha.groupby(['Partido','fuente'])['cantidad_likes'].median()\n",
    "    fecha_median = tabla_una_fecha['fecha'].median()\n",
    "\n",
    "    for p in list(partidos):\n",
    "\n",
    "        if p in agrupado_likes.index:\n",
    "            likes_partidos = agrupado_likes[p]\n",
    "            fuentes_partido = likes_partidos.index\n",
    "            likes_median = []\n",
    "\n",
    "            for c in canales:\n",
    "                if c in fuentes_partido:\n",
    "                    likes_median.append(likes_partidos[c])\n",
    "                else:\n",
    "                    likes_median.append(0)\n",
    "        \n",
    "            df[p] = likes_median\n",
    "        else:\n",
    "            df[p] = [0]*len(canales)\n",
    "\n",
    "        df_encuestas[p] = [encuesta_porcentajes[p]]*len(df)\n",
    "\n",
    "    df_encuestas.rename(columns=lambda x: x+'_Encuestas',inplace=True)\n",
    "    df['Fuente'] = fuentes_lista\n",
    "    df['fecha_mediana'] = fecha_median\n",
    "\n",
    "    res = pd.concat([df,df_encuestas],axis=1)\n",
    "\n",
    "    return res"
   ]
  },
  {
   "cell_type": "code",
   "execution_count": 9,
   "metadata": {},
   "outputs": [],
   "source": [
    "def juntar_tablas_preparadas(tabla_periodos,partidos,canales,datos_encuestas):\n",
    "    #partidos = encuestas.columns[:5]\n",
    "    tablas_entrenar = []\n",
    "    for k,t in enumerate(tabla_periodos):\n",
    "        tablas_entrenar.append(para_entrenar(t,k,partidos,canales,datos_encuestas))\n",
    "\n",
    "    data = pd.concat(tablas_entrenar)\n",
    "    return data"
   ]
  },
  {
   "cell_type": "code",
   "execution_count": 10,
   "metadata": {},
   "outputs": [],
   "source": [
    "def separar_fecha(data):\n",
    "    data['dia'] = ''\n",
    "    data['mes'] = ''\n",
    "    data['anio'] = ''\n",
    "    data['dia'] = data['fecha_mediana'].map(lambda x:x.day)\n",
    "    data['mes'] = data['fecha_mediana'].map(lambda x:x.month)\n",
    "    data['anio'] = data['fecha_mediana'].map(lambda x:x.year)\n",
    "    "
   ]
  },
  {
   "cell_type": "code",
   "execution_count": 11,
   "metadata": {},
   "outputs": [],
   "source": [
    "def encoding_Fuente(tabla,fuentes):\n",
    "    #fuentes_labels = publicaciones['fuente'].unique()\n",
    "    numbers = [i+1 for i in range(len(fuentes))]\n",
    "    simple_encoding = dict(zip(fuentes,numbers))\n",
    "    tabla['Fuente'] = tabla['Fuente'].map(lambda x:simple_encoding[x])"
   ]
  },
  {
   "cell_type": "code",
   "execution_count": 12,
   "metadata": {},
   "outputs": [],
   "source": [
    "def listo_para_entrenar(datos_publicaciones,datos_encuestas):\n",
    "    fuentes = datos_publicaciones['fuente'].unique()\n",
    "    partidos = datos_encuestas.columns.tolist()[:-2]\n",
    "\n",
    "    datos_publicaciones['fecha'] = datos_publicaciones['fecha'].map(lambda x:pasar_a_datetime(x))\n",
    "    datos_encuestas['Inicio'] = datos_encuestas['Inicio'].map(lambda x:pasar_a_datetime(x))\n",
    "    datos_encuestas['Final'] = datos_encuestas['Final'].map(lambda x:pasar_a_datetime(x))\n",
    "\n",
    "    #datos_publicaciones['cantidad_likes'].quantile(0.95)\n",
    "    datos_publicaciones = datos_publicaciones[datos_publicaciones['cantidad_likes']<25000]\n",
    "\n",
    "    tabla_periodos = seleccionar_publicaciones_fecha(datos_encuestas,datos_publicaciones)\n",
    "\n",
    "    data = juntar_tablas_preparadas(tabla_periodos,partidos,fuentes,datos_encuestas)\n",
    "    \n",
    "    separar_fecha(data)\n",
    "    encoding_Fuente(data,fuentes)\n",
    "    return data"
   ]
  },
  {
   "cell_type": "code",
   "execution_count": 14,
   "metadata": {},
   "outputs": [],
   "source": [
    "primera_vuelta_poly['Inicio'] = primera_vuelta_poly['Inicio'].map(lambda x : pasar_a_datetime(x))\n",
    "primera_vuelta_poly = primera_vuelta_poly[primera_vuelta_poly['Inicio'].map(lambda x: x.year)==2023]\n",
    "primera_vuelta_poly['Inicio'] = primera_vuelta_poly['Inicio'].map(lambda x : str(x))"
   ]
  },
  {
   "cell_type": "code",
   "execution_count": 15,
   "metadata": {},
   "outputs": [],
   "source": [
    "data_primera_vuelta = listo_para_entrenar(publicaciones,primera_vuelta).dropna()\n",
    "data_solo_ballotaje = listo_para_entrenar(publicaciones,solo_ballotaje).dropna()"
   ]
  },
  {
   "cell_type": "code",
   "execution_count": 16,
   "metadata": {},
   "outputs": [],
   "source": [
    "data_encuestas_poly = listo_para_entrenar(publicaciones,primera_vuelta_poly).dropna()\n",
    "data_ballotaje_poly = listo_para_entrenar(publicaciones,ballotaje_poly).dropna()"
   ]
  },
  {
   "cell_type": "code",
   "execution_count": 17,
   "metadata": {},
   "outputs": [],
   "source": [
    "data_encuestas_poly.drop('anio',axis=1,inplace=True)\n",
    "data_ballotaje_poly.drop('anio',axis=1,inplace=True)"
   ]
  },
  {
   "cell_type": "code",
   "execution_count": 21,
   "metadata": {},
   "outputs": [],
   "source": [
    "data_primera_vuelta.to_csv('C:/Users/54911/OneDrive/Escritorio/Data Science/Elecciones + IA/modeling/Preparando_datos/data_primera_vuelta.csv',index=False)\n",
    "#data_median.to_csv('C:/Users/54911/OneDrive/Escritorio/Data Science/Elecciones + IA/modeling/data_median.csv',index=False)\n",
    "data_solo_ballotaje.to_csv('C:/Users/54911/OneDrive/Escritorio/Data Science/Elecciones + IA/modeling/Preparando_datos/data_solo_ballotaje.csv',index=False)"
   ]
  },
  {
   "cell_type": "code",
   "execution_count": 22,
   "metadata": {},
   "outputs": [],
   "source": [
    "data_ballotaje_poly.to_csv('C:/Users/54911/OneDrive/Escritorio/Data Science/Elecciones + IA/modeling/Preparando_datos/data_ballotaje_poly.csv',index=False)\n",
    "data_encuestas_poly.to_csv('C:/Users/54911/OneDrive/Escritorio/Data Science/Elecciones + IA/modeling/Preparando_datos/data_encuestas_poly.csv',index=False)"
   ]
  },
  {
   "cell_type": "code",
   "execution_count": null,
   "metadata": {},
   "outputs": [],
   "source": []
  }
 ],
 "metadata": {
  "kernelspec": {
   "display_name": "Python 3",
   "language": "python",
   "name": "python3"
  },
  "language_info": {
   "codemirror_mode": {
    "name": "ipython",
    "version": 3
   },
   "file_extension": ".py",
   "mimetype": "text/x-python",
   "name": "python",
   "nbconvert_exporter": "python",
   "pygments_lexer": "ipython3",
   "version": "3.11.2"
  }
 },
 "nbformat": 4,
 "nbformat_minor": 2
}
