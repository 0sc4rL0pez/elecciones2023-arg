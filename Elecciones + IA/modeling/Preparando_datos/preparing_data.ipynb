{
 "cells": [
  {
   "cell_type": "code",
   "execution_count": 1,
   "metadata": {},
   "outputs": [],
   "source": [
    "import pandas as pd\n",
    "import seaborn as sns\n",
    "import matplotlib.pyplot as plt\n",
    "from datetime import datetime\n",
    "import numpy as np\n",
    "import pyodbc\n",
    "import sklearn\n",
    "import os\n"
   ]
  },
  {
   "cell_type": "code",
   "execution_count": 2,
   "metadata": {},
   "outputs": [],
   "source": [
    "# Change this path to run in your machine\n",
    "home_path = 'C:/Users/54911/OneDrive/Documentos/git_repos/elecciones2023-arg'"
   ]
  },
  {
   "cell_type": "code",
   "execution_count": 3,
   "metadata": {},
   "outputs": [],
   "source": [
    "os.chdir(home_path)"
   ]
  },
  {
   "cell_type": "code",
   "execution_count": 4,
   "metadata": {},
   "outputs": [],
   "source": [
    "political_posts = pd.read_csv('Elecciones + IA/modeling/Preparando_datos/political_posts.csv')\n"
   ]
  },
  {
   "cell_type": "code",
   "execution_count": 5,
   "metadata": {},
   "outputs": [],
   "source": [
    "primera_vuelta = pd.read_csv('Elecciones + IA/getting_data/surveys/data_scraped/normalize_primera_vuelta.csv')\n",
    "ballotage = pd.read_csv('Elecciones + IA/getting_data/surveys/data_scraped/normalize_ballotage.csv')\n",
    "primera_vuelta_poly = pd.read_csv('Elecciones + IA/modeling/polynomial_surveys/polynomial_primera_vuelta.csv')\n",
    "ballotaje_poly = pd.read_csv('Elecciones + IA/modeling/polynomial_surveys/polynomial_ballotage.csv')\n"
   ]
  },
  {
   "cell_type": "code",
   "execution_count": 6,
   "metadata": {},
   "outputs": [],
   "source": [
    "def stringToDatetime(fecha):\n",
    "    #format_string = '%Y-%m-%d'\n",
    "    anio,mes,dia= fecha.split('-')\n",
    "    aux_dia = dia.split(' ')\n",
    "    if len(aux_dia)>1:dia = aux_dia[0]\n",
    "    res = datetime(int(anio),int(mes),int(dia))\n",
    "    return res\n"
   ]
  },
  {
   "cell_type": "code",
   "execution_count": 7,
   "metadata": {},
   "outputs": [],
   "source": [
    "political_posts['fecha'] = pd.to_datetime(political_posts['fecha'])\n",
    "primera_vuelta['Final'] = pd.to_datetime(primera_vuelta['Final'])\n",
    "primera_vuelta['Inicio'] = pd.to_datetime(primera_vuelta['Inicio'])"
   ]
  },
  {
   "cell_type": "code",
   "execution_count": 24,
   "metadata": {},
   "outputs": [],
   "source": [
    "indx_row = 1\n",
    "inicio = primera_vuelta_poly.iloc[indx_row]['Inicio']\n",
    "final = primera_vuelta_poly.iloc[indx_row]['Final']"
   ]
  },
  {
   "cell_type": "code",
   "execution_count": 25,
   "metadata": {},
   "outputs": [],
   "source": [
    "prueba = political_posts[(political_posts['fecha']>inicio)& (political_posts['fecha']<final)]"
   ]
  },
  {
   "cell_type": "code",
   "execution_count": 26,
   "metadata": {},
   "outputs": [
    {
     "data": {
      "text/plain": [
       "Union por la Patria     35\n",
       "Juntos por el Cambio    34\n",
       "La Libertad Avanza       3\n",
       "Name: partido, dtype: int64"
      ]
     },
     "execution_count": 26,
     "metadata": {},
     "output_type": "execute_result"
    }
   ],
   "source": [
    "prueba['partido'].value_counts()"
   ]
  },
  {
   "cell_type": "code",
   "execution_count": 27,
   "metadata": {},
   "outputs": [
    {
     "data": {
      "text/html": [
       "<div>\n",
       "<style scoped>\n",
       "    .dataframe tbody tr th:only-of-type {\n",
       "        vertical-align: middle;\n",
       "    }\n",
       "\n",
       "    .dataframe tbody tr th {\n",
       "        vertical-align: top;\n",
       "    }\n",
       "\n",
       "    .dataframe thead th {\n",
       "        text-align: right;\n",
       "    }\n",
       "</style>\n",
       "<table border=\"1\" class=\"dataframe\">\n",
       "  <thead>\n",
       "    <tr style=\"text-align: right;\">\n",
       "      <th></th>\n",
       "      <th>Union por la Patria</th>\n",
       "      <th>Juntos por el Cambio</th>\n",
       "      <th>La Libertad Avanza</th>\n",
       "      <th>Hacemos juntos nuestro Pais</th>\n",
       "      <th>Frente de Izquierda y Trabajadores</th>\n",
       "      <th>Inicio</th>\n",
       "      <th>Final</th>\n",
       "    </tr>\n",
       "  </thead>\n",
       "  <tbody>\n",
       "    <tr>\n",
       "      <th>0</th>\n",
       "      <td>30.113</td>\n",
       "      <td>38.390</td>\n",
       "      <td>25.260</td>\n",
       "      <td>3.846</td>\n",
       "      <td>3.129</td>\n",
       "      <td>2022-12-25</td>\n",
       "      <td>2023-01-06</td>\n",
       "    </tr>\n",
       "    <tr>\n",
       "      <th>1</th>\n",
       "      <td>31.006</td>\n",
       "      <td>38.381</td>\n",
       "      <td>25.184</td>\n",
       "      <td>3.848</td>\n",
       "      <td>3.144</td>\n",
       "      <td>2022-12-26</td>\n",
       "      <td>2023-01-03</td>\n",
       "    </tr>\n",
       "    <tr>\n",
       "      <th>2</th>\n",
       "      <td>31.702</td>\n",
       "      <td>38.352</td>\n",
       "      <td>25.013</td>\n",
       "      <td>3.851</td>\n",
       "      <td>3.159</td>\n",
       "      <td>2023-01-06</td>\n",
       "      <td>2023-01-11</td>\n",
       "    </tr>\n",
       "    <tr>\n",
       "      <th>3</th>\n",
       "      <td>32.224</td>\n",
       "      <td>38.299</td>\n",
       "      <td>24.789</td>\n",
       "      <td>3.853</td>\n",
       "      <td>3.173</td>\n",
       "      <td>2023-01-11</td>\n",
       "      <td>2023-01-17</td>\n",
       "    </tr>\n",
       "    <tr>\n",
       "      <th>4</th>\n",
       "      <td>32.594</td>\n",
       "      <td>38.217</td>\n",
       "      <td>24.547</td>\n",
       "      <td>3.855</td>\n",
       "      <td>3.187</td>\n",
       "      <td>2023-01-15</td>\n",
       "      <td>2023-01-16</td>\n",
       "    </tr>\n",
       "    <tr>\n",
       "      <th>...</th>\n",
       "      <td>...</td>\n",
       "      <td>...</td>\n",
       "      <td>...</td>\n",
       "      <td>...</td>\n",
       "      <td>...</td>\n",
       "      <td>...</td>\n",
       "      <td>...</td>\n",
       "    </tr>\n",
       "    <tr>\n",
       "      <th>93</th>\n",
       "      <td>30.902</td>\n",
       "      <td>27.177</td>\n",
       "      <td>33.686</td>\n",
       "      <td>4.177</td>\n",
       "      <td>2.806</td>\n",
       "      <td>2023-10-03</td>\n",
       "      <td>2023-10-04</td>\n",
       "    </tr>\n",
       "    <tr>\n",
       "      <th>94</th>\n",
       "      <td>31.057</td>\n",
       "      <td>27.042</td>\n",
       "      <td>33.391</td>\n",
       "      <td>4.182</td>\n",
       "      <td>2.784</td>\n",
       "      <td>2023-10-03</td>\n",
       "      <td>2023-10-09</td>\n",
       "    </tr>\n",
       "    <tr>\n",
       "      <th>95</th>\n",
       "      <td>31.216</td>\n",
       "      <td>26.666</td>\n",
       "      <td>33.260</td>\n",
       "      <td>4.187</td>\n",
       "      <td>2.761</td>\n",
       "      <td>2023-10-07</td>\n",
       "      <td>2023-10-10</td>\n",
       "    </tr>\n",
       "    <tr>\n",
       "      <th>96</th>\n",
       "      <td>31.374</td>\n",
       "      <td>25.977</td>\n",
       "      <td>33.348</td>\n",
       "      <td>4.192</td>\n",
       "      <td>2.738</td>\n",
       "      <td>2023-10-08</td>\n",
       "      <td>2023-10-10</td>\n",
       "    </tr>\n",
       "    <tr>\n",
       "      <th>97</th>\n",
       "      <td>31.523</td>\n",
       "      <td>24.893</td>\n",
       "      <td>33.718</td>\n",
       "      <td>4.197</td>\n",
       "      <td>2.714</td>\n",
       "      <td>2023-10-09</td>\n",
       "      <td>2023-10-11</td>\n",
       "    </tr>\n",
       "  </tbody>\n",
       "</table>\n",
       "<p>98 rows × 7 columns</p>\n",
       "</div>"
      ],
      "text/plain": [
       "    Union por la Patria  Juntos por el Cambio  La Libertad Avanza  \\\n",
       "0                30.113                38.390              25.260   \n",
       "1                31.006                38.381              25.184   \n",
       "2                31.702                38.352              25.013   \n",
       "3                32.224                38.299              24.789   \n",
       "4                32.594                38.217              24.547   \n",
       "..                  ...                   ...                 ...   \n",
       "93               30.902                27.177              33.686   \n",
       "94               31.057                27.042              33.391   \n",
       "95               31.216                26.666              33.260   \n",
       "96               31.374                25.977              33.348   \n",
       "97               31.523                24.893              33.718   \n",
       "\n",
       "    Hacemos juntos nuestro Pais  Frente de Izquierda y Trabajadores  \\\n",
       "0                         3.846                               3.129   \n",
       "1                         3.848                               3.144   \n",
       "2                         3.851                               3.159   \n",
       "3                         3.853                               3.173   \n",
       "4                         3.855                               3.187   \n",
       "..                          ...                                 ...   \n",
       "93                        4.177                               2.806   \n",
       "94                        4.182                               2.784   \n",
       "95                        4.187                               2.761   \n",
       "96                        4.192                               2.738   \n",
       "97                        4.197                               2.714   \n",
       "\n",
       "        Inicio       Final  \n",
       "0   2022-12-25  2023-01-06  \n",
       "1   2022-12-26  2023-01-03  \n",
       "2   2023-01-06  2023-01-11  \n",
       "3   2023-01-11  2023-01-17  \n",
       "4   2023-01-15  2023-01-16  \n",
       "..         ...         ...  \n",
       "93  2023-10-03  2023-10-04  \n",
       "94  2023-10-03  2023-10-09  \n",
       "95  2023-10-07  2023-10-10  \n",
       "96  2023-10-08  2023-10-10  \n",
       "97  2023-10-09  2023-10-11  \n",
       "\n",
       "[98 rows x 7 columns]"
      ]
     },
     "execution_count": 27,
     "metadata": {},
     "output_type": "execute_result"
    }
   ],
   "source": [
    "primera_vuelta_poly"
   ]
  },
  {
   "cell_type": "code",
   "execution_count": 7,
   "metadata": {},
   "outputs": [],
   "source": [
    "def seleccionar_publicaciones_fecha(encuesta, publicacion):\n",
    "    res = []\n",
    "    for i in range(len(encuesta)):\n",
    "        encuesta_row = encuesta.iloc[i]\n",
    "        inicio_fecha = encuesta_row['Inicio']\n",
    "        final_fecha = encuesta_row['Final']\n",
    "\n",
    "        publicaciones_periodo = publicacion[(publicacion['fecha']>=inicio_fecha) & (publicacion['fecha']<=final_fecha)]\n",
    "        res.append(publicaciones_periodo)\n",
    "    \n",
    "    return res"
   ]
  },
  {
   "cell_type": "code",
   "execution_count": 8,
   "metadata": {},
   "outputs": [],
   "source": [
    "def para_entrenar(tabla_una_fecha,k,partidos,canales,datos_encuestas):\n",
    "    \n",
    "    encuesta_porcentajes = datos_encuestas[partidos].iloc[k]\n",
    "    df = pd.DataFrame(columns=partidos)\n",
    "    df_encuestas = pd.DataFrame(columns=partidos)\n",
    "    fuentes_lista = canales\n",
    "    \n",
    "    agrupado_likes = tabla_una_fecha.groupby(['Partido','fuente'])['cantidad_likes'].median()\n",
    "    fecha_median = tabla_una_fecha['fecha'].median()\n",
    "\n",
    "    for p in list(partidos):\n",
    "\n",
    "        if p in agrupado_likes.index:\n",
    "            likes_partidos = agrupado_likes[p]\n",
    "            fuentes_partido = likes_partidos.index\n",
    "            likes_median = []\n",
    "\n",
    "            for c in canales:\n",
    "                if c in fuentes_partido:\n",
    "                    likes_median.append(likes_partidos[c])\n",
    "                else:\n",
    "                    likes_median.append(0)\n",
    "        \n",
    "            df[p] = likes_median\n",
    "        else:\n",
    "            df[p] = [0]*len(canales)\n",
    "\n",
    "        df_encuestas[p] = [encuesta_porcentajes[p]]*len(df)\n",
    "\n",
    "    df_encuestas.rename(columns=lambda x: x+'_Encuestas',inplace=True)\n",
    "    df['Fuente'] = fuentes_lista\n",
    "    df['fecha_mediana'] = fecha_median\n",
    "\n",
    "    res = pd.concat([df,df_encuestas],axis=1)\n",
    "\n",
    "    return res"
   ]
  },
  {
   "cell_type": "code",
   "execution_count": 9,
   "metadata": {},
   "outputs": [],
   "source": [
    "def juntar_tablas_preparadas(tabla_periodos,partidos,canales,datos_encuestas):\n",
    "    #partidos = encuestas.columns[:5]\n",
    "    tablas_entrenar = []\n",
    "    for k,t in enumerate(tabla_periodos):\n",
    "        tablas_entrenar.append(para_entrenar(t,k,partidos,canales,datos_encuestas))\n",
    "\n",
    "    data = pd.concat(tablas_entrenar)\n",
    "    return data"
   ]
  },
  {
   "cell_type": "code",
   "execution_count": 10,
   "metadata": {},
   "outputs": [],
   "source": [
    "def separar_fecha(data):\n",
    "    data['dia'] = ''\n",
    "    data['mes'] = ''\n",
    "    data['anio'] = ''\n",
    "    data['dia'] = data['fecha_mediana'].map(lambda x:x.day)\n",
    "    data['mes'] = data['fecha_mediana'].map(lambda x:x.month)\n",
    "    data['anio'] = data['fecha_mediana'].map(lambda x:x.year)\n",
    "    "
   ]
  },
  {
   "cell_type": "code",
   "execution_count": 11,
   "metadata": {},
   "outputs": [],
   "source": [
    "def encoding_Fuente(tabla,fuentes):\n",
    "    #fuentes_labels = publicaciones['fuente'].unique()\n",
    "    numbers = [i+1 for i in range(len(fuentes))]\n",
    "    simple_encoding = dict(zip(fuentes,numbers))\n",
    "    tabla['Fuente'] = tabla['Fuente'].map(lambda x:simple_encoding[x])"
   ]
  },
  {
   "cell_type": "code",
   "execution_count": 12,
   "metadata": {},
   "outputs": [],
   "source": [
    "def listo_para_entrenar(datos_publicaciones,datos_encuestas):\n",
    "    fuentes = datos_publicaciones['fuente'].unique()\n",
    "    partidos = datos_encuestas.columns.tolist()[:-2]\n",
    "\n",
    "    datos_publicaciones['fecha'] = datos_publicaciones['fecha'].map(lambda x:pasar_a_datetime(x))\n",
    "    datos_encuestas['Inicio'] = datos_encuestas['Inicio'].map(lambda x:pasar_a_datetime(x))\n",
    "    datos_encuestas['Final'] = datos_encuestas['Final'].map(lambda x:pasar_a_datetime(x))\n",
    "\n",
    "    #datos_publicaciones['cantidad_likes'].quantile(0.95)\n",
    "    datos_publicaciones = datos_publicaciones[datos_publicaciones['cantidad_likes']<25000]\n",
    "\n",
    "    tabla_periodos = seleccionar_publicaciones_fecha(datos_encuestas,datos_publicaciones)\n",
    "\n",
    "    data = juntar_tablas_preparadas(tabla_periodos,partidos,fuentes,datos_encuestas)\n",
    "    \n",
    "    separar_fecha(data)\n",
    "    encoding_Fuente(data,fuentes)\n",
    "    return data"
   ]
  },
  {
   "cell_type": "code",
   "execution_count": 14,
   "metadata": {},
   "outputs": [],
   "source": [
    "primera_vuelta_poly['Inicio'] = primera_vuelta_poly['Inicio'].map(lambda x : pasar_a_datetime(x))\n",
    "primera_vuelta_poly = primera_vuelta_poly[primera_vuelta_poly['Inicio'].map(lambda x: x.year)==2023]\n",
    "primera_vuelta_poly['Inicio'] = primera_vuelta_poly['Inicio'].map(lambda x : str(x))"
   ]
  },
  {
   "cell_type": "code",
   "execution_count": 15,
   "metadata": {},
   "outputs": [],
   "source": [
    "data_primera_vuelta = listo_para_entrenar(publicaciones,primera_vuelta).dropna()\n",
    "data_solo_ballotaje = listo_para_entrenar(publicaciones,solo_ballotaje).dropna()"
   ]
  },
  {
   "cell_type": "code",
   "execution_count": 16,
   "metadata": {},
   "outputs": [],
   "source": [
    "data_encuestas_poly = listo_para_entrenar(publicaciones,primera_vuelta_poly).dropna()\n",
    "data_ballotaje_poly = listo_para_entrenar(publicaciones,ballotaje_poly).dropna()"
   ]
  },
  {
   "cell_type": "code",
   "execution_count": 17,
   "metadata": {},
   "outputs": [],
   "source": [
    "data_encuestas_poly.drop('anio',axis=1,inplace=True)\n",
    "data_ballotaje_poly.drop('anio',axis=1,inplace=True)"
   ]
  },
  {
   "cell_type": "code",
   "execution_count": 21,
   "metadata": {},
   "outputs": [],
   "source": [
    "data_primera_vuelta.to_csv('C:/Users/54911/OneDrive/Escritorio/Data Science/Elecciones + IA/modeling/Preparando_datos/data_primera_vuelta.csv',index=False)\n",
    "#data_median.to_csv('C:/Users/54911/OneDrive/Escritorio/Data Science/Elecciones + IA/modeling/data_median.csv',index=False)\n",
    "data_solo_ballotaje.to_csv('C:/Users/54911/OneDrive/Escritorio/Data Science/Elecciones + IA/modeling/Preparando_datos/data_solo_ballotaje.csv',index=False)"
   ]
  },
  {
   "cell_type": "code",
   "execution_count": 22,
   "metadata": {},
   "outputs": [],
   "source": [
    "data_ballotaje_poly.to_csv('C:/Users/54911/OneDrive/Escritorio/Data Science/Elecciones + IA/modeling/Preparando_datos/data_ballotaje_poly.csv',index=False)\n",
    "data_encuestas_poly.to_csv('C:/Users/54911/OneDrive/Escritorio/Data Science/Elecciones + IA/modeling/Preparando_datos/data_encuestas_poly.csv',index=False)"
   ]
  },
  {
   "cell_type": "code",
   "execution_count": null,
   "metadata": {},
   "outputs": [],
   "source": []
  }
 ],
 "metadata": {
  "kernelspec": {
   "display_name": "Python 3",
   "language": "python",
   "name": "python3"
  },
  "language_info": {
   "codemirror_mode": {
    "name": "ipython",
    "version": 3
   },
   "file_extension": ".py",
   "mimetype": "text/x-python",
   "name": "python",
   "nbconvert_exporter": "python",
   "pygments_lexer": "ipython3",
   "version": "3.11.2"
  }
 },
 "nbformat": 4,
 "nbformat_minor": 2
}
