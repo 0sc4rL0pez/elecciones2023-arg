{
 "cells": [
  {
   "cell_type": "code",
   "execution_count": 46,
   "metadata": {},
   "outputs": [],
   "source": [
    "import pandas as pd\n",
    "import seaborn as sns\n",
    "import matplotlib.pyplot as plt\n",
    "from datetime import datetime\n",
    "import numpy as np\n",
    "import pyodbc\n",
    "import sklearn\n",
    "import os\n"
   ]
  },
  {
   "cell_type": "code",
   "execution_count": 47,
   "metadata": {},
   "outputs": [],
   "source": [
    "# Change this path to run in your machine\n",
    "home_path = 'C:/Users/54911/OneDrive/Documentos/git_repos/elecciones2023-arg'"
   ]
  },
  {
   "cell_type": "code",
   "execution_count": 48,
   "metadata": {},
   "outputs": [],
   "source": [
    "os.chdir(home_path)"
   ]
  },
  {
   "cell_type": "code",
   "execution_count": 49,
   "metadata": {},
   "outputs": [],
   "source": [
    "political_posts = pd.read_csv('Elecciones + IA/modeling/Preparando_datos/political_posts.csv')\n"
   ]
  },
  {
   "cell_type": "code",
   "execution_count": 50,
   "metadata": {},
   "outputs": [],
   "source": [
    "primera_vuelta_poly = pd.read_csv('Elecciones + IA/modeling/polynomial_surveys/data_built/normalize_primera_vuelta_poly.csv')\n",
    "ballotaje_poly = pd.read_csv('Elecciones + IA/modeling/polynomial_surveys/data_built/normalize_ballotage_poly.csv')\n"
   ]
  },
  {
   "cell_type": "code",
   "execution_count": 52,
   "metadata": {},
   "outputs": [],
   "source": [
    "political_posts['fecha'] = pd.to_datetime(political_posts['fecha'])\n",
    "primera_vuelta_poly['Final'] = pd.to_datetime(primera_vuelta_poly['Final'])\n",
    "primera_vuelta_poly['Inicio'] = pd.to_datetime(primera_vuelta_poly['Inicio'])"
   ]
  },
  {
   "cell_type": "markdown",
   "metadata": {},
   "source": [
    "Let's see how the post is distribuided in each date range"
   ]
  },
  {
   "cell_type": "code",
   "execution_count": 100,
   "metadata": {},
   "outputs": [],
   "source": [
    "amount_posts = np.zeros(len(primera_vuelta_poly))\n",
    "for i in range (len(primera_vuelta_poly)):\n",
    "    indx_row = i\n",
    "    start = primera_vuelta_poly.iloc[indx_row]['Inicio']\n",
    "    end = primera_vuelta_poly.iloc[indx_row]['Final']\n",
    "    aux = political_posts[(political_posts['fecha']>start)& (political_posts['fecha']<end)]\n",
    "    amount_posts[i] = len(aux)"
   ]
  },
  {
   "cell_type": "code",
   "execution_count": 101,
   "metadata": {},
   "outputs": [
    {
     "data": {
      "text/plain": [
       "<seaborn.axisgrid.FacetGrid at 0x29761c28310>"
      ]
     },
     "execution_count": 101,
     "metadata": {},
     "output_type": "execute_result"
    },
    {
     "data": {
      "image/png": "[encoded data removed]",
      "text/plain": [
       "<Figure size 500x500 with 1 Axes>"
      ]
     },
     "metadata": {},
     "output_type": "display_data"
    }
   ],
   "source": [
    "sns.displot(amount_posts)"
   ]
  },
  {
   "cell_type": "code",
   "execution_count": 113,
   "metadata": {},
   "outputs": [],
   "source": [
    "amount_max = np.quantile(amount_posts,0.95)\n",
    "amount_min = np.quantile(amount_posts,0.1)\n",
    "filtered_index =  np.nonzero((amount_posts>amount_min) & (amount_posts<amount_max))"
   ]
  },
  {
   "cell_type": "code",
   "execution_count": 115,
   "metadata": {},
   "outputs": [],
   "source": [
    "primera_vuelta_poly_filtered = primera_vuelta_poly.iloc[filtered_index]"
   ]
  },
  {
   "cell_type": "code",
   "execution_count": 116,
   "metadata": {},
   "outputs": [],
   "source": [
    "def selecPostDate(survey, posts_data):\n",
    "    res = []\n",
    "    for indx_row in range (len(survey)):\n",
    "        start = survey.iloc[indx_row]['Inicio']\n",
    "        end = survey.iloc[indx_row]['Final']\n",
    "\n",
    "        filtered_date = posts_data[(posts_data['fecha']>start)& (posts_data['fecha']<end)]\n",
    "        \n",
    "        res.append(filtered_date) \n",
    "\n",
    "    return res"
   ]
  },
  {
   "cell_type": "code",
   "execution_count": 119,
   "metadata": {},
   "outputs": [],
   "source": [
    "separated_date_posts = selecPostDate(primera_vuelta_poly_filtered,political_posts)"
   ]
  },
  {
   "cell_type": "markdown",
   "metadata": {},
   "source": [
    "fuente -> oneHotEncoding\n",
    "fecha -> day,month,year\n",
    "cantidad_likes -> mean values"
   ]
  },
  {
   "cell_type": "code",
   "execution_count": 132,
   "metadata": {},
   "outputs": [
    {
     "data": {
      "text/html": [
       "<div>\n",
       "<style scoped>\n",
       "    .dataframe tbody tr th:only-of-type {\n",
       "        vertical-align: middle;\n",
       "    }\n",
       "\n",
       "    .dataframe tbody tr th {\n",
       "        vertical-align: top;\n",
       "    }\n",
       "\n",
       "    .dataframe thead th {\n",
       "        text-align: right;\n",
       "    }\n",
       "</style>\n",
       "<table border=\"1\" class=\"dataframe\">\n",
       "  <thead>\n",
       "    <tr style=\"text-align: right;\">\n",
       "      <th></th>\n",
       "      <th>id</th>\n",
       "      <th>fuente</th>\n",
       "      <th>cantidad_likes</th>\n",
       "      <th>fecha</th>\n",
       "      <th>partido</th>\n",
       "    </tr>\n",
       "  </thead>\n",
       "  <tbody>\n",
       "    <tr>\n",
       "      <th>13</th>\n",
       "      <td>Cq9XukWvhAc</td>\n",
       "      <td>a24noticias</td>\n",
       "      <td>3697</td>\n",
       "      <td>2023-04-13 00:00:00</td>\n",
       "      <td>La Libertad Avanza</td>\n",
       "    </tr>\n",
       "    <tr>\n",
       "      <th>213</th>\n",
       "      <td>Cq-SjbVMcvf</td>\n",
       "      <td>infobae</td>\n",
       "      <td>2243</td>\n",
       "      <td>2023-04-13 00:00:00</td>\n",
       "      <td>La Libertad Avanza</td>\n",
       "    </tr>\n",
       "    <tr>\n",
       "      <th>233</th>\n",
       "      <td>Cq8oe3VP7Mu</td>\n",
       "      <td>filonewsok</td>\n",
       "      <td>5440</td>\n",
       "      <td>2023-04-12 00:00:00</td>\n",
       "      <td>La Libertad Avanza</td>\n",
       "    </tr>\n",
       "    <tr>\n",
       "      <th>388</th>\n",
       "      <td>CrBK2f0MP_e</td>\n",
       "      <td>infobae</td>\n",
       "      <td>1014</td>\n",
       "      <td>2023-04-14 00:00:00</td>\n",
       "      <td>La Libertad Avanza</td>\n",
       "    </tr>\n",
       "    <tr>\n",
       "      <th>389</th>\n",
       "      <td>Cq_Zvs_rLwD</td>\n",
       "      <td>infobae</td>\n",
       "      <td>1768</td>\n",
       "      <td>2023-04-13 00:00:00</td>\n",
       "      <td>La Libertad Avanza</td>\n",
       "    </tr>\n",
       "    <tr>\n",
       "      <th>390</th>\n",
       "      <td>Cq8_moKJDO3</td>\n",
       "      <td>infobae</td>\n",
       "      <td>728</td>\n",
       "      <td>2023-04-12 00:00:00</td>\n",
       "      <td>La Libertad Avanza</td>\n",
       "    </tr>\n",
       "    <tr>\n",
       "      <th>391</th>\n",
       "      <td>Cq8kJiIJxmN</td>\n",
       "      <td>infobae</td>\n",
       "      <td>14973</td>\n",
       "      <td>2023-04-12 00:00:00</td>\n",
       "      <td>La Libertad Avanza</td>\n",
       "    </tr>\n",
       "    <tr>\n",
       "      <th>392</th>\n",
       "      <td>Cq8EwvDNT5V</td>\n",
       "      <td>infobae</td>\n",
       "      <td>25588</td>\n",
       "      <td>2023-04-12 00:00:00</td>\n",
       "      <td>La Libertad Avanza</td>\n",
       "    </tr>\n",
       "    <tr>\n",
       "      <th>930</th>\n",
       "      <td>CrAy5L1vJug</td>\n",
       "      <td>lanacioncom</td>\n",
       "      <td>7143</td>\n",
       "      <td>2023-04-14 00:00:00</td>\n",
       "      <td>La Libertad Avanza</td>\n",
       "    </tr>\n",
       "    <tr>\n",
       "      <th>931</th>\n",
       "      <td>CrBBVJ6R_Ag</td>\n",
       "      <td>lanacioncom</td>\n",
       "      <td>1349</td>\n",
       "      <td>2023-04-14 00:00:00</td>\n",
       "      <td>La Libertad Avanza</td>\n",
       "    </tr>\n",
       "    <tr>\n",
       "      <th>932</th>\n",
       "      <td>Cq-izEYumyh</td>\n",
       "      <td>lanacioncom</td>\n",
       "      <td>6003</td>\n",
       "      <td>2023-04-13 00:00:00</td>\n",
       "      <td>La Libertad Avanza</td>\n",
       "    </tr>\n",
       "    <tr>\n",
       "      <th>934</th>\n",
       "      <td>Cq8Ew6XNKbK</td>\n",
       "      <td>lanacioncom</td>\n",
       "      <td>1809</td>\n",
       "      <td>2023-04-12 00:00:00</td>\n",
       "      <td>La Libertad Avanza</td>\n",
       "    </tr>\n",
       "    <tr>\n",
       "      <th>935</th>\n",
       "      <td>Cq5EhaqpCTb</td>\n",
       "      <td>lanacioncom</td>\n",
       "      <td>2041</td>\n",
       "      <td>2023-04-11 00:00:00</td>\n",
       "      <td>La Libertad Avanza</td>\n",
       "    </tr>\n",
       "    <tr>\n",
       "      <th>936</th>\n",
       "      <td>Cq3_43Xp4GW</td>\n",
       "      <td>lanacioncom</td>\n",
       "      <td>5195</td>\n",
       "      <td>2023-04-11 00:00:00</td>\n",
       "      <td>La Libertad Avanza</td>\n",
       "    </tr>\n",
       "    <tr>\n",
       "      <th>937</th>\n",
       "      <td>Cq3TTOqp7Ja</td>\n",
       "      <td>lanacioncom</td>\n",
       "      <td>5074</td>\n",
       "      <td>2023-04-10 00:00:00</td>\n",
       "      <td>La Libertad Avanza</td>\n",
       "    </tr>\n",
       "    <tr>\n",
       "      <th>938</th>\n",
       "      <td>Cq1vs_yqcJE</td>\n",
       "      <td>lanacioncom</td>\n",
       "      <td>5473</td>\n",
       "      <td>2023-04-10 00:00:00</td>\n",
       "      <td>La Libertad Avanza</td>\n",
       "    </tr>\n",
       "    <tr>\n",
       "      <th>939</th>\n",
       "      <td>CquBUmFpird</td>\n",
       "      <td>lanacioncom</td>\n",
       "      <td>5582</td>\n",
       "      <td>2023-04-07 00:00:00</td>\n",
       "      <td>La Libertad Avanza</td>\n",
       "    </tr>\n",
       "    <tr>\n",
       "      <th>1071</th>\n",
       "      <td>Cq-plPTtlbe</td>\n",
       "      <td>pagina12</td>\n",
       "      <td>3734</td>\n",
       "      <td>2023-04-13 00:00:00</td>\n",
       "      <td>La Libertad Avanza</td>\n",
       "    </tr>\n",
       "    <tr>\n",
       "      <th>1072</th>\n",
       "      <td>Cq8V8-atrrZ</td>\n",
       "      <td>pagina12</td>\n",
       "      <td>2902</td>\n",
       "      <td>2023-04-12 00:00:00</td>\n",
       "      <td>La Libertad Avanza</td>\n",
       "    </tr>\n",
       "    <tr>\n",
       "      <th>1095</th>\n",
       "      <td>Cq_gdMHgPDf</td>\n",
       "      <td>tv_publica</td>\n",
       "      <td>1622</td>\n",
       "      <td>2023-04-13 00:00:00</td>\n",
       "      <td>La Libertad Avanza</td>\n",
       "    </tr>\n",
       "    <tr>\n",
       "      <th>1307</th>\n",
       "      <td>Cq_53OvMI1_</td>\n",
       "      <td>c5n</td>\n",
       "      <td>2969</td>\n",
       "      <td>2023-04-14 00:00:00</td>\n",
       "      <td>La Libertad Avanza</td>\n",
       "    </tr>\n",
       "    <tr>\n",
       "      <th>1546</th>\n",
       "      <td>CrB-a9Fv-pN</td>\n",
       "      <td>clarincom</td>\n",
       "      <td>14427</td>\n",
       "      <td>2023-04-14 00:00:00</td>\n",
       "      <td>La Libertad Avanza</td>\n",
       "    </tr>\n",
       "    <tr>\n",
       "      <th>1547</th>\n",
       "      <td>Cq-b7dHLlng</td>\n",
       "      <td>clarincom</td>\n",
       "      <td>11174</td>\n",
       "      <td>2023-04-13 00:00:00</td>\n",
       "      <td>La Libertad Avanza</td>\n",
       "    </tr>\n",
       "    <tr>\n",
       "      <th>1548</th>\n",
       "      <td>Cq807EKvdG2</td>\n",
       "      <td>clarincom</td>\n",
       "      <td>7205</td>\n",
       "      <td>2023-04-12 00:00:00</td>\n",
       "      <td>La Libertad Avanza</td>\n",
       "    </tr>\n",
       "    <tr>\n",
       "      <th>1549</th>\n",
       "      <td>Cq0x6z2NQ9d</td>\n",
       "      <td>clarincom</td>\n",
       "      <td>7360</td>\n",
       "      <td>2023-04-09 00:00:00</td>\n",
       "      <td>La Libertad Avanza</td>\n",
       "    </tr>\n",
       "    <tr>\n",
       "      <th>1666</th>\n",
       "      <td>Cq0KtkRo8w9</td>\n",
       "      <td>todonoticias</td>\n",
       "      <td>27163</td>\n",
       "      <td>2023-04-09 00:00:00</td>\n",
       "      <td>La Libertad Avanza</td>\n",
       "    </tr>\n",
       "    <tr>\n",
       "      <th>2022</th>\n",
       "      <td>Cq_gdMHgPDf</td>\n",
       "      <td>tv_publica</td>\n",
       "      <td>1622</td>\n",
       "      <td>2023-04-13 22:05:22</td>\n",
       "      <td>La Libertad Avanza</td>\n",
       "    </tr>\n",
       "  </tbody>\n",
       "</table>\n",
       "</div>"
      ],
      "text/plain": [
       "               id        fuente  cantidad_likes               fecha  \\\n",
       "13    Cq9XukWvhAc   a24noticias            3697 2023-04-13 00:00:00   \n",
       "213   Cq-SjbVMcvf       infobae            2243 2023-04-13 00:00:00   \n",
       "233   Cq8oe3VP7Mu    filonewsok            5440 2023-04-12 00:00:00   \n",
       "388   CrBK2f0MP_e       infobae            1014 2023-04-14 00:00:00   \n",
       "389   Cq_Zvs_rLwD       infobae            1768 2023-04-13 00:00:00   \n",
       "390   Cq8_moKJDO3       infobae             728 2023-04-12 00:00:00   \n",
       "391   Cq8kJiIJxmN       infobae           14973 2023-04-12 00:00:00   \n",
       "392   Cq8EwvDNT5V       infobae           25588 2023-04-12 00:00:00   \n",
       "930   CrAy5L1vJug   lanacioncom            7143 2023-04-14 00:00:00   \n",
       "931   CrBBVJ6R_Ag   lanacioncom            1349 2023-04-14 00:00:00   \n",
       "932   Cq-izEYumyh   lanacioncom            6003 2023-04-13 00:00:00   \n",
       "934   Cq8Ew6XNKbK   lanacioncom            1809 2023-04-12 00:00:00   \n",
       "935   Cq5EhaqpCTb   lanacioncom            2041 2023-04-11 00:00:00   \n",
       "936   Cq3_43Xp4GW   lanacioncom            5195 2023-04-11 00:00:00   \n",
       "937   Cq3TTOqp7Ja   lanacioncom            5074 2023-04-10 00:00:00   \n",
       "938   Cq1vs_yqcJE   lanacioncom            5473 2023-04-10 00:00:00   \n",
       "939   CquBUmFpird   lanacioncom            5582 2023-04-07 00:00:00   \n",
       "1071  Cq-plPTtlbe      pagina12            3734 2023-04-13 00:00:00   \n",
       "1072  Cq8V8-atrrZ      pagina12            2902 2023-04-12 00:00:00   \n",
       "1095  Cq_gdMHgPDf    tv_publica            1622 2023-04-13 00:00:00   \n",
       "1307  Cq_53OvMI1_           c5n            2969 2023-04-14 00:00:00   \n",
       "1546  CrB-a9Fv-pN     clarincom           14427 2023-04-14 00:00:00   \n",
       "1547  Cq-b7dHLlng     clarincom           11174 2023-04-13 00:00:00   \n",
       "1548  Cq807EKvdG2     clarincom            7205 2023-04-12 00:00:00   \n",
       "1549  Cq0x6z2NQ9d     clarincom            7360 2023-04-09 00:00:00   \n",
       "1666  Cq0KtkRo8w9  todonoticias           27163 2023-04-09 00:00:00   \n",
       "2022  Cq_gdMHgPDf    tv_publica            1622 2023-04-13 22:05:22   \n",
       "\n",
       "                 partido  \n",
       "13    La Libertad Avanza  \n",
       "213   La Libertad Avanza  \n",
       "233   La Libertad Avanza  \n",
       "388   La Libertad Avanza  \n",
       "389   La Libertad Avanza  \n",
       "390   La Libertad Avanza  \n",
       "391   La Libertad Avanza  \n",
       "392   La Libertad Avanza  \n",
       "930   La Libertad Avanza  \n",
       "931   La Libertad Avanza  \n",
       "932   La Libertad Avanza  \n",
       "934   La Libertad Avanza  \n",
       "935   La Libertad Avanza  \n",
       "936   La Libertad Avanza  \n",
       "937   La Libertad Avanza  \n",
       "938   La Libertad Avanza  \n",
       "939   La Libertad Avanza  \n",
       "1071  La Libertad Avanza  \n",
       "1072  La Libertad Avanza  \n",
       "1095  La Libertad Avanza  \n",
       "1307  La Libertad Avanza  \n",
       "1546  La Libertad Avanza  \n",
       "1547  La Libertad Avanza  \n",
       "1548  La Libertad Avanza  \n",
       "1549  La Libertad Avanza  \n",
       "1666  La Libertad Avanza  \n",
       "2022  La Libertad Avanza  "
      ]
     },
     "execution_count": 132,
     "metadata": {},
     "output_type": "execute_result"
    }
   ],
   "source": [
    "lla"
   ]
  },
  {
   "cell_type": "code",
   "execution_count": 131,
   "metadata": {},
   "outputs": [
    {
     "name": "stderr",
     "output_type": "stream",
     "text": [
      "C:\\Users\\54911\\AppData\\Local\\Temp\\ipykernel_17604\\1174212770.py:3: FutureWarning: The default value of numeric_only in DataFrameGroupBy.mean is deprecated. In a future version, numeric_only will default to False. Either specify numeric_only or select only columns which should be valid for the function.\n",
      "  lla.groupby('fuente').mean()['cantidad_likes']\n"
     ]
    },
    {
     "data": {
      "text/plain": [
       "fuente\n",
       "a24noticias      3697.000000\n",
       "c5n              2969.000000\n",
       "clarincom       10041.500000\n",
       "filonewsok       5440.000000\n",
       "infobae          7719.000000\n",
       "lanacioncom      4407.666667\n",
       "pagina12         3318.000000\n",
       "todonoticias    27163.000000\n",
       "tv_publica       1622.000000\n",
       "Name: cantidad_likes, dtype: float64"
      ]
     },
     "execution_count": 131,
     "metadata": {},
     "output_type": "execute_result"
    }
   ],
   "source": [
    "prueba = separated_date_posts[15]\n",
    "lla = prueba[prueba['partido']=='La Libertad Avanza'].drop_duplicates()\n",
    "lla.groupby('fuente').mean()['cantidad_likes']"
   ]
  },
  {
   "cell_type": "code",
   "execution_count": 126,
   "metadata": {},
   "outputs": [
    {
     "data": {
      "text/plain": [
       "lanacioncom     9\n",
       "infobae         6\n",
       "clarincom       4\n",
       "pagina12        2\n",
       "tv_publica      2\n",
       "a24noticias     1\n",
       "filonewsok      1\n",
       "c5n             1\n",
       "todonoticias    1\n",
       "Name: fuente, dtype: int64"
      ]
     },
     "execution_count": 126,
     "metadata": {},
     "output_type": "execute_result"
    }
   ],
   "source": [
    "lla['fuente'].value_counts()"
   ]
  },
  {
   "cell_type": "code",
   "execution_count": 8,
   "metadata": {},
   "outputs": [],
   "source": [
    "def para_entrenar(tabla_una_fecha,k,partidos,canales,datos_encuestas):\n",
    "    \n",
    "    encuesta_porcentajes = datos_encuestas[partidos].iloc[k]\n",
    "    df = pd.DataFrame(columns=partidos)\n",
    "    df_encuestas = pd.DataFrame(columns=partidos)\n",
    "    fuentes_lista = canales\n",
    "    \n",
    "    agrupado_likes = tabla_una_fecha.groupby(['Partido','fuente'])['cantidad_likes'].median()\n",
    "    fecha_median = tabla_una_fecha['fecha'].median()\n",
    "\n",
    "    for p in list(partidos):\n",
    "\n",
    "        if p in agrupado_likes.index:\n",
    "            likes_partidos = agrupado_likes[p]\n",
    "            fuentes_partido = likes_partidos.index\n",
    "            likes_median = []\n",
    "\n",
    "            for c in canales:\n",
    "                if c in fuentes_partido:\n",
    "                    likes_median.append(likes_partidos[c])\n",
    "                else:\n",
    "                    likes_median.append(0)\n",
    "        \n",
    "            df[p] = likes_median\n",
    "        else:\n",
    "            df[p] = [0]*len(canales)\n",
    "\n",
    "        df_encuestas[p] = [encuesta_porcentajes[p]]*len(df)\n",
    "\n",
    "    df_encuestas.rename(columns=lambda x: x+'_Encuestas',inplace=True)\n",
    "    df['Fuente'] = fuentes_lista\n",
    "    df['fecha_mediana'] = fecha_median\n",
    "\n",
    "    res = pd.concat([df,df_encuestas],axis=1)\n",
    "\n",
    "    return res"
   ]
  },
  {
   "cell_type": "code",
   "execution_count": 9,
   "metadata": {},
   "outputs": [],
   "source": [
    "def juntar_tablas_preparadas(tabla_periodos,partidos,canales,datos_encuestas):\n",
    "    #partidos = encuestas.columns[:5]\n",
    "    tablas_entrenar = []\n",
    "    for k,t in enumerate(tabla_periodos):\n",
    "        tablas_entrenar.append(para_entrenar(t,k,partidos,canales,datos_encuestas))\n",
    "\n",
    "    data = pd.concat(tablas_entrenar)\n",
    "    return data"
   ]
  },
  {
   "cell_type": "code",
   "execution_count": 10,
   "metadata": {},
   "outputs": [],
   "source": [
    "def separar_fecha(data):\n",
    "    data['dia'] = ''\n",
    "    data['mes'] = ''\n",
    "    data['anio'] = ''\n",
    "    data['dia'] = data['fecha_mediana'].map(lambda x:x.day)\n",
    "    data['mes'] = data['fecha_mediana'].map(lambda x:x.month)\n",
    "    data['anio'] = data['fecha_mediana'].map(lambda x:x.year)\n",
    "    "
   ]
  },
  {
   "cell_type": "code",
   "execution_count": 11,
   "metadata": {},
   "outputs": [],
   "source": [
    "def encoding_Fuente(tabla,fuentes):\n",
    "    #fuentes_labels = publicaciones['fuente'].unique()\n",
    "    numbers = [i+1 for i in range(len(fuentes))]\n",
    "    simple_encoding = dict(zip(fuentes,numbers))\n",
    "    tabla['Fuente'] = tabla['Fuente'].map(lambda x:simple_encoding[x])"
   ]
  },
  {
   "cell_type": "code",
   "execution_count": 12,
   "metadata": {},
   "outputs": [],
   "source": [
    "def listo_para_entrenar(datos_publicaciones,datos_encuestas):\n",
    "    fuentes = datos_publicaciones['fuente'].unique()\n",
    "    partidos = datos_encuestas.columns.tolist()[:-2]\n",
    "\n",
    "    datos_publicaciones['fecha'] = datos_publicaciones['fecha'].map(lambda x:pasar_a_datetime(x))\n",
    "    datos_encuestas['Inicio'] = datos_encuestas['Inicio'].map(lambda x:pasar_a_datetime(x))\n",
    "    datos_encuestas['Final'] = datos_encuestas['Final'].map(lambda x:pasar_a_datetime(x))\n",
    "\n",
    "    #datos_publicaciones['cantidad_likes'].quantile(0.95)\n",
    "    datos_publicaciones = datos_publicaciones[datos_publicaciones['cantidad_likes']<25000]\n",
    "\n",
    "    tabla_periodos = seleccionar_publicaciones_fecha(datos_encuestas,datos_publicaciones)\n",
    "\n",
    "    data = juntar_tablas_preparadas(tabla_periodos,partidos,fuentes,datos_encuestas)\n",
    "    \n",
    "    separar_fecha(data)\n",
    "    encoding_Fuente(data,fuentes)\n",
    "    return data"
   ]
  },
  {
   "cell_type": "code",
   "execution_count": 14,
   "metadata": {},
   "outputs": [],
   "source": [
    "primera_vuelta_poly['Inicio'] = primera_vuelta_poly['Inicio'].map(lambda x : pasar_a_datetime(x))\n",
    "primera_vuelta_poly = primera_vuelta_poly[primera_vuelta_poly['Inicio'].map(lambda x: x.year)==2023]\n",
    "primera_vuelta_poly['Inicio'] = primera_vuelta_poly['Inicio'].map(lambda x : str(x))"
   ]
  },
  {
   "cell_type": "code",
   "execution_count": 15,
   "metadata": {},
   "outputs": [],
   "source": [
    "data_primera_vuelta = listo_para_entrenar(publicaciones,primera_vuelta).dropna()\n",
    "data_solo_ballotaje = listo_para_entrenar(publicaciones,solo_ballotaje).dropna()"
   ]
  },
  {
   "cell_type": "code",
   "execution_count": 16,
   "metadata": {},
   "outputs": [],
   "source": [
    "data_encuestas_poly = listo_para_entrenar(publicaciones,primera_vuelta_poly).dropna()\n",
    "data_ballotaje_poly = listo_para_entrenar(publicaciones,ballotaje_poly).dropna()"
   ]
  },
  {
   "cell_type": "code",
   "execution_count": 17,
   "metadata": {},
   "outputs": [],
   "source": [
    "data_encuestas_poly.drop('anio',axis=1,inplace=True)\n",
    "data_ballotaje_poly.drop('anio',axis=1,inplace=True)"
   ]
  },
  {
   "cell_type": "code",
   "execution_count": 21,
   "metadata": {},
   "outputs": [],
   "source": [
    "data_primera_vuelta.to_csv('C:/Users/54911/OneDrive/Escritorio/Data Science/Elecciones + IA/modeling/Preparando_datos/data_primera_vuelta.csv',index=False)\n",
    "#data_median.to_csv('C:/Users/54911/OneDrive/Escritorio/Data Science/Elecciones + IA/modeling/data_median.csv',index=False)\n",
    "data_solo_ballotaje.to_csv('C:/Users/54911/OneDrive/Escritorio/Data Science/Elecciones + IA/modeling/Preparando_datos/data_solo_ballotaje.csv',index=False)"
   ]
  },
  {
   "cell_type": "code",
   "execution_count": 22,
   "metadata": {},
   "outputs": [],
   "source": [
    "data_ballotaje_poly.to_csv('C:/Users/54911/OneDrive/Escritorio/Data Science/Elecciones + IA/modeling/Preparando_datos/data_ballotaje_poly.csv',index=False)\n",
    "data_encuestas_poly.to_csv('C:/Users/54911/OneDrive/Escritorio/Data Science/Elecciones + IA/modeling/Preparando_datos/data_encuestas_poly.csv',index=False)"
   ]
  },
  {
   "cell_type": "code",
   "execution_count": null,
   "metadata": {},
   "outputs": [],
   "source": []
  }
 ],
 "metadata": {
  "kernelspec": {
   "display_name": "Python 3",
   "language": "python",
   "name": "python3"
  },
  "language_info": {
   "codemirror_mode": {
    "name": "ipython",
    "version": 3
   },
   "file_extension": ".py",
   "mimetype": "text/x-python",
   "name": "python",
   "nbconvert_exporter": "python",
   "pygments_lexer": "ipython3",
   "version": "3.11.2"
  }
 },
 "nbformat": 4,
 "nbformat_minor": 2
}
