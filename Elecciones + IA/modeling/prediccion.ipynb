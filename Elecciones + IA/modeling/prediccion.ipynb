{
 "cells": [
  {
   "cell_type": "code",
   "execution_count": 1,
   "metadata": {},
   "outputs": [
    {
     "name": "stdout",
     "output_type": "stream",
     "text": [
      "WARNING:tensorflow:From c:\\Users\\54911\\AppData\\Local\\Programs\\Python\\Python311\\Lib\\site-packages\\keras\\src\\losses.py:2976: The name tf.losses.sparse_softmax_cross_entropy is deprecated. Please use tf.compat.v1.losses.sparse_softmax_cross_entropy instead.\n",
      "\n"
     ]
    }
   ],
   "source": [
    "import matplotlib.pyplot as plt \n",
    "from datetime import datetime\n",
    "import numpy as np\n",
    "import pandas as pd\n",
    "import seaborn as sns\n",
    "from sklearn.preprocessing import StandardScaler\n",
    "from keras.models import load_model"
   ]
  },
  {
   "cell_type": "code",
   "execution_count": 2,
   "metadata": {},
   "outputs": [],
   "source": [
    "def pasar_a_datetime(fecha):\n",
    "    #format_string = '%Y-%m-%d'\n",
    "    anio,mes,dia= fecha.split('-')\n",
    "    aux_dia = dia.split(' ')\n",
    "    if len(aux_dia)>1:dia = aux_dia[0]\n",
    "    res = datetime(int(anio),int(mes),int(dia))\n",
    "    return res"
   ]
  },
  {
   "cell_type": "code",
   "execution_count": 3,
   "metadata": {},
   "outputs": [],
   "source": [
    "def scale_datasets(x_train, x_test):\n",
    "\n",
    "  \"\"\"\n",
    "  Standard Scale test and train data\n",
    "  Z - Score normalization\n",
    "  \"\"\"\n",
    "  standard_scaler = StandardScaler()\n",
    "  x_train_scaled = pd.DataFrame(\n",
    "      standard_scaler.fit_transform(x_train),\n",
    "      columns=x_train.columns\n",
    "  )\n",
    "  x_test_scaled = pd.DataFrame(\n",
    "      standard_scaler.transform(x_test),\n",
    "      columns = x_test.columns\n",
    "  )\n",
    "  return x_train_scaled, x_test_scaled"
   ]
  },
  {
   "cell_type": "code",
   "execution_count": 4,
   "metadata": {},
   "outputs": [],
   "source": [
    "publicaciones = pd.read_csv('C:/Users/54911/OneDrive/Escritorio/Data Science/Elecciones + IA/modeling/Preparando_datos/publicaciones_politicas.csv')"
   ]
  },
  {
   "cell_type": "code",
   "execution_count": 5,
   "metadata": {},
   "outputs": [],
   "source": [
    "def filtrar_fechas(datos_publicaciones, inicio, final):\n",
    "    aux_datos_publicaciones = datos_publicaciones['fecha'].map(lambda x:pasar_a_datetime(x))\n",
    "    res = datos_publicaciones[(aux_datos_publicaciones>pasar_a_datetime(inicio)) & (aux_datos_publicaciones<pasar_a_datetime(final))]\n",
    "    return res"
   ]
  },
  {
   "cell_type": "code",
   "execution_count": 6,
   "metadata": {},
   "outputs": [],
   "source": [
    "semana_1 = filtrar_fechas(publicaciones,'2023-10-15','2023-10-22')\n",
    "semana_2= filtrar_fechas(publicaciones,'2023-10-7','2023-10-16')"
   ]
  },
  {
   "cell_type": "code",
   "execution_count": 7,
   "metadata": {},
   "outputs": [],
   "source": [
    "def separar_fecha(data):\n",
    "    data['dia'] = ''\n",
    "    data['mes'] = ''\n",
    "    data['anio'] = ''\n",
    "    data['dia'] = data['fecha_mediana'].map(lambda x:x.day)\n",
    "    data['mes'] = data['fecha_mediana'].map(lambda x:x.month)\n",
    "    data['anio'] = data['fecha_mediana'].map(lambda x:x.year)"
   ]
  },
  {
   "cell_type": "code",
   "execution_count": 8,
   "metadata": {},
   "outputs": [],
   "source": [
    "def encoding_Fuente(tabla,fuentes):\n",
    "    #fuentes_labels = publicaciones['fuente'].unique()\n",
    "    numbers = [i+1 for i in range(len(fuentes))]\n",
    "    simple_encoding = dict(zip(fuentes,numbers))\n",
    "    tabla['Fuente'] = tabla['Fuente'].map(lambda x:simple_encoding[x])"
   ]
  },
  {
   "cell_type": "code",
   "execution_count": 9,
   "metadata": {},
   "outputs": [],
   "source": [
    "def formato_entrenado(datos_publicaciones_input):\n",
    "    datos_publicaciones = datos_publicaciones_input.copy()\n",
    "    datos_publicaciones['fecha']=datos_publicaciones['fecha'].map(lambda x:pasar_a_datetime(x))\n",
    "    fuentes = datos_publicaciones['fuente'].unique()\n",
    "    partidos = datos_publicaciones['Partido'].unique()\n",
    "    #datos_publicaciones['fecha'] = datos_publicaciones['fecha'].map(lambda x:pasar_a_datetime(x))\n",
    "\n",
    "    #datos_publicaciones['cantidad_likes'].quantile(0.95)\n",
    "    datos_publicaciones = datos_publicaciones[datos_publicaciones['cantidad_likes']<25000]\n",
    "\n",
    "    \n",
    "    agrupado_likes = datos_publicaciones.groupby(['Partido','fuente'])['cantidad_likes'].median()\n",
    "    fecha_median = datos_publicaciones['fecha'].median()\n",
    "\n",
    "    df = pd.DataFrame()\n",
    "\n",
    "    for p in list(partidos):\n",
    "\n",
    "        if p in agrupado_likes.index:\n",
    "            likes_partidos = agrupado_likes[p]\n",
    "            fuentes_partido = likes_partidos.index\n",
    "            likes_median = []\n",
    "\n",
    "            for c in fuentes:\n",
    "                if c in fuentes_partido:\n",
    "                    likes_median.append(likes_partidos[c])\n",
    "                else:\n",
    "                    likes_median.append(0)\n",
    "        \n",
    "            df[p] = likes_median\n",
    "        else:\n",
    "            df[p] = [0]*len(fuentes)\n",
    "\n",
    "\n",
    "    df['Fuente'] = fuentes\n",
    "    df['fecha_mediana'] = fecha_median\n",
    "\n",
    "    \n",
    "    separar_fecha(df)\n",
    "    df.drop(['fecha_mediana','anio'],axis=1,inplace=True)\n",
    "    encoding_Fuente(df,fuentes)\n",
    "    return df"
   ]
  },
  {
   "cell_type": "code",
   "execution_count": 10,
   "metadata": {},
   "outputs": [],
   "source": [
    "publicaciones['fecha']=publicaciones['fecha'].map(lambda x:pasar_a_datetime(x))"
   ]
  },
  {
   "cell_type": "code",
   "execution_count": 11,
   "metadata": {},
   "outputs": [],
   "source": [
    "semana_1_format = formato_entrenado(semana_1)\n",
    "semana_2_format = formato_entrenado(semana_2)"
   ]
  },
  {
   "cell_type": "code",
   "execution_count": 12,
   "metadata": {},
   "outputs": [
    {
     "name": "stdout",
     "output_type": "stream",
     "text": [
      "WARNING:tensorflow:From c:\\Users\\54911\\AppData\\Local\\Programs\\Python\\Python311\\Lib\\site-packages\\keras\\src\\saving\\legacy\\saved_model\\load.py:107: The name tf.gfile.Exists is deprecated. Please use tf.io.gfile.exists instead.\n",
      "\n",
      "WARNING:tensorflow:From c:\\Users\\54911\\AppData\\Local\\Programs\\Python\\Python311\\Lib\\site-packages\\keras\\src\\utils\\tf_utils.py:585: The name tf.executing_eagerly_outside_functions is deprecated. Please use tf.compat.v1.executing_eagerly_outside_functions instead.\n",
      "\n"
     ]
    }
   ],
   "source": [
    "model_primera_vuelta = load_model('C:/Users/54911/OneDrive/Escritorio/Data Science/Elecciones + IA/modeling/modelo_primera_vuelta')"
   ]
  },
  {
   "cell_type": "code",
   "execution_count": 13,
   "metadata": {},
   "outputs": [],
   "source": [
    "scaler = StandardScaler()\n",
    "semana_1_f_scaled = scaler.fit_transform(semana_1_format)\n",
    "semana_2_f_scaled = scaler.fit_transform(semana_2_format)"
   ]
  },
  {
   "cell_type": "code",
   "execution_count": 14,
   "metadata": {},
   "outputs": [
    {
     "name": "stdout",
     "output_type": "stream",
     "text": [
      "1/1 [==============================] - 1s 717ms/step\n",
      "1/1 [==============================] - 0s 41ms/step\n"
     ]
    }
   ],
   "source": [
    "prediccion_1 = model_primera_vuelta.predict(semana_1_f_scaled)\n",
    "prediccion_2 = model_primera_vuelta.predict(semana_2_f_scaled)"
   ]
  },
  {
   "cell_type": "code",
   "execution_count": 15,
   "metadata": {},
   "outputs": [],
   "source": [
    "def acomodar_prediccion(prediccion):\n",
    "    partidos = semana_1_format.columns[:5]\n",
    "\n",
    "    resultados_mean = []\n",
    "    for i in range(5):\n",
    "        resultados_mean.append(prediccion[:,i].mean())\n",
    "\n",
    "    total = sum(resultados_mean)\n",
    "    resultados_norm = []\n",
    "    for r in resultados_mean:\n",
    "        aux = 100*r/total\n",
    "        resultados_norm.append(aux)\n",
    "\n",
    "    resultados_norm = [round(x,1) for x in resultados_norm]\n",
    "\n",
    "    df = pd.DataFrame({'Partido':partidos,'Resultado':resultados_norm})\n",
    "\n",
    "    return df,resultados_norm"
   ]
  },
  {
   "cell_type": "code",
   "execution_count": 16,
   "metadata": {},
   "outputs": [],
   "source": [
    "partidos = semana_1_format.columns[:5]"
   ]
  },
  {
   "cell_type": "code",
   "execution_count": 17,
   "metadata": {},
   "outputs": [],
   "source": [
    "df,resultados_norm= acomodar_prediccion(prediccion_1)"
   ]
  },
  {
   "cell_type": "code",
   "execution_count": 18,
   "metadata": {},
   "outputs": [],
   "source": [
    "def obtener_dato_encuestas(datos_encuestas_input,fecha,partidos):\n",
    "    datos_encuestas = datos_encuestas_input.copy()\n",
    "    datos_encuestas['Inicio'] = datos_encuestas['Inicio'].map(lambda x:pasar_a_datetime(x))\n",
    "    datos_encuestas['Final'] = datos_encuestas['Final'].map(lambda x:pasar_a_datetime(x))\n",
    "\n",
    "    aux = datos_encuestas[(datos_encuestas['Inicio']<=pasar_a_datetime(fecha)) & (datos_encuestas['Final']>=pasar_a_datetime(fecha))][partidos].T.reset_index()\n",
    "    res = pd.DataFrame()\n",
    "    res['Partido'] = aux['index']\n",
    "    res['Esperado'] = [aux.iloc[i,1:].mean() for i in range(len(partidos))]\n",
    "    \n",
    "    return res"
   ]
  },
  {
   "cell_type": "code",
   "execution_count": 19,
   "metadata": {},
   "outputs": [],
   "source": [
    "Encuestas_primera_vuelta = pd.read_csv('C:/Users/54911/OneDrive/Escritorio/Data Science/Elecciones + IA/getting_data/encuestas/Encuestas_primera_vuelta.csv')"
   ]
  },
  {
   "cell_type": "code",
   "execution_count": 20,
   "metadata": {},
   "outputs": [],
   "source": [
    "esperado = obtener_dato_encuestas(Encuestas_primera_vuelta,'2023-5-1',partidos)"
   ]
  },
  {
   "cell_type": "code",
   "execution_count": 21,
   "metadata": {},
   "outputs": [],
   "source": [
    "comparando = pd.concat([df,esperado.drop('Partido',axis=1)],axis=1)"
   ]
  },
  {
   "cell_type": "code",
   "execution_count": 22,
   "metadata": {},
   "outputs": [],
   "source": [
    "comparando['Diferencia'] = (comparando['Resultado'] - comparando['Esperado'])"
   ]
  },
  {
   "cell_type": "code",
   "execution_count": 23,
   "metadata": {},
   "outputs": [
    {
     "data": {
      "text/plain": [
       "165.80999999999992"
      ]
     },
     "execution_count": 23,
     "metadata": {},
     "output_type": "execute_result"
    }
   ],
   "source": [
    "sum(comparando['Diferencia']**2)"
   ]
  },
  {
   "cell_type": "code",
   "execution_count": 24,
   "metadata": {},
   "outputs": [
    {
     "data": {
      "text/plain": [
       "<matplotlib.legend.Legend at 0x249573cc410>"
      ]
     },
     "execution_count": 24,
     "metadata": {},
     "output_type": "execute_result"
    },
    {
     "data": {
      "image/png": "[encoded data removed]",
      "text/plain": [
       "<Figure size 700x600 with 1 Axes>"
      ]
     },
     "metadata": {},
     "output_type": "display_data"
    }
   ],
   "source": [
    "plt.figure(figsize=(7,6))\n",
    "ax = plt.subplot()\n",
    "colores = ['green','r','y','blue','purple']\n",
    "bars = ax.bar(partidos,resultados_norm,color=colores[::-1])\n",
    "\n",
    "ax.bar_label(bars)\n",
    "\n",
    "colors = dict(zip(partidos,colores[::-1]))    \n",
    "labels = list(colors.keys())\n",
    "handles = [plt.Rectangle((0,0),1,1, color=colors[label]) for label in labels]\n",
    "\n",
    "\n",
    "plt.setp( ax.get_xticklabels(), visible=False)\n",
    "plt.setp( ax.get_yticklabels(), visible=False)\n",
    "ax.legend(handles, labels)"
   ]
  },
  {
   "cell_type": "markdown",
   "metadata": {},
   "source": [
    "# Ballotaje\n"
   ]
  },
  {
   "cell_type": "code",
   "execution_count": 20,
   "metadata": {},
   "outputs": [],
   "source": [
    "publicaciones_ballotaje = publicaciones[(publicaciones['Partido']=='La Libertad Avanza') | (publicaciones['Partido']=='Union por la Patria')]"
   ]
  },
  {
   "cell_type": "code",
   "execution_count": 21,
   "metadata": {},
   "outputs": [],
   "source": [
    "semana_1_ballotaje = publicaciones_ballotaje[(publicaciones_ballotaje['fecha']>datetime(2023,11,11)) & (publicaciones_ballotaje['fecha']<datetime(2023,11,19))]\n",
    "semana_2_ballotaje = publicaciones_ballotaje[(publicaciones_ballotaje['fecha']>datetime(2023,11,3)) & (publicaciones_ballotaje['fecha']<datetime(2023,11,11))]"
   ]
  },
  {
   "cell_type": "code",
   "execution_count": 22,
   "metadata": {},
   "outputs": [],
   "source": [
    "formato_entrenado_ballotaje_1 = formato_entrenado(semana_1_ballotaje)\n",
    "formato_entrenado_ballotaje_2 = formato_entrenado(semana_2_ballotaje)"
   ]
  },
  {
   "cell_type": "code",
   "execution_count": 23,
   "metadata": {},
   "outputs": [],
   "source": [
    "scaler = StandardScaler()\n",
    "ballotaje_scaled_1 = scaler.fit_transform(formato_entrenado_ballotaje_1)\n",
    "ballotaje_scaled_2 = scaler.fit_transform(formato_entrenado_ballotaje_2)"
   ]
  },
  {
   "cell_type": "code",
   "execution_count": 24,
   "metadata": {},
   "outputs": [],
   "source": [
    "modelo_ballotaje = load_model('C:/Users/54911/OneDrive/Escritorio/Data Science/Elecciones + IA/modeling/modelo_ballotaje')"
   ]
  },
  {
   "cell_type": "code",
   "execution_count": 25,
   "metadata": {},
   "outputs": [
    {
     "name": "stdout",
     "output_type": "stream",
     "text": [
      "1/1 [==============================] - 0s 168ms/step\n",
      "1/1 [==============================] - 0s 64ms/step\n"
     ]
    }
   ],
   "source": [
    "prediccion_1_ballotaje = modelo_ballotaje.predict(ballotaje_scaled_1)\n",
    "prediccion_2_ballotaje  = modelo_ballotaje.predict(ballotaje_scaled_2)"
   ]
  },
  {
   "cell_type": "code",
   "execution_count": 26,
   "metadata": {},
   "outputs": [],
   "source": [
    "partidos = formato_entrenado_ballotaje_1.columns[:2]"
   ]
  },
  {
   "cell_type": "code",
   "execution_count": 27,
   "metadata": {},
   "outputs": [],
   "source": [
    "resultados_mean = []\n",
    "resultados_std = []\n",
    "for i in range(2):\n",
    "    resultados_mean.append(prediccion_1_ballotaje[:,i].mean())\n",
    "    resultados_std.append(prediccion_1_ballotaje[:,i].std())\n"
   ]
  },
  {
   "cell_type": "code",
   "execution_count": 28,
   "metadata": {},
   "outputs": [],
   "source": [
    "total = sum(resultados_mean)\n",
    "resultados_norm = []\n",
    "for r in resultados_mean:\n",
    "    aux = 100*r/total\n",
    "    resultados_norm.append(aux)\n",
    "\n",
    "resultados_norm = [round(x,1) for x in resultados_norm]"
   ]
  },
  {
   "cell_type": "code",
   "execution_count": 29,
   "metadata": {},
   "outputs": [
    {
     "data": {
      "text/plain": [
       "<matplotlib.legend.Legend at 0x1e162b5e990>"
      ]
     },
     "execution_count": 29,
     "metadata": {},
     "output_type": "execute_result"
    },
    {
     "data": {
      "image/png": "[encoded data removed]",
      "text/plain": [
       "<Figure size 700x600 with 1 Axes>"
      ]
     },
     "metadata": {},
     "output_type": "display_data"
    }
   ],
   "source": [
    "plt.figure(figsize=(7,6))\n",
    "ax = plt.subplot()\n",
    "colores = ['green','r','y','blue','purple']\n",
    "bars = ax.bar(partidos,resultados_norm,color=colores[::-1])\n",
    "\n",
    "ax.bar_label(bars)\n",
    "\n",
    "colors = dict(zip(partidos,colores[::-1]))    \n",
    "labels = list(colors.keys())\n",
    "handles = [plt.Rectangle((0,0),1,1, color=colors[label]) for label in labels]\n",
    "\n",
    "\n",
    "plt.setp( ax.get_xticklabels(), visible=False)\n",
    "plt.setp( ax.get_yticklabels(), visible=False)\n",
    "ax.legend(handles, labels,loc='upper center', bbox_to_anchor=(0.5, -0.05))"
   ]
  },
  {
   "cell_type": "code",
   "execution_count": null,
   "metadata": {},
   "outputs": [],
   "source": []
  }
 ],
 "metadata": {
  "kernelspec": {
   "display_name": "Python 3",
   "language": "python",
   "name": "python3"
  },
  "language_info": {
   "codemirror_mode": {
    "name": "ipython",
    "version": 3
   },
   "file_extension": ".py",
   "mimetype": "text/x-python",
   "name": "python",
   "nbconvert_exporter": "python",
   "pygments_lexer": "ipython3",
   "version": "3.11.2"
  }
 },
 "nbformat": 4,
 "nbformat_minor": 2
}
