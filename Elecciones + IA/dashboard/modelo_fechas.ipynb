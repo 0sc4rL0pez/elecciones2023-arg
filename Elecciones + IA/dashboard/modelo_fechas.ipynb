{
 "cells": [
  {
   "cell_type": "code",
   "execution_count": 38,
   "metadata": {},
   "outputs": [],
   "source": [
    "from keras.models import Sequential\n",
    "from keras.layers import Dense, SimpleRNN,LSTM\n",
    "from keras.optimizers import Adam, SGD\n",
    "from sklearn.preprocessing import StandardScaler,MinMaxScaler \n",
    "from keras.layers import Dense, Dropout\n",
    "from sklearn.model_selection import train_test_split\n",
    "from keras.losses import MeanSquaredLogarithmicError,MeanSquaredError,MeanAbsolutePercentageError,Huber\n",
    "from keras.metrics import RootMeanSquaredError\n",
    "from sklearn.metrics import mean_squared_error"
   ]
  },
  {
   "cell_type": "code",
   "execution_count": 39,
   "metadata": {},
   "outputs": [],
   "source": [
    "import matplotlib.pyplot as plt \n",
    "from datetime import datetime,timedelta\n",
    "import numpy as np\n",
    "import pandas as pd\n",
    "import seaborn as sns\n",
    "from keras.models import load_model"
   ]
  },
  {
   "cell_type": "code",
   "execution_count": 40,
   "metadata": {},
   "outputs": [],
   "source": [
    "def pasar_a_datetime(fecha):\n",
    "    #format_string = '%Y-%m-%d'\n",
    "    anio,mes,dia= fecha.split('-')\n",
    "    aux_dia = dia.split(' ')\n",
    "    if len(aux_dia)>1:dia = aux_dia[0]\n",
    "    res = datetime(int(anio),int(mes),int(dia))\n",
    "    return res"
   ]
  },
  {
   "cell_type": "code",
   "execution_count": 41,
   "metadata": {},
   "outputs": [],
   "source": [
    "def scale_datasets(x_train, x_test):\n",
    "\n",
    "  \"\"\"\n",
    "  Standard Scale test and train data\n",
    "  Z - Score normalization\n",
    "  \"\"\"\n",
    "  standard_scaler = StandardScaler()\n",
    "  x_train_scaled = pd.DataFrame(\n",
    "      standard_scaler.fit_transform(x_train),\n",
    "      columns=x_train.columns\n",
    "  )\n",
    "  x_test_scaled = pd.DataFrame(\n",
    "      standard_scaler.transform(x_test),\n",
    "      columns = x_test.columns\n",
    "  )\n",
    "  return x_train_scaled, x_test_scaled"
   ]
  },
  {
   "cell_type": "code",
   "execution_count": 42,
   "metadata": {},
   "outputs": [],
   "source": [
    "def separar_fecha(data):\n",
    "    data['dia'] = ''\n",
    "    data['mes'] = ''\n",
    "    data['anio'] = ''\n",
    "    data['dia'] = data['fecha_mediana'].map(lambda x:x.day)\n",
    "    data['mes'] = data['fecha_mediana'].map(lambda x:x.month)\n",
    "    data['anio'] = data['fecha_mediana'].map(lambda x:x.year)"
   ]
  },
  {
   "cell_type": "code",
   "execution_count": 43,
   "metadata": {},
   "outputs": [],
   "source": [
    "def encoding_Fuente(tabla,fuentes):\n",
    "    #fuentes_labels = publicaciones['fuente'].unique()\n",
    "    numbers = [i+1 for i in range(len(fuentes))]\n",
    "    simple_encoding = dict(zip(fuentes,numbers))\n",
    "    tabla['Fuente'] = tabla['Fuente'].map(lambda x:simple_encoding[x])"
   ]
  },
  {
   "cell_type": "code",
   "execution_count": 44,
   "metadata": {},
   "outputs": [],
   "source": [
    "def formato_entrenado(datos_publicaciones_input,partidos):\n",
    "    datos_publicaciones = datos_publicaciones_input.copy()\n",
    "    datos_publicaciones['fecha']=datos_publicaciones['fecha'].map(lambda x:pasar_a_datetime(x))\n",
    "    fuentes = datos_publicaciones['fuente'].unique()\n",
    "    #partidos = datos_publicaciones['Partido'].unique()\n",
    "    #datos_publicaciones['fecha'] = datos_publicaciones['fecha'].map(lambda x:pasar_a_datetime(x))\n",
    "\n",
    "    #datos_publicaciones['cantidad_likes'].quantile(0.95)\n",
    "    datos_publicaciones = datos_publicaciones[datos_publicaciones['cantidad_likes']<25000]\n",
    "\n",
    "    \n",
    "    agrupado_likes = datos_publicaciones.groupby(['Partido','fuente'])['cantidad_likes'].median()\n",
    "    fecha_median = datos_publicaciones['fecha'].median()\n",
    "\n",
    "    df = pd.DataFrame()\n",
    "\n",
    "    for p in list(partidos):\n",
    "\n",
    "        if p in agrupado_likes.index:\n",
    "            likes_partidos = agrupado_likes[p]\n",
    "            fuentes_partido = likes_partidos.index\n",
    "            likes_median = []\n",
    "\n",
    "            for c in fuentes:\n",
    "                if c in fuentes_partido:\n",
    "                    likes_median.append(likes_partidos[c])\n",
    "                else:\n",
    "                    likes_median.append(0)\n",
    "        \n",
    "            df[p] = likes_median\n",
    "        else:\n",
    "            df[p] = [0]*len(fuentes)\n",
    "\n",
    "\n",
    "    df['Fuente'] = fuentes\n",
    "    df['fecha_mediana'] = fecha_median\n",
    "\n",
    "    \n",
    "    separar_fecha(df)\n",
    "    df.drop(['fecha_mediana','anio'],axis=1,inplace=True)\n",
    "    encoding_Fuente(df,fuentes)\n",
    "    return df"
   ]
  },
  {
   "cell_type": "code",
   "execution_count": 45,
   "metadata": {},
   "outputs": [],
   "source": [
    "def acomodar_prediccion(prediccion,datos_formateado):\n",
    "    partidos = datos_formateado.columns[:5]\n",
    "\n",
    "    resultados_mean = []\n",
    "    for i in range(5):\n",
    "        resultados_mean.append(prediccion[:,i].mean())\n",
    "\n",
    "    total = sum(resultados_mean)\n",
    "    resultados_norm = []\n",
    "    for r in resultados_mean:\n",
    "        aux = 100*r/total\n",
    "        resultados_norm.append(aux)\n",
    "\n",
    "    resultados_norm = [round(x,1) for x in resultados_norm]\n",
    "\n",
    "    df = pd.DataFrame({'Partido':partidos,'Resultado':resultados_norm})\n",
    "\n",
    "    return df"
   ]
  },
  {
   "cell_type": "code",
   "execution_count": 46,
   "metadata": {},
   "outputs": [],
   "source": [
    "def ordenar_fecha(data):\n",
    "    data['fecha_mediana'] = data['fecha_mediana'].map(lambda x: pasar_a_datetime(x))\n",
    "    data.sort_values(by='fecha_mediana',inplace=True)"
   ]
  },
  {
   "cell_type": "code",
   "execution_count": 47,
   "metadata": {},
   "outputs": [],
   "source": [
    "def preparar_datos_entrenamiento(X_train, X_test):\n",
    "    x_train_scaled, x_test_scaled,stdscaler = scale_datasets(X_train, X_test)\n",
    "    return x_train_scaled, x_test_scaled,stdscaler "
   ]
  },
  {
   "cell_type": "code",
   "execution_count": 48,
   "metadata": {},
   "outputs": [],
   "source": [
    "def modelo_arquitectura(in_dim,out_dim):\n",
    "    learning_rate = 0.0005\n",
    "    \n",
    "    metrica = RootMeanSquaredError()\n",
    "    perdida = MeanSquaredError()\n",
    "\n",
    "    model = Sequential()\n",
    "    model.add(Dense(units=in_dim,input_dim=in_dim,activation='softplus'))\n",
    "    model.add(Dense(units=(in_dim+out_dim)//2,activation='softplus'))\n",
    "    model.add(Dense(units=out_dim, activation='softplus')) \n",
    "    model.compile(loss=perdida, \n",
    "                optimizer=SGD(learning_rate=learning_rate,\n",
    "                              momentum=0.8), \n",
    "                metrics=[metrica]) \n",
    "    \n",
    "    return model"
   ]
  },
  {
   "cell_type": "code",
   "execution_count": 49,
   "metadata": {},
   "outputs": [],
   "source": [
    "def seleccionar_datos(datos):\n",
    "    cols = datos.columns.to_list()\n",
    "    idx = cols.index('Fuente')\n",
    "    x_cols = cols[:idx+1]+cols[-2:]\n",
    "    y_cols = cols[idx+2:-2]\n",
    "\n",
    "    x = datos.loc[:,x_cols]\n",
    "    y = datos.loc[:,y_cols]\n",
    "    return x,y"
   ]
  },
  {
   "cell_type": "markdown",
   "metadata": {},
   "source": [
    "# Idea\n",
    "\n",
    "Dada una fecha F,\n",
    "Selecionar datos del ajuste polinomial con 'fecha_mediana'<F\n",
    "\n",
    "Entrenar el modelo con esos datos y predecir para la fecha F\n",
    "Con los datos de las Publicaciones (Con una semana de ventana)\n",
    "\n",
    "Reportar MSE como puntaje para cada fecha en 'fecha_mediana'"
   ]
  },
  {
   "cell_type": "code",
   "execution_count": 50,
   "metadata": {},
   "outputs": [],
   "source": [
    "data_encuestas_poly = pd.read_csv('C:/Users/54911/OneDrive/Escritorio/Data Science/Elecciones + IA/modeling/Preparando_datos/data_encuestas_poly.csv')\n",
    "publicaciones = pd.read_csv('C:/Users/54911/OneDrive/Escritorio/Data Science/Elecciones + IA/modeling/Preparando_datos/publicaciones_politicas.csv')\n",
    "Encuestas_primera_vuelta = pd.read_csv('C:/Users/54911/OneDrive/Escritorio/Data Science/Elecciones + IA/getting_data/encuestas/Encuestas_primera_vuelta.csv')\n"
   ]
  },
  {
   "cell_type": "code",
   "execution_count": 51,
   "metadata": {},
   "outputs": [],
   "source": [
    "fechas_encuestas = data_encuestas_poly['fecha_mediana'].unique()"
   ]
  },
  {
   "cell_type": "code",
   "execution_count": 52,
   "metadata": {},
   "outputs": [],
   "source": [
    "def filtrar_data_fecha(datos, fecha):\n",
    "    res = datos[datos['fecha_mediana']<fecha]\n",
    "    return res"
   ]
  },
  {
   "cell_type": "code",
   "execution_count": 53,
   "metadata": {},
   "outputs": [],
   "source": [
    "def entrenar_modelo(datos):\n",
    "    ciclos = 300\n",
    "    x,y = seleccionar_datos(datos)\n",
    "    model = modelo_arquitectura(8, 5)\n",
    "    std_scaler = StandardScaler()\n",
    "\n",
    "    x_scaled = std_scaler.fit_transform(x)\n",
    "    model.fit(x_scaled,y, epochs=ciclos, verbose=0,batch_size=16)\n",
    "    return model,std_scaler\n"
   ]
  },
  {
   "cell_type": "code",
   "execution_count": 54,
   "metadata": {},
   "outputs": [],
   "source": [
    "def filtrar_fechas(datos_publicaciones, inicio, final):\n",
    "    aux_datos_publicaciones = datos_publicaciones['fecha'].map(lambda x:pasar_a_datetime(x))\n",
    "    res = datos_publicaciones[(aux_datos_publicaciones>inicio) & (aux_datos_publicaciones<final)]\n",
    "    return res"
   ]
  },
  {
   "cell_type": "code",
   "execution_count": 55,
   "metadata": {},
   "outputs": [],
   "source": [
    "def evaluar_modelo(model,fecha,datos_publicaciones,scaler):\n",
    "\n",
    "    fecha_final = datetime(2023,10,20)\n",
    "    semana = timedelta(days=14)\n",
    "    fecha_semana = fecha_final - semana\n",
    "    partidos = datos_publicaciones['Partido'].unique()\n",
    "    semana_1 = filtrar_fechas(datos_publicaciones,fecha_semana,fecha_final)\n",
    "    semana_1_format = formato_entrenado(semana_1,partidos)\n",
    "    semana_1_f_scaled = scaler.fit_transform(semana_1_format)\n",
    "    prediccion = model.predict(semana_1_f_scaled,verbose=0)\n",
    "\n",
    "    res = acomodar_prediccion(prediccion,semana_1_format)\n",
    "    return res\n",
    "\n",
    "    "
   ]
  },
  {
   "cell_type": "code",
   "execution_count": 56,
   "metadata": {},
   "outputs": [],
   "source": [
    "def calcularScore(df):\n",
    "    aux_encuestas = Encuestas_primera_vuelta.iloc[0,[2,0,1,3,4]].reset_index()\n",
    "    aux_encuestas.rename(columns=dict(zip(aux_encuestas.columns,['Partido','Esperado'])),inplace=True)\n",
    "    comparando = pd.concat([df,aux_encuestas],axis=1).dropna()\n",
    "    A = comparando['Resultado']\n",
    "    B = comparando['Esperado']\n",
    "    mse = -mean_squared_error(B,A)\n",
    "    return mse"
   ]
  },
  {
   "cell_type": "code",
   "execution_count": 57,
   "metadata": {},
   "outputs": [],
   "source": [
    "def entrenando_por_fechas(fechas):\n",
    "    dfs = []\n",
    "    fechas_errores = []\n",
    "    for k,f in enumerate(fechas):\n",
    "        datos_fecha = filtrar_data_fecha(data_encuestas_poly,f)\n",
    "        if len(datos_fecha)>0:\n",
    "            print(100*(k+1)/len(fechas))\n",
    "            model,scaler = entrenar_modelo(datos_fecha)\n",
    "            df = evaluar_modelo(model,f,publicaciones,scaler)\n",
    "            dfs.append(df)\n",
    "        else: fechas_errores.append(f)\n",
    "\n",
    "    return dfs\n",
    "    res = []\n",
    "    for df in dfs:\n",
    "        res.append(calcularScore(df))\n",
    "    return res,fechas_errores\n"
   ]
  },
  {
   "cell_type": "code",
   "execution_count": 58,
   "metadata": {},
   "outputs": [
    {
     "name": "stdout",
     "output_type": "stream",
     "text": [
      "100.0\n"
     ]
    }
   ],
   "source": [
    "df = entrenando_por_fechas(fechas_encuestas[5:6])"
   ]
  },
  {
   "cell_type": "code",
   "execution_count": 59,
   "metadata": {},
   "outputs": [
    {
     "data": {
      "text/html": [
       "<div>\n",
       "<style scoped>\n",
       "    .dataframe tbody tr th:only-of-type {\n",
       "        vertical-align: middle;\n",
       "    }\n",
       "\n",
       "    .dataframe tbody tr th {\n",
       "        vertical-align: top;\n",
       "    }\n",
       "\n",
       "    .dataframe thead th {\n",
       "        text-align: right;\n",
       "    }\n",
       "</style>\n",
       "<table border=\"1\" class=\"dataframe\">\n",
       "  <thead>\n",
       "    <tr style=\"text-align: right;\">\n",
       "      <th></th>\n",
       "      <th>Partido</th>\n",
       "      <th>Resultado</th>\n",
       "    </tr>\n",
       "  </thead>\n",
       "  <tbody>\n",
       "    <tr>\n",
       "      <th>0</th>\n",
       "      <td>La Libertad Avanza</td>\n",
       "      <td>32.4</td>\n",
       "    </tr>\n",
       "    <tr>\n",
       "      <th>1</th>\n",
       "      <td>Union por la Patria</td>\n",
       "      <td>38.3</td>\n",
       "    </tr>\n",
       "    <tr>\n",
       "      <th>2</th>\n",
       "      <td>Juntos por el Cambio</td>\n",
       "      <td>23.6</td>\n",
       "    </tr>\n",
       "    <tr>\n",
       "      <th>3</th>\n",
       "      <td>Frente de Izquierda y Trabajadores</td>\n",
       "      <td>2.6</td>\n",
       "    </tr>\n",
       "    <tr>\n",
       "      <th>4</th>\n",
       "      <td>Hacemos juntos nuestro Pais</td>\n",
       "      <td>3.1</td>\n",
       "    </tr>\n",
       "  </tbody>\n",
       "</table>\n",
       "</div>"
      ],
      "text/plain": [
       "                              Partido  Resultado\n",
       "0                  La Libertad Avanza       32.4\n",
       "1                 Union por la Patria       38.3\n",
       "2                Juntos por el Cambio       23.6\n",
       "3  Frente de Izquierda y Trabajadores        2.6\n",
       "4         Hacemos juntos nuestro Pais        3.1"
      ]
     },
     "execution_count": 59,
     "metadata": {},
     "output_type": "execute_result"
    }
   ],
   "source": [
    "df[0]"
   ]
  },
  {
   "cell_type": "code",
   "execution_count": 37,
   "metadata": {},
   "outputs": [
    {
     "data": {
      "text/html": [
       "<div>\n",
       "<style scoped>\n",
       "    .dataframe tbody tr th:only-of-type {\n",
       "        vertical-align: middle;\n",
       "    }\n",
       "\n",
       "    .dataframe tbody tr th {\n",
       "        vertical-align: top;\n",
       "    }\n",
       "\n",
       "    .dataframe thead th {\n",
       "        text-align: right;\n",
       "    }\n",
       "</style>\n",
       "<table border=\"1\" class=\"dataframe\">\n",
       "  <thead>\n",
       "    <tr style=\"text-align: right;\">\n",
       "      <th></th>\n",
       "      <th>Partido</th>\n",
       "      <th>Resultado</th>\n",
       "    </tr>\n",
       "  </thead>\n",
       "  <tbody>\n",
       "    <tr>\n",
       "      <th>0</th>\n",
       "      <td>La Libertad Avanza</td>\n",
       "      <td>32.4</td>\n",
       "    </tr>\n",
       "    <tr>\n",
       "      <th>1</th>\n",
       "      <td>Union por la Patria</td>\n",
       "      <td>38.3</td>\n",
       "    </tr>\n",
       "    <tr>\n",
       "      <th>2</th>\n",
       "      <td>Juntos por el Cambio</td>\n",
       "      <td>23.6</td>\n",
       "    </tr>\n",
       "    <tr>\n",
       "      <th>3</th>\n",
       "      <td>Frente de Izquierda y Trabajadores</td>\n",
       "      <td>2.6</td>\n",
       "    </tr>\n",
       "    <tr>\n",
       "      <th>4</th>\n",
       "      <td>Hacemos juntos nuestro Pais</td>\n",
       "      <td>3.1</td>\n",
       "    </tr>\n",
       "  </tbody>\n",
       "</table>\n",
       "</div>"
      ],
      "text/plain": [
       "                              Partido  Resultado\n",
       "0                  La Libertad Avanza       32.4\n",
       "1                 Union por la Patria       38.3\n",
       "2                Juntos por el Cambio       23.6\n",
       "3  Frente de Izquierda y Trabajadores        2.6\n",
       "4         Hacemos juntos nuestro Pais        3.1"
      ]
     },
     "execution_count": 37,
     "metadata": {},
     "output_type": "execute_result"
    }
   ],
   "source": [
    "df[0]"
   ]
  },
  {
   "cell_type": "code",
   "execution_count": 22,
   "metadata": {},
   "outputs": [],
   "source": [
    "data_scoring_fecha = pd.DataFrame()\n",
    "data_scoring_fecha['Fechas'] = fechas_encuestas[1:]\n",
    "data_scoring_fecha['Score'] = scores"
   ]
  },
  {
   "cell_type": "code",
   "execution_count": 23,
   "metadata": {},
   "outputs": [],
   "source": [
    "data_scoring_fecha.to_csv('C:/Users/54911/OneDrive/Escritorio/Data Science/Elecciones + IA/dashboard/data_scoring_fecha_1.csv',index=False)"
   ]
  },
  {
   "cell_type": "code",
   "execution_count": 26,
   "metadata": {},
   "outputs": [],
   "source": [
    "data = pd.read_csv('C:/Users/54911/OneDrive/Escritorio/Data Science/Elecciones + IA/dashboard/data_scoring_fecha.csv')"
   ]
  },
  {
   "cell_type": "code",
   "execution_count": null,
   "metadata": {},
   "outputs": [],
   "source": []
  }
 ],
 "metadata": {
  "kernelspec": {
   "display_name": "Python 3",
   "language": "python",
   "name": "python3"
  },
  "language_info": {
   "codemirror_mode": {
    "name": "ipython",
    "version": 3
   },
   "file_extension": ".py",
   "mimetype": "text/x-python",
   "name": "python",
   "nbconvert_exporter": "python",
   "pygments_lexer": "ipython3",
   "version": "3.11.2"
  }
 },
 "nbformat": 4,
 "nbformat_minor": 2
}
